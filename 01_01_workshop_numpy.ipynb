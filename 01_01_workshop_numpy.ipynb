{
  "nbformat": 4,
  "nbformat_minor": 0,
  "metadata": {
    "kernelspec": {
      "display_name": "Python 3",
      "language": "python",
      "name": "python3"
    },
    "language_info": {
      "codemirror_mode": {
        "name": "ipython",
        "version": 3
      },
      "file_extension": ".py",
      "mimetype": "text/x-python",
      "name": "python",
      "nbconvert_exporter": "python",
      "pygments_lexer": "ipython3",
      "version": "3.7.1"
    },
    "colab": {
      "name": "Copy of 01-01-workshop-numpy.ipynb",
      "provenance": [],
      "collapsed_sections": []
    }
  },
  "cells": [
    {
      "cell_type": "markdown",
      "metadata": {
        "id": "xEDDrTjf3c0v",
        "colab_type": "text"
      },
      "source": [
        "# 1.1 Numpy\n",
        "\n",
        "1. Скачайте этот ноутбук к себе.\n",
        "2. Заполните пропущенные ячейки, отвечая на заданные вопросы. Там должен быть код! (если не сказано обратное)\n",
        "3. Сохраните результат в своём гитхаб репозитории.\n",
        "\n",
        "#### Полезная литература\n",
        "\n",
        "- http://www.numpy.org/\n",
        "- https://jakevdp.github.io/PythonDataScienceHandbook/02.00-introduction-to-numpy.html\n",
        "- https://docs.scipy.org/doc/numpy/user/quickstart.html"
      ]
    },
    {
      "cell_type": "markdown",
      "metadata": {
        "id": "Y8NTPSWYCkuL",
        "colab_type": "text"
      },
      "source": [
        "## Часть 1 (19 баллов)"
      ]
    },
    {
      "cell_type": "markdown",
      "metadata": {
        "id": "_8usUaZw3c0z",
        "colab_type": "text"
      },
      "source": [
        "1) Импортировать numpy и написать версию (1 балл)"
      ]
    },
    {
      "cell_type": "code",
      "metadata": {
        "id": "DJoI3cBfSYIv",
        "colab_type": "code",
        "colab": {}
      },
      "source": [
        "import numpy as np"
      ],
      "execution_count": 0,
      "outputs": []
    },
    {
      "cell_type": "code",
      "metadata": {
        "id": "3pKE62cJ3c02",
        "colab_type": "code",
        "outputId": "4f5ce14e-01be-4a59-99c2-d0d758bf0442",
        "colab": {
          "base_uri": "https://localhost:8080/",
          "height": 34
        }
      },
      "source": [
        "numpy.version.version"
      ],
      "execution_count": 0,
      "outputs": [
        {
          "output_type": "execute_result",
          "data": {
            "text/plain": [
              "'1.16.5'"
            ]
          },
          "metadata": {
            "tags": []
          },
          "execution_count": 3
        }
      ]
    },
    {
      "cell_type": "markdown",
      "metadata": {
        "id": "rZ9_tUuB3c0_",
        "colab_type": "text"
      },
      "source": [
        "2) Создать нулевой вектор размера 10 (1 балл)"
      ]
    },
    {
      "cell_type": "code",
      "metadata": {
        "id": "sx92SQ9Q3c1C",
        "colab_type": "code",
        "outputId": "ec8de169-8243-4d6c-8ffe-b762b41ce278",
        "colab": {
          "base_uri": "https://localhost:8080/",
          "height": 34
        }
      },
      "source": [
        "np.zeros(10)"
      ],
      "execution_count": 0,
      "outputs": [
        {
          "output_type": "execute_result",
          "data": {
            "text/plain": [
              "array([0., 0., 0., 0., 0., 0., 0., 0., 0., 0.])"
            ]
          },
          "metadata": {
            "tags": []
          },
          "execution_count": 10
        }
      ]
    },
    {
      "cell_type": "markdown",
      "metadata": {
        "id": "cd_BgkDc3c1I",
        "colab_type": "text"
      },
      "source": [
        "3) Создать вектор заполненный 7-ами размера 7 (2 балла)\n"
      ]
    },
    {
      "cell_type": "code",
      "metadata": {
        "id": "pFjymd7P3c1K",
        "colab_type": "code",
        "outputId": "d307cc24-9584-40a0-a725-578e1afcff66",
        "colab": {
          "base_uri": "https://localhost:8080/",
          "height": 34
        }
      },
      "source": [
        "np.full(7, 7)"
      ],
      "execution_count": 0,
      "outputs": [
        {
          "output_type": "execute_result",
          "data": {
            "text/plain": [
              "array([7, 7, 7, 7, 7, 7, 7])"
            ]
          },
          "metadata": {
            "tags": []
          },
          "execution_count": 11
        }
      ]
    },
    {
      "cell_type": "markdown",
      "metadata": {
        "id": "gBS80NH53c1P",
        "colab_type": "text"
      },
      "source": [
        "4) Создать вектор заполненный четными числами от 10 до 100 включительно (2 балла)"
      ]
    },
    {
      "cell_type": "code",
      "metadata": {
        "id": "Zwynbeg_3c1Q",
        "colab_type": "code",
        "outputId": "2eff35da-99e5-401c-c6b7-d5294e618faa",
        "colab": {
          "base_uri": "https://localhost:8080/",
          "height": 84
        }
      },
      "source": [
        "np.arange(10,101,2)"
      ],
      "execution_count": 0,
      "outputs": [
        {
          "output_type": "execute_result",
          "data": {
            "text/plain": [
              "array([ 10,  12,  14,  16,  18,  20,  22,  24,  26,  28,  30,  32,  34,\n",
              "        36,  38,  40,  42,  44,  46,  48,  50,  52,  54,  56,  58,  60,\n",
              "        62,  64,  66,  68,  70,  72,  74,  76,  78,  80,  82,  84,  86,\n",
              "        88,  90,  92,  94,  96,  98, 100])"
            ]
          },
          "metadata": {
            "tags": []
          },
          "execution_count": 18
        }
      ]
    },
    {
      "cell_type": "markdown",
      "metadata": {
        "id": "FhO90mV63c1X",
        "colab_type": "text"
      },
      "source": [
        "5) Создать массив случайных чисел и развернуть его задом наперёд (4 балла)"
      ]
    },
    {
      "cell_type": "code",
      "metadata": {
        "id": "de4nD5Ye3c1Z",
        "colab_type": "code",
        "outputId": "c5b4dd2f-1c26-4698-a871-40765c8229da",
        "colab": {
          "base_uri": "https://localhost:8080/",
          "height": 67
        }
      },
      "source": [
        "np.random.random(15)[::-1]"
      ],
      "execution_count": 0,
      "outputs": [
        {
          "output_type": "execute_result",
          "data": {
            "text/plain": [
              "array([0.73511529, 0.43374869, 0.56038763, 0.48631319, 0.42525817,\n",
              "       0.4945572 , 0.05767311, 0.68556282, 0.20371541, 0.66405757,\n",
              "       0.77645955, 0.29561952, 0.05999219, 0.62436556, 0.35068031])"
            ]
          },
          "metadata": {
            "tags": []
          },
          "execution_count": 14
        }
      ]
    },
    {
      "cell_type": "markdown",
      "metadata": {
        "id": "CInYc9pC3c1e",
        "colab_type": "text"
      },
      "source": [
        "6) Создать двумерную матрицу размера 3 на 3, заполненную числами от 0 до 9 (4 балла)"
      ]
    },
    {
      "cell_type": "code",
      "metadata": {
        "id": "TBbViWEr3c1f",
        "colab_type": "code",
        "outputId": "82cd4f71-067e-4865-e549-f49379d7cc12",
        "colab": {
          "base_uri": "https://localhost:8080/",
          "height": 67
        }
      },
      "source": [
        "np.arange(0,9,1).reshape((3,3))"
      ],
      "execution_count": 0,
      "outputs": [
        {
          "output_type": "execute_result",
          "data": {
            "text/plain": [
              "array([[0, 1, 2],\n",
              "       [3, 4, 5],\n",
              "       [6, 7, 8]])"
            ]
          },
          "metadata": {
            "tags": []
          },
          "execution_count": 20
        }
      ]
    },
    {
      "cell_type": "markdown",
      "metadata": {
        "id": "nSbf7GB-3c1k",
        "colab_type": "text"
      },
      "source": [
        "7) Создать матрицу размера 4 на 4 с единицами на диагонали смещеной на один наверх. (5 баллов)"
      ]
    },
    {
      "cell_type": "code",
      "metadata": {
        "id": "wbC7lquy3c1m",
        "colab_type": "code",
        "outputId": "8d7cdd8a-1ad6-4d96-b399-fd2d8b168a20",
        "colab": {
          "base_uri": "https://localhost:8080/",
          "height": 84
        }
      },
      "source": [
        "np.eye(4, k=1)"
      ],
      "execution_count": 0,
      "outputs": [
        {
          "output_type": "execute_result",
          "data": {
            "text/plain": [
              "array([[0., 1., 0., 0.],\n",
              "       [0., 0., 1., 0.],\n",
              "       [0., 0., 0., 1.],\n",
              "       [0., 0., 0., 0.]])"
            ]
          },
          "metadata": {
            "tags": []
          },
          "execution_count": 3
        }
      ]
    },
    {
      "cell_type": "markdown",
      "metadata": {
        "id": "eW7tC35y3c1q",
        "colab_type": "text"
      },
      "source": [
        "## Часть 2 (26 баллов)"
      ]
    },
    {
      "cell_type": "markdown",
      "metadata": {
        "id": "E2SzUleV3c1s",
        "colab_type": "text"
      },
      "source": [
        "1) Создать матрицу с числами в диапазоне от 1 до 4 по диагонали. В других ячейках матрицы должны быть семерки. (2 балла)"
      ]
    },
    {
      "cell_type": "code",
      "metadata": {
        "id": "a-nFesOU3c1v",
        "colab_type": "code",
        "outputId": "da937fbf-5aa1-4381-ec01-7bf9b48daeeb",
        "colab": {
          "base_uri": "https://localhost:8080/",
          "height": 84
        }
      },
      "source": [
        "matr = np.full((4,4),7)\n",
        "for i in range(1,matr.shape[0]+1):\n",
        "  matr[i-1,i-1] = i\n",
        "print(matr)"
      ],
      "execution_count": 0,
      "outputs": [
        {
          "output_type": "stream",
          "text": [
            "[[1 7 7 7]\n",
            " [7 2 7 7]\n",
            " [7 7 3 7]\n",
            " [7 7 7 4]]\n"
          ],
          "name": "stdout"
        }
      ]
    },
    {
      "cell_type": "markdown",
      "metadata": {
        "id": "h2-CQcQQ3c10",
        "colab_type": "text"
      },
      "source": [
        "2) Создать матрицу размера 5 на 5 заполненную чилами от 0 до 4 в строках. (2 балла)"
      ]
    },
    {
      "cell_type": "code",
      "metadata": {
        "id": "mqQT3x-a3c13",
        "colab_type": "code",
        "outputId": "2d94d90c-a793-48fc-c903-acf8816d8579",
        "colab": {
          "base_uri": "https://localhost:8080/",
          "height": 101
        }
      },
      "source": [
        "matr = np.zeros((5,5))\n",
        "for i in range(0, matr.shape[0]):\n",
        "  for j in range(0, matr.shape[0]):\n",
        "    matr[i,j] = j\n",
        "matr"
      ],
      "execution_count": 0,
      "outputs": [
        {
          "output_type": "execute_result",
          "data": {
            "text/plain": [
              "array([[0., 1., 2., 3., 4.],\n",
              "       [0., 1., 2., 3., 4.],\n",
              "       [0., 1., 2., 3., 4.],\n",
              "       [0., 1., 2., 3., 4.],\n",
              "       [0., 1., 2., 3., 4.]])"
            ]
          },
          "metadata": {
            "tags": []
          },
          "execution_count": 12
        }
      ]
    },
    {
      "cell_type": "markdown",
      "metadata": {
        "id": "NbqXnGtF3c17",
        "colab_type": "text"
      },
      "source": [
        "3) Создать матрицу случайных чисел размера 10 на 10 и отнять среднее по строкам из каждого элемента строки (3 балла)"
      ]
    },
    {
      "cell_type": "code",
      "metadata": {
        "id": "rSVnkFco3c19",
        "colab_type": "code",
        "outputId": "ec1447e2-2058-4c5e-e8ef-85804e886973",
        "colab": {
          "base_uri": "https://localhost:8080/",
          "height": 353
        }
      },
      "source": [
        "a = np.random.random((10,10))\n",
        "b = np.mean(a[:,:10], axis = 1)\n",
        "c = np.zeros((10,10))\n",
        "for i in range(0,10):\n",
        "  c[i,:] = a[i,:] - b[i]\n",
        "print(c)"
      ],
      "execution_count": 0,
      "outputs": [
        {
          "output_type": "stream",
          "text": [
            "[[ 0.37211534 -0.49838785  0.27143895  0.14436907 -0.40681301 -0.18284184\n",
            "  -0.36295729  0.27723476  0.38454156  0.00130031]\n",
            " [ 0.10666942 -0.50594951 -0.26284002  0.13603618  0.32591676 -0.39295944\n",
            "  -0.10978785 -0.0606051   0.39994925  0.36357032]\n",
            " [ 0.36083536 -0.00561559  0.0063346   0.10978319 -0.1052944   0.27296836\n",
            "   0.14950953 -0.22251973 -0.3224356  -0.24356571]\n",
            " [ 0.10823421  0.22849487 -0.2766607  -0.45384556  0.04733467 -0.25428917\n",
            "   0.34811912  0.32834508 -0.27466063  0.19892813]\n",
            " [-0.37134556 -0.35621337  0.36144566  0.47589051 -0.07946492  0.04888538\n",
            "  -0.01674933  0.27288379  0.1304381  -0.46577026]\n",
            " [ 0.28439648 -0.11442481  0.47363308 -0.13771939 -0.36122101  0.49492981\n",
            "   0.00201902 -0.38184869  0.10362939 -0.36339387]\n",
            " [ 0.24794578  0.11955803 -0.35306889  0.37906535 -0.36333936 -0.048589\n",
            "  -0.03870133 -0.30563799  0.15312883  0.20963857]\n",
            " [ 0.01316817 -0.28105756 -0.19618354  0.39095612  0.20470132  0.1069322\n",
            "   0.32473869 -0.04613192 -0.19516661 -0.32195687]\n",
            " [ 0.07990545 -0.35728848 -0.4211957  -0.1478259   0.16090897  0.13211633\n",
            "   0.43464932 -0.15318364  0.19704765  0.07486601]\n",
            " [-0.03647976  0.214256   -0.41777894 -0.17454128  0.28235943  0.14092464\n",
            "   0.04953722  0.03276348  0.35859363 -0.44963442]]\n"
          ],
          "name": "stdout"
        }
      ]
    },
    {
      "cell_type": "markdown",
      "metadata": {
        "id": "4o-V5Ekp3c2B",
        "colab_type": "text"
      },
      "source": [
        "4) Создать матрицу случайных чисел размера 10 на 10 и отнять медиану по столбцам из каждого элемента столбца (4 балла)"
      ]
    },
    {
      "cell_type": "code",
      "metadata": {
        "id": "Ht70ullB3c2C",
        "colab_type": "code",
        "outputId": "a6131c78-0ff1-4ae7-8e86-6b3ce32aa555",
        "colab": {
          "base_uri": "https://localhost:8080/",
          "height": 353
        }
      },
      "source": [
        "a = np.random.random((10,10))\n",
        "b = np.median(a[:,:10], axis = 1)\n",
        "c = np.zeros((10,10))\n",
        "for i in range(0,10):\n",
        "  c[i,:] = a[i,:] - b[i]\n",
        "print(c)"
      ],
      "execution_count": 0,
      "outputs": [
        {
          "output_type": "stream",
          "text": [
            "[[-0.42485957  0.26483016  0.1817284   0.12926989  0.09778288 -0.54638998\n",
            "  -0.37477555 -0.09778288 -0.24531072  0.2125161 ]\n",
            " [ 0.10170116 -0.3222001  -0.47460712 -0.19881048  0.0435863   0.38997596\n",
            "  -0.0435863   0.10839998  0.2510303  -0.15391652]\n",
            " [ 0.035188    0.20771443  0.27944358  0.0794456  -0.035188   -0.23552437\n",
            "   0.25171671 -0.5324026  -0.06076182 -0.48418202]\n",
            " [-0.09725193 -0.12504529 -0.05589605  0.03331868 -0.01930891  0.49183845\n",
            "  -0.08362518  0.59404991  0.48079873  0.01930891]\n",
            " [-0.5718755  -0.44299304 -0.0011287  -0.54016339 -0.40522931  0.09289816\n",
            "   0.0011287   0.40757071  0.20612134  0.21431885]\n",
            " [ 0.25777085  0.59509621 -0.1089572  -0.24840034  0.41855762 -0.02529741\n",
            "   0.35055929 -0.08928307 -0.28319221  0.02529741]\n",
            " [ 0.14675537  0.46479212 -0.13308036 -0.19702574  0.38957919 -0.06638921\n",
            "   0.5835732  -0.20518305  0.06638921 -0.11114385]\n",
            " [ 0.06419439  0.42146636 -0.0330859  -0.23176282  0.57897561 -0.02699827\n",
            "   0.02699827 -0.10130123 -0.0500884   0.51028371]\n",
            " [-0.39966984 -0.07982517 -0.19735919 -0.31918824 -0.28092124  0.35929969\n",
            "   0.21010179  0.38426777  0.07982517  0.13258735]\n",
            " [-0.10469519 -0.00410375  0.18032903 -0.17412496  0.17671074  0.00410375\n",
            "   0.42787851 -0.15801681 -0.08269752  0.50020276]]\n"
          ],
          "name": "stdout"
        }
      ]
    },
    {
      "cell_type": "markdown",
      "metadata": {
        "id": "DpCnBCgY3c2G",
        "colab_type": "text"
      },
      "source": [
        "5) Создать матрицу случайных чисел 5x5. Добавить к ней столбцы максимумов и минимумов по строкам. Получится матрица 5x7. (4 балла) "
      ]
    },
    {
      "cell_type": "code",
      "metadata": {
        "id": "WW-qwkip3c2I",
        "colab_type": "code",
        "outputId": "6b5a2bef-3d12-4d97-d4c0-76a610f0ec0e",
        "colab": {
          "base_uri": "https://localhost:8080/",
          "height": 185
        }
      },
      "source": [
        "a = np.random.random((5,5))\n",
        "b = np.amax(a, axis = 1).reshape((5,1))\n",
        "c = np.amin(a, axis = 1).reshape((5,1))\n",
        "a = np.append(a,b,axis = 1)\n",
        "a = np.append(a,c,axis = 1)\n",
        "print(a)\n"
      ],
      "execution_count": 0,
      "outputs": [
        {
          "output_type": "stream",
          "text": [
            "[[0.52999388 0.88515983 0.24049499 0.66696124 0.46431541 0.88515983\n",
            "  0.24049499]\n",
            " [0.0987557  0.69973883 0.16540962 0.04279191 0.93263924 0.93263924\n",
            "  0.04279191]\n",
            " [0.04878253 0.8691942  0.14752592 0.72245599 0.29992266 0.8691942\n",
            "  0.04878253]\n",
            " [0.78572682 0.80712566 0.20326641 0.2393765  0.53153157 0.80712566\n",
            "  0.20326641]\n",
            " [0.10570735 0.84884871 0.59921535 0.92024586 0.46077285 0.92024586\n",
            "  0.10570735]]\n"
          ],
          "name": "stdout"
        }
      ]
    },
    {
      "cell_type": "markdown",
      "metadata": {
        "id": "WDmNazJU3c2M",
        "colab_type": "text"
      },
      "source": [
        "6) Вектор чисел от 1 до 50 преобразовать в вектор нечетных чисел и в вектор четных чисел, поменять их размерности, чтобы получились две матрицы. Найти произведение этих матриц. Найти обратную матрицу этого произведения.  (6 баллов)"
      ]
    },
    {
      "cell_type": "code",
      "metadata": {
        "id": "WSpTw7Hz3c2N",
        "colab_type": "code",
        "outputId": "7e386f6e-f2b5-4ab5-b20b-60d0edb0d63b",
        "colab": {
          "base_uri": "https://localhost:8080/",
          "height": 118
        }
      },
      "source": [
        "vector = np.arange(1,51,1)\n",
        "odd = [i for i in vector if i%2 == 1 ]\n",
        "even = [i for i in vector if i%2 == 0 ]\n",
        "even = np.reshape(even, (5,5))\n",
        "odd = np.reshape(odd, (5,5))\n",
        "mult = odd@even\n",
        "print(mult)\n",
        "print(np.linalg.det(mult))#определитель 0 = нет отбратной"
      ],
      "execution_count": 4,
      "outputs": [
        {
          "output_type": "stream",
          "text": [
            "[[ 750  800  850  900  950]\n",
            " [1850 2000 2150 2300 2450]\n",
            " [2950 3200 3450 3700 3950]\n",
            " [4050 4400 4750 5100 5450]\n",
            " [5150 5600 6050 6500 6950]]\n",
            "0.0\n"
          ],
          "name": "stdout"
        }
      ]
    },
    {
      "cell_type": "markdown",
      "metadata": {
        "id": "gLEf2sBp3c2S",
        "colab_type": "text"
      },
      "source": [
        "7) Создать 8x8 матрицу и заполнить её в шахматном порядке нулями и единицами. (5 баллов)"
      ]
    },
    {
      "cell_type": "code",
      "metadata": {
        "id": "im-KzI8-3c2S",
        "colab_type": "code",
        "outputId": "a654c882-3ae6-405b-b841-19114f8f73c9",
        "colab": {
          "base_uri": "https://localhost:8080/",
          "height": 151
        }
      },
      "source": [
        "Z = np.zeros((8,8), dtype=int)\n",
        "Z[1::2,::2] = 1\n",
        "Z[::2,1::2] = 1\n",
        "print(Z)"
      ],
      "execution_count": 0,
      "outputs": [
        {
          "output_type": "stream",
          "text": [
            "[[0 1 0 1 0 1 0 1]\n",
            " [1 0 1 0 1 0 1 0]\n",
            " [0 1 0 1 0 1 0 1]\n",
            " [1 0 1 0 1 0 1 0]\n",
            " [0 1 0 1 0 1 0 1]\n",
            " [1 0 1 0 1 0 1 0]\n",
            " [0 1 0 1 0 1 0 1]\n",
            " [1 0 1 0 1 0 1 0]]\n"
          ],
          "name": "stdout"
        }
      ]
    }
  ]
}