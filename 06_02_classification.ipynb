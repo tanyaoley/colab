{
  "nbformat": 4,
  "nbformat_minor": 0,
  "metadata": {
    "colab": {
      "name": "Copy__of 06-02-classification.ipynb",
      "provenance": [],
      "collapsed_sections": [],
      "include_colab_link": true
    },
    "kernelspec": {
      "name": "python3",
      "display_name": "Python 3"
    }
  },
  "cells": [
    {
      "cell_type": "markdown",
      "metadata": {
        "id": "view-in-github",
        "colab_type": "text"
      },
      "source": [
        "<a href=\"https://colab.research.google.com/github/tanyaoley/colab/blob/master/06_02_classification.ipynb\" target=\"_parent\"><img src=\"https://colab.research.google.com/assets/colab-badge.svg\" alt=\"Open In Colab\"/></a>"
      ]
    },
    {
      "cell_type": "markdown",
      "metadata": {
        "id": "7FmjN48fRk3A",
        "colab_type": "text"
      },
      "source": [
        "# 6.2 Классификация.Фильмы\n",
        "\n",
        "Для тех, кто хочет поставить точку в рекомендательных системах.\n",
        "\n",
        "### Рекомендательная система и kNN\n",
        "\n",
        "В прошлый раз мы использовали kMeans, тоже метрический алгоритм, но кластеризации, для построения \"рекомендательной ситсемы\". На самом деле тогда вы строили кластеры жанров/фильмов на основе предпочтений пользователей.  \n",
        "\n",
        "Теперь попробуем kNN для рекомендаций. Мы построим модель, в которой не будет кластеров, но которая сможет выводить список наиболее похожих фильмов для заданного.\n",
        "\n",
        "Подготовка датасета похожа на то, что мы уже делали. Отличаться будет только последний пункт, когда мы запустим kNN с косинусной метрикой.\n",
        "\n",
        "Будем использовать известный нам [датасет с оценками фильмов](http://www.cs.umn.edu/GroupLens). Только в этот раз мы не будем кластеризовывать жанры, а будем рекомендовать похожие фильмы, основываясь на оценках других пользователей. То есть мы будем по факту предсказывать предпочтение нового пользователя на основе других.\n",
        "\n",
        "Для рекомендательной системы в датасете в объектами будут пользователи, а признаками - оценки фильма данным пользователем.\n",
        "\n",
        "![](https://i.imgur.com/hn3xjZl.png)\n",
        "\n",
        "Мы будем использовать метрический алгоритм для поиска ближайших соседей, тем самым рекомендовать фильмы близкие к данному."
      ]
    },
    {
      "cell_type": "code",
      "metadata": {
        "id": "QEmPRyd3Rk3D",
        "colab_type": "code",
        "colab": {}
      },
      "source": [
        "import pandas as pd\n",
        "import numpy as np\n",
        "from matplotlib import pyplot as plt\n",
        "import seaborn as sns\n",
        "%matplotlib inline"
      ],
      "execution_count": 0,
      "outputs": []
    },
    {
      "cell_type": "code",
      "metadata": {
        "id": "7A1OgSgaRk3J",
        "colab_type": "code",
        "outputId": "f95ec831-28b5-4735-a484-b8eb299e71b1",
        "colab": {
          "base_uri": "https://localhost:8080/",
          "height": 161
        }
      },
      "source": [
        "colab = True \n",
        "if colab:\n",
        "    from google.colab import drive\n",
        "    drive.mount('/content/drive/')\n",
        "    movies = pd.read_csv('/content/drive/My Drive/Data/imdb_movies.csv.gz', index_col='movieId')\n",
        "    ratings = pd.read_csv('/content/drive/My Drive/Data/imdb_ratings.csv.gz')\n",
        "else:\n",
        "    movies = pd.read_csv('../../data/imdb_movies.csv.gz', index_col='movieId')\n",
        "    ratings = pd.read_csv('../../data/imdb_ratings.csv.gz')\n",
        "print(movies.shape)\n",
        "print(ratings.shape)"
      ],
      "execution_count": 2,
      "outputs": [
        {
          "output_type": "stream",
          "text": [
            "Go to this URL in a browser: https://accounts.google.com/o/oauth2/auth?client_id=947318989803-6bn6qk8qdgf4n4g3pfee6491hc0brc4i.apps.googleusercontent.com&redirect_uri=urn%3aietf%3awg%3aoauth%3a2.0%3aoob&response_type=code&scope=email%20https%3a%2f%2fwww.googleapis.com%2fauth%2fdocs.test%20https%3a%2f%2fwww.googleapis.com%2fauth%2fdrive%20https%3a%2f%2fwww.googleapis.com%2fauth%2fdrive.photos.readonly%20https%3a%2f%2fwww.googleapis.com%2fauth%2fpeopleapi.readonly\n",
            "\n",
            "Enter your authorization code:\n",
            "··········\n",
            "Mounted at /content/drive/\n",
            "(9125, 2)\n",
            "(100004, 4)\n"
          ],
          "name": "stdout"
        }
      ]
    },
    {
      "cell_type": "code",
      "metadata": {
        "id": "gSg7jKkyRk3Q",
        "colab_type": "code",
        "outputId": "c16220e5-2cde-4a73-8479-8248342d95b4",
        "colab": {
          "base_uri": "https://localhost:8080/",
          "height": 223
        }
      },
      "source": [
        "movies.head()"
      ],
      "execution_count": 3,
      "outputs": [
        {
          "output_type": "execute_result",
          "data": {
            "text/html": [
              "<div>\n",
              "<style scoped>\n",
              "    .dataframe tbody tr th:only-of-type {\n",
              "        vertical-align: middle;\n",
              "    }\n",
              "\n",
              "    .dataframe tbody tr th {\n",
              "        vertical-align: top;\n",
              "    }\n",
              "\n",
              "    .dataframe thead th {\n",
              "        text-align: right;\n",
              "    }\n",
              "</style>\n",
              "<table border=\"1\" class=\"dataframe\">\n",
              "  <thead>\n",
              "    <tr style=\"text-align: right;\">\n",
              "      <th></th>\n",
              "      <th>title</th>\n",
              "      <th>genres</th>\n",
              "    </tr>\n",
              "    <tr>\n",
              "      <th>movieId</th>\n",
              "      <th></th>\n",
              "      <th></th>\n",
              "    </tr>\n",
              "  </thead>\n",
              "  <tbody>\n",
              "    <tr>\n",
              "      <th>1</th>\n",
              "      <td>Toy Story (1995)</td>\n",
              "      <td>Adventure|Animation|Children|Comedy|Fantasy</td>\n",
              "    </tr>\n",
              "    <tr>\n",
              "      <th>2</th>\n",
              "      <td>Jumanji (1995)</td>\n",
              "      <td>Adventure|Children|Fantasy</td>\n",
              "    </tr>\n",
              "    <tr>\n",
              "      <th>3</th>\n",
              "      <td>Grumpier Old Men (1995)</td>\n",
              "      <td>Comedy|Romance</td>\n",
              "    </tr>\n",
              "    <tr>\n",
              "      <th>4</th>\n",
              "      <td>Waiting to Exhale (1995)</td>\n",
              "      <td>Comedy|Drama|Romance</td>\n",
              "    </tr>\n",
              "    <tr>\n",
              "      <th>5</th>\n",
              "      <td>Father of the Bride Part II (1995)</td>\n",
              "      <td>Comedy</td>\n",
              "    </tr>\n",
              "  </tbody>\n",
              "</table>\n",
              "</div>"
            ],
            "text/plain": [
              "                                      title                                       genres\n",
              "movieId                                                                                 \n",
              "1                          Toy Story (1995)  Adventure|Animation|Children|Comedy|Fantasy\n",
              "2                            Jumanji (1995)                   Adventure|Children|Fantasy\n",
              "3                   Grumpier Old Men (1995)                               Comedy|Romance\n",
              "4                  Waiting to Exhale (1995)                         Comedy|Drama|Romance\n",
              "5        Father of the Bride Part II (1995)                                       Comedy"
            ]
          },
          "metadata": {
            "tags": []
          },
          "execution_count": 3
        }
      ]
    },
    {
      "cell_type": "code",
      "metadata": {
        "id": "AZMOGLAJRk3U",
        "colab_type": "code",
        "outputId": "494738cd-d80f-49c4-a147-a03073a1e707",
        "colab": {
          "base_uri": "https://localhost:8080/",
          "height": 194
        }
      },
      "source": [
        "ratings.head()"
      ],
      "execution_count": 4,
      "outputs": [
        {
          "output_type": "execute_result",
          "data": {
            "text/html": [
              "<div>\n",
              "<style scoped>\n",
              "    .dataframe tbody tr th:only-of-type {\n",
              "        vertical-align: middle;\n",
              "    }\n",
              "\n",
              "    .dataframe tbody tr th {\n",
              "        vertical-align: top;\n",
              "    }\n",
              "\n",
              "    .dataframe thead th {\n",
              "        text-align: right;\n",
              "    }\n",
              "</style>\n",
              "<table border=\"1\" class=\"dataframe\">\n",
              "  <thead>\n",
              "    <tr style=\"text-align: right;\">\n",
              "      <th></th>\n",
              "      <th>userId</th>\n",
              "      <th>movieId</th>\n",
              "      <th>rating</th>\n",
              "      <th>timestamp</th>\n",
              "    </tr>\n",
              "  </thead>\n",
              "  <tbody>\n",
              "    <tr>\n",
              "      <th>0</th>\n",
              "      <td>1</td>\n",
              "      <td>31</td>\n",
              "      <td>2.5</td>\n",
              "      <td>1260759144</td>\n",
              "    </tr>\n",
              "    <tr>\n",
              "      <th>1</th>\n",
              "      <td>1</td>\n",
              "      <td>1029</td>\n",
              "      <td>3.0</td>\n",
              "      <td>1260759179</td>\n",
              "    </tr>\n",
              "    <tr>\n",
              "      <th>2</th>\n",
              "      <td>1</td>\n",
              "      <td>1061</td>\n",
              "      <td>3.0</td>\n",
              "      <td>1260759182</td>\n",
              "    </tr>\n",
              "    <tr>\n",
              "      <th>3</th>\n",
              "      <td>1</td>\n",
              "      <td>1129</td>\n",
              "      <td>2.0</td>\n",
              "      <td>1260759185</td>\n",
              "    </tr>\n",
              "    <tr>\n",
              "      <th>4</th>\n",
              "      <td>1</td>\n",
              "      <td>1172</td>\n",
              "      <td>4.0</td>\n",
              "      <td>1260759205</td>\n",
              "    </tr>\n",
              "  </tbody>\n",
              "</table>\n",
              "</div>"
            ],
            "text/plain": [
              "   userId  movieId  rating   timestamp\n",
              "0       1       31     2.5  1260759144\n",
              "1       1     1029     3.0  1260759179\n",
              "2       1     1061     3.0  1260759182\n",
              "3       1     1129     2.0  1260759185\n",
              "4       1     1172     4.0  1260759205"
            ]
          },
          "metadata": {
            "tags": []
          },
          "execution_count": 4
        }
      ]
    },
    {
      "cell_type": "markdown",
      "metadata": {
        "id": "WF60ViekRk3Y",
        "colab_type": "text"
      },
      "source": [
        "### 1.1 Поиск популярных фильмов (3 балла)\n",
        "\n",
        "Среди всех фильмов есть не популярные, для которых выставлена 1-2 оценки. Такого количества данных не достаточно, поэтому нужно срезать много фильмов с маленьким числом отзывов.\n",
        "\n",
        "Посчтитайте количество оценок для каждого фильма."
      ]
    },
    {
      "cell_type": "code",
      "metadata": {
        "id": "DJVcCBguRk3a",
        "colab_type": "code",
        "colab": {}
      },
      "source": [
        "ratings_counts = pd.DataFrame(ratings['movieId'].value_counts(),index = ratings['movieId'].unique())"
      ],
      "execution_count": 0,
      "outputs": []
    },
    {
      "cell_type": "markdown",
      "metadata": {
        "id": "_z3VWqEpRk3g",
        "colab_type": "text"
      },
      "source": [
        "Выведите сводную статистику по количеству оценок фильмов. (общее число фильмов, среднее количество оценок, дисперсию, квантили)"
      ]
    },
    {
      "cell_type": "code",
      "metadata": {
        "id": "1bFJ62iJRk3i",
        "colab_type": "code",
        "outputId": "fa4ba46e-5bf8-4be0-d77c-9b9aea4f0349",
        "colab": {
          "base_uri": "https://localhost:8080/",
          "height": 159
        }
      },
      "source": [
        "print('total film number: {}'.format(ratings_counts.shape[0]))\n",
        "print(ratings_counts.mean()[0])\n",
        "print(ratings_counts.std()[0])\n",
        "#квантили\n",
        "print(np.quantile(ratings_counts,q = [0,0.25,0.5,0.75,1], axis=0))"
      ],
      "execution_count": 6,
      "outputs": [
        {
          "output_type": "stream",
          "text": [
            "total film number: 9066\n",
            "11.030664019413193\n",
            "24.050799967666727\n",
            "[[  1.]\n",
            " [  1.]\n",
            " [  3.]\n",
            " [  9.]\n",
            " [341.]]\n"
          ],
          "name": "stdout"
        }
      ]
    },
    {
      "cell_type": "markdown",
      "metadata": {
        "id": "kevP5bv-Rk3n",
        "colab_type": "text"
      },
      "source": [
        "Как мы видим `75%` квантиль показывет, что `75%` фильмов имело очень мало оценок. Нам столько будет недостаточно. Посчтитайте квантили в диапазоне от `75%` до `100%` с шагом в `1%`. Выберите тот квантиль, при котором количество оценок равно 20. Напишите какой это квантиль. Напишите сколько всего фильмов останется, если отбросить все фильмы у которых рейтинг меньше этого квантиля."
      ]
    },
    {
      "cell_type": "code",
      "metadata": {
        "id": "8AmqIBBKRk3o",
        "colab_type": "code",
        "outputId": "b2124b90-1b07-43ae-9775-9c5ffee2191f",
        "colab": {
          "base_uri": "https://localhost:8080/",
          "height": 497
        }
      },
      "source": [
        "quan_20 = 0\n",
        "for i in range (75,100):\n",
        "    res = np.quantile(ratings_counts,q = i/100, axis=0)\n",
        "    print(res)\n",
        "    if res == 20:\n",
        "        quan_20 = i\n",
        "print('квантиль, при котором количество оценок равно 20 {}'.format(quan_20))\n",
        "sorted_ratings = ratings_counts[ratings_counts['movieId'] > 20]\n",
        "print(sorted_ratings.shape[0])"
      ],
      "execution_count": 7,
      "outputs": [
        {
          "output_type": "stream",
          "text": [
            "[9.]\n",
            "[10.]\n",
            "[10.]\n",
            "[11.]\n",
            "[12.]\n",
            "[13.]\n",
            "[14.]\n",
            "[15.]\n",
            "[16.]\n",
            "[17.]\n",
            "[19.]\n",
            "[20.]\n",
            "[22.]\n",
            "[23.]\n",
            "[25.]\n",
            "[28.]\n",
            "[31.]\n",
            "[34.]\n",
            "[38.]\n",
            "[44.]\n",
            "[49.]\n",
            "[58.]\n",
            "[69.05]\n",
            "[89.]\n",
            "[123.]\n",
            "квантиль, при котором количество оценок равно 20 86\n",
            "1247\n"
          ],
          "name": "stdout"
        }
      ]
    },
    {
      "cell_type": "markdown",
      "metadata": {
        "id": "WYavVvpiRk3t",
        "colab_type": "text"
      },
      "source": [
        "### 1.2 Соединяем таблицы (1 балл)\n",
        "\n",
        "Будет немного не удобно искать фильмы по их идентификаторам, нам нужны названия. Поэтому соедините две таблицы `ratings` и `movies` по `movieId` и отфильтруйте отзывы на редкие фильмы, которые мы нашли в предыдущем шаге. Выведите первые 5 элементов полученного датасета."
      ]
    },
    {
      "cell_type": "code",
      "metadata": {
        "id": "yKSWQ0VCRk3u",
        "colab_type": "code",
        "outputId": "272caa46-eec0-4c5f-a37b-aa8d85acd35f",
        "colab": {
          "base_uri": "https://localhost:8080/",
          "height": 194
        }
      },
      "source": [
        "from collections import Counter\n",
        "c = ratings.join(movies, on =['movieId'])\n",
        "count= Counter(ratings_movies['movieId'])\n",
        "delete = list()\n",
        "for i in range(len(ratings_movies)):\n",
        "  if count[ratings_movies.iloc[i]['movieId']]<=20:\n",
        "    delete.append(i)\n",
        "ratings_movies =ratings_movies.drop(ratings_movies.index[delete])\n",
        "ratings_movies.head(5) \n",
        " \n",
        " "
      ],
      "execution_count": 15,
      "outputs": [
        {
          "output_type": "execute_result",
          "data": {
            "text/html": [
              "<div>\n",
              "<style scoped>\n",
              "    .dataframe tbody tr th:only-of-type {\n",
              "        vertical-align: middle;\n",
              "    }\n",
              "\n",
              "    .dataframe tbody tr th {\n",
              "        vertical-align: top;\n",
              "    }\n",
              "\n",
              "    .dataframe thead th {\n",
              "        text-align: right;\n",
              "    }\n",
              "</style>\n",
              "<table border=\"1\" class=\"dataframe\">\n",
              "  <thead>\n",
              "    <tr style=\"text-align: right;\">\n",
              "      <th></th>\n",
              "      <th>userId</th>\n",
              "      <th>movieId</th>\n",
              "      <th>rating</th>\n",
              "      <th>timestamp</th>\n",
              "      <th>title</th>\n",
              "      <th>genres</th>\n",
              "    </tr>\n",
              "  </thead>\n",
              "  <tbody>\n",
              "    <tr>\n",
              "      <th>0</th>\n",
              "      <td>1</td>\n",
              "      <td>31</td>\n",
              "      <td>2.5</td>\n",
              "      <td>1260759144</td>\n",
              "      <td>Dangerous Minds (1995)</td>\n",
              "      <td>Drama</td>\n",
              "    </tr>\n",
              "    <tr>\n",
              "      <th>1</th>\n",
              "      <td>1</td>\n",
              "      <td>1029</td>\n",
              "      <td>3.0</td>\n",
              "      <td>1260759179</td>\n",
              "      <td>Dumbo (1941)</td>\n",
              "      <td>Animation|Children|Drama|Musical</td>\n",
              "    </tr>\n",
              "    <tr>\n",
              "      <th>2</th>\n",
              "      <td>1</td>\n",
              "      <td>1061</td>\n",
              "      <td>3.0</td>\n",
              "      <td>1260759182</td>\n",
              "      <td>Sleepers (1996)</td>\n",
              "      <td>Thriller</td>\n",
              "    </tr>\n",
              "    <tr>\n",
              "      <th>3</th>\n",
              "      <td>1</td>\n",
              "      <td>1129</td>\n",
              "      <td>2.0</td>\n",
              "      <td>1260759185</td>\n",
              "      <td>Escape from New York (1981)</td>\n",
              "      <td>Action|Adventure|Sci-Fi|Thriller</td>\n",
              "    </tr>\n",
              "    <tr>\n",
              "      <th>4</th>\n",
              "      <td>1</td>\n",
              "      <td>1172</td>\n",
              "      <td>4.0</td>\n",
              "      <td>1260759205</td>\n",
              "      <td>Cinema Paradiso (Nuovo cinema Paradiso) (1989)</td>\n",
              "      <td>Drama</td>\n",
              "    </tr>\n",
              "  </tbody>\n",
              "</table>\n",
              "</div>"
            ],
            "text/plain": [
              "   userId  ...                            genres\n",
              "0       1  ...                             Drama\n",
              "1       1  ...  Animation|Children|Drama|Musical\n",
              "2       1  ...                          Thriller\n",
              "3       1  ...  Action|Adventure|Sci-Fi|Thriller\n",
              "4       1  ...                             Drama\n",
              "\n",
              "[5 rows x 6 columns]"
            ]
          },
          "metadata": {
            "tags": []
          },
          "execution_count": 15
        }
      ]
    },
    {
      "cell_type": "markdown",
      "metadata": {
        "id": "yyW6dhPVRk3z",
        "colab_type": "text"
      },
      "source": [
        "### 1.3 Матрица Фильмы-Пользователи\n",
        "\n",
        "В нашем случае мы будем искать похожие фильмы, поэтому сделайте из датасета оценок матрицу, где в строках фильмы, в колонках пользователи, а в ячейках оценки. Пропущенные значение, то есть отсутсвие оценки, заполните 0.\n",
        "\n",
        "Для увеличения скорости выполнения алгоритма ближайших соседей примените функцию [`scipy.sparse.csc_matrix`](https://docs.scipy.org/doc/scipy/reference/generated/scipy.sparse.csr_matrix.html),  которая создаст плотное представление нашей разреженой матрицы."
      ]
    },
    {
      "cell_type": "code",
      "metadata": {
        "id": "XBAgXuRtRk31",
        "colab_type": "code",
        "colab": {}
      },
      "source": [
        "movies_ratings = pd.pivot_table(ratings_movies, values = 'rating', index=['title'],\n",
        "              columns=['userId'], aggfunc=np.sum).fillna(0)"
      ],
      "execution_count": 0,
      "outputs": []
    },
    {
      "cell_type": "code",
      "metadata": {
        "id": "LbXVgR7mEhRk",
        "colab_type": "code",
        "colab": {}
      },
      "source": [
        "from scipy.sparse import csr_matrix\n",
        "sp_matr = csr_matrix(movies_ratings)"
      ],
      "execution_count": 0,
      "outputs": []
    },
    {
      "cell_type": "markdown",
      "metadata": {
        "id": "bzONSgTPRk36",
        "colab_type": "text"
      },
      "source": [
        "### 1.4 Тренировка модели рекомендаций \n",
        "\n",
        "Так как по сути у нас нет каких-то меток классов, мы будем использовать алгоритма без учителя [`sklearn.neighbors.NearestNeighbors`](http://scikit-learn.org/stable/modules/generated/sklearn.neighbors.NearestNeighbors.html). Научите его по данным нашей матрицы пользователей-фильмов и напишите **функцию**, принимающую на вход название фильма и возвращающую список из 6 рекомендованых фильмов, начиная от более похожего.\n",
        "\n",
        "Для определения \"похожести\" двух фильмов мы будем использовать косинусную меру, вместо евклидова или минковского:\n",
        "\n",
        "$$\\LARGE cos(\\overrightarrow{x},\\overrightarrow{y}) = \\frac{\\overrightarrow{x} \\cdot \\overrightarrow{y}}{||\\overrightarrow{x}|| \\times ||\\overrightarrow{y}||}$$"
      ]
    },
    {
      "cell_type": "code",
      "metadata": {
        "id": "tzJ040CARk39",
        "colab_type": "code",
        "colab": {
          "base_uri": "https://localhost:8080/",
          "height": 70
        },
        "outputId": "e1f50367-fe47-40d5-ff2e-85b6eb73070f"
      },
      "source": [
        "from sklearn.neighbors import NearestNeighbors\n",
        "neigh = NearestNeighbors(6+1, metric ='cosine')\n",
        "neigh.fit(sp_matr)"
      ],
      "execution_count": 62,
      "outputs": [
        {
          "output_type": "execute_result",
          "data": {
            "text/plain": [
              "NearestNeighbors(algorithm='auto', leaf_size=30, metric='cosine',\n",
              "                 metric_params=None, n_jobs=None, n_neighbors=7, p=2,\n",
              "                 radius=1.0)"
            ]
          },
          "metadata": {
            "tags": []
          },
          "execution_count": 62
        }
      ]
    },
    {
      "cell_type": "code",
      "metadata": {
        "id": "GGtxT9AxRk4H",
        "colab_type": "code",
        "colab": {}
      },
      "source": [
        "def similar(name='Pulp Fiction (1994)', n=6):\n",
        "    return movies_ratings.index[neigh.kneighbors(movies_ratings[movies_ratings.index == name],n+1)[1]]\n",
        "    "
      ],
      "execution_count": 0,
      "outputs": []
    },
    {
      "cell_type": "markdown",
      "metadata": {
        "id": "JtgTV_inRk4N",
        "colab_type": "text"
      },
      "source": [
        "Выведите рекомендации для фильмов:\n",
        "- `Pulp Fiction (1994)`\n",
        "- `Star Wars: Episode V - The Empire Strikes Back (1980)`\n",
        "- `Lord of the Rings: The Two Towers, The (2002)`"
      ]
    },
    {
      "cell_type": "code",
      "metadata": {
        "id": "sAPg06KqRk4O",
        "colab_type": "code",
        "colab": {
          "base_uri": "https://localhost:8080/",
          "height": 55
        },
        "outputId": "52279ab4-2561-4656-c6b1-e788ca12a359"
      },
      "source": [
        "similar('Pulp Fiction (1994)')"
      ],
      "execution_count": 64,
      "outputs": [
        {
          "output_type": "execute_result",
          "data": {
            "text/plain": [
              "Index([['Pulp Fiction (1994)', 'Silence of the Lambs, The (1991)', 'Shawshank Redemption, The (1994)', 'Seven (a.k.a. Se7en) (1995)', 'Forrest Gump (1994)', 'Usual Suspects, The (1995)', 'Jurassic Park (1993)']], dtype='object', name='title')"
            ]
          },
          "metadata": {
            "tags": []
          },
          "execution_count": 64
        }
      ]
    },
    {
      "cell_type": "code",
      "metadata": {
        "id": "bS_WtgX4Rk4R",
        "colab_type": "code",
        "colab": {
          "base_uri": "https://localhost:8080/",
          "height": 55
        },
        "outputId": "f8478392-54ab-4f51-be3c-aa4e2cb9d2d0"
      },
      "source": [
        "similar('Star Wars: Episode V - The Empire Strikes Back (1980)')"
      ],
      "execution_count": 65,
      "outputs": [
        {
          "output_type": "execute_result",
          "data": {
            "text/plain": [
              "Index([['Star Wars: Episode V - The Empire Strikes Back (1980)', 'Star Wars: Episode IV - A New Hope (1977)', 'Star Wars: Episode VI - Return of the Jedi (1983)', 'Raiders of the Lost Ark (Indiana Jones and the Raiders of the Lost Ark) (1981)', 'Indiana Jones and the Last Crusade (1989)', 'Back to the Future (1985)', 'Terminator, The (1984)']], dtype='object', name='title')"
            ]
          },
          "metadata": {
            "tags": []
          },
          "execution_count": 65
        }
      ]
    },
    {
      "cell_type": "code",
      "metadata": {
        "id": "ckMt84mmRk4U",
        "colab_type": "code",
        "colab": {
          "base_uri": "https://localhost:8080/",
          "height": 55
        },
        "outputId": "f45bd0fd-1ac7-4a3c-81d7-42cd2114c4f1"
      },
      "source": [
        "similar('Lord of the Rings: The Two Towers, The (2002)')"
      ],
      "execution_count": 66,
      "outputs": [
        {
          "output_type": "execute_result",
          "data": {
            "text/plain": [
              "Index([['Lord of the Rings: The Two Towers, The (2002)', 'Lord of the Rings: The Return of the King, The (2003)', 'Lord of the Rings: The Fellowship of the Ring, The (2001)', 'Pirates of the Caribbean: The Curse of the Black Pearl (2003)', 'Matrix, The (1999)', 'Spider-Man (2002)', 'Shrek (2001)']], dtype='object', name='title')"
            ]
          },
          "metadata": {
            "tags": []
          },
          "execution_count": 66
        }
      ]
    },
    {
      "cell_type": "markdown",
      "metadata": {
        "id": "TpIecXzSRk4X",
        "colab_type": "text"
      },
      "source": [
        "### 1.5 Как посчитать качество рекомендации?\n",
        "\n",
        "Как посчитать качество нашей классификации? У нас нет учителя, нет отложенной выборки. Мы просто посчитали все рейтинги и на основе них сделали предположения о похожести товаров. \n",
        "\n",
        "А как вы думаете можно проверить качество нашей рекомендательной системы? Напишите развернутый ответ своими словами."
      ]
    },
    {
      "cell_type": "markdown",
      "metadata": {
        "id": "ifn0KbP_Rk4Y",
        "colab_type": "text"
      },
      "source": [
        "возможно для проверки качества системы стоит оценивать по расстояниям до ближайшего соседа, то есть чем ближе расположены точки, тем больше похожи фильмы\n",
        "можно брать список просмотренного у пользователя и найти самые близкие к фильмам по расстояниям(то есть самое похожеее к тому, что пользователь смотрел)\n",
        "\n"
      ]
    },
    {
      "cell_type": "markdown",
      "metadata": {
        "id": "SUwijdbbRk4Z",
        "colab_type": "text"
      },
      "source": [
        "![](https://69.media.tumblr.com/06a071083b3e62cd76f31af07ecb895f/tumblr_p49r4rWXG21uxovwqo1_540.gif)"
      ]
    }
  ]
}