{
  "nbformat": 4,
  "nbformat_minor": 0,
  "metadata": {
    "kernelspec": {
      "display_name": "Python 3",
      "language": "python",
      "name": "python3"
    },
    "language_info": {
      "codemirror_mode": {
        "name": "ipython",
        "version": 3
      },
      "file_extension": ".py",
      "mimetype": "text/x-python",
      "name": "python",
      "nbconvert_exporter": "python",
      "pygments_lexer": "ipython3",
      "version": "3.7.1"
    },
    "colab": {
      "name": "Copy of 01-02-workshop-pandas.ipynb",
      "provenance": [],
      "collapsed_sections": []
    }
  },
  "cells": [
    {
      "cell_type": "markdown",
      "metadata": {
        "id": "HS7h0Xna3q8V",
        "colab_type": "text"
      },
      "source": [
        "# 1.2 Pandas\n",
        "\n",
        "1. Скачайте этот ноутбук к себе.\n",
        "2. Заполните пропущенные ячейки, отвечая на заданные вопросы. Там должен быть код! (если не сказано обратное)\n",
        "3. Сохраните результат в своём гитхаб репозитории.\n",
        "\n",
        "#### Полезная литература\n",
        "\n",
        "- http://pandas.pydata.org/pandas-docs/stable/10min.html\n",
        "- https://pandas.pydata.org/pandas-docs/stable/indexing.html\n",
        "- https://pandas.pydata.org/pandas-docs/stable/missing_data.html"
      ]
    },
    {
      "cell_type": "markdown",
      "metadata": {
        "id": "OreIUmfF3q8b",
        "colab_type": "text"
      },
      "source": [
        "В этом задании мы с вами рассмотрим датасет [Adult Data Set](https://archive.ics.uci.edu/ml/datasets/Adult).\n",
        "Основывается он на данных переписи населения 1994 года в США.\n",
        "\n",
        "Расшифровка содержимого колонок:\n",
        "\n",
        "- age: continuous. \n",
        "- workclass: Private, Self-emp-not-inc, Self-emp-inc, Federal-gov, Local-gov, State-gov, Without-pay, Never-worked. \n",
        "- fnlwgt: continuous. sampling weight, more here: SIPP Weighting.\n",
        "- education: Bachelors, Some-college, 11th, HS-grad, Prof-school, Assoc-acdm, Assoc-voc, 9th, 7th-8th, 12th, Masters, 1st-4th, 10th, Doctorate, 5th-6th, Preschool. \n",
        "- education-num: continuous. \n",
        "- marital-status: Married-civ-spouse, Divorced, Never-married, Separated, Widowed, Married-spouse-absent, Married-AF-spouse. \n",
        "- occupation: Tech-support, Craft-repair, Other-service, Sales, Exec-managerial, Prof-specialty, Handlers-cleaners, Machine-op-inspct, Adm-clerical, Farming-fishing, Transport-moving, Priv-house-serv, Protective-serv, Armed-Forces. \n",
        "- relationship: Wife, Own-child, Husband, Not-in-family, Other-relative, Unmarried. \n",
        "- race: White, Asian-Pac-Islander, Amer-Indian-Eskimo, Other, Black. \n",
        "- sex: Female, Male. \n",
        "- capital-gain: continuous. Income from investment sources, apart from wages/salary.\n",
        "- capital-loss: continuous. Losses from investment sources, apart from wages/salary.\n",
        "- hours-per-week: continuous. \n",
        "- native-country: United-States, Cambodia, England, Puerto-Rico, Canada, Germany, Outlying-US(Guam-USVI-etc), India, Japan, Greece, South, China, Cuba, Iran, Honduras, Philippines, Italy, Poland, Jamaica, Vietnam, Mexico, Portugal, Ireland, France, Dominican-Republic, Laos, Ecuador, Taiwan, Haiti, Columbia, Hungary, Guatemala, Nicaragua, Scotland, Thailand, Yugoslavia, El-Salvador, Trinadad&Tobago, Peru, Hong, Holand-Netherlands."
      ]
    },
    {
      "cell_type": "code",
      "metadata": {
        "id": "ZKW0mZu-3q8d",
        "colab_type": "code",
        "outputId": "b1ab07a7-8fe2-4e50-8f3e-d76743e3e04e",
        "colab": {
          "base_uri": "https://localhost:8080/",
          "height": 34
        }
      },
      "source": [
        "%matplotlib inline\n",
        "import pandas as pd\n",
        "pd.__version__"
      ],
      "execution_count": 1,
      "outputs": [
        {
          "output_type": "execute_result",
          "data": {
            "text/plain": [
              "'0.24.2'"
            ]
          },
          "metadata": {
            "tags": []
          },
          "execution_count": 1
        }
      ]
    },
    {
      "cell_type": "markdown",
      "metadata": {
        "id": "OpjIp3_B3q8o",
        "colab_type": "text"
      },
      "source": [
        "Если вы увидели warning, не переживайте, всё хорошо. \n",
        "- https://stackoverflow.com/questions/40845304/runtimewarning-numpy-dtype-size-changed-may-indicate-binary-incompatibility\n",
        "- https://github.com/numpy/numpy/pull/432"
      ]
    },
    {
      "cell_type": "code",
      "metadata": {
        "id": "yOJ69woN3q8r",
        "colab_type": "code",
        "outputId": "fd06395c-5531-4058-c315-64fa8850f1a5",
        "colab": {
          "base_uri": "https://localhost:8080/",
          "height": 262
        }
      },
      "source": [
        "columns='age,workclass,fnlwgt,education,education.num,marital.status,occupation,relationship,race,sex,capital.gain,capital.loss,hours.per.week,native.country,income'.split(',')\n",
        "# df = pd.read_csv('../../data/adult.csv.gz', na_values='?') # можно загрузить из файла или URL\n",
        "df = pd.read_csv('https://archive.ics.uci.edu/ml/machine-learning-databases/adult/adult.data', na_values='?', names=columns)\n",
        "df.head()"
      ],
      "execution_count": 2,
      "outputs": [
        {
          "output_type": "execute_result",
          "data": {
            "text/html": [
              "<div>\n",
              "<style scoped>\n",
              "    .dataframe tbody tr th:only-of-type {\n",
              "        vertical-align: middle;\n",
              "    }\n",
              "\n",
              "    .dataframe tbody tr th {\n",
              "        vertical-align: top;\n",
              "    }\n",
              "\n",
              "    .dataframe thead th {\n",
              "        text-align: right;\n",
              "    }\n",
              "</style>\n",
              "<table border=\"1\" class=\"dataframe\">\n",
              "  <thead>\n",
              "    <tr style=\"text-align: right;\">\n",
              "      <th></th>\n",
              "      <th>age</th>\n",
              "      <th>workclass</th>\n",
              "      <th>fnlwgt</th>\n",
              "      <th>education</th>\n",
              "      <th>education.num</th>\n",
              "      <th>marital.status</th>\n",
              "      <th>occupation</th>\n",
              "      <th>relationship</th>\n",
              "      <th>race</th>\n",
              "      <th>sex</th>\n",
              "      <th>capital.gain</th>\n",
              "      <th>capital.loss</th>\n",
              "      <th>hours.per.week</th>\n",
              "      <th>native.country</th>\n",
              "      <th>income</th>\n",
              "    </tr>\n",
              "  </thead>\n",
              "  <tbody>\n",
              "    <tr>\n",
              "      <th>0</th>\n",
              "      <td>39</td>\n",
              "      <td>State-gov</td>\n",
              "      <td>77516</td>\n",
              "      <td>Bachelors</td>\n",
              "      <td>13</td>\n",
              "      <td>Never-married</td>\n",
              "      <td>Adm-clerical</td>\n",
              "      <td>Not-in-family</td>\n",
              "      <td>White</td>\n",
              "      <td>Male</td>\n",
              "      <td>2174</td>\n",
              "      <td>0</td>\n",
              "      <td>40</td>\n",
              "      <td>United-States</td>\n",
              "      <td>&lt;=50K</td>\n",
              "    </tr>\n",
              "    <tr>\n",
              "      <th>1</th>\n",
              "      <td>50</td>\n",
              "      <td>Self-emp-not-inc</td>\n",
              "      <td>83311</td>\n",
              "      <td>Bachelors</td>\n",
              "      <td>13</td>\n",
              "      <td>Married-civ-spouse</td>\n",
              "      <td>Exec-managerial</td>\n",
              "      <td>Husband</td>\n",
              "      <td>White</td>\n",
              "      <td>Male</td>\n",
              "      <td>0</td>\n",
              "      <td>0</td>\n",
              "      <td>13</td>\n",
              "      <td>United-States</td>\n",
              "      <td>&lt;=50K</td>\n",
              "    </tr>\n",
              "    <tr>\n",
              "      <th>2</th>\n",
              "      <td>38</td>\n",
              "      <td>Private</td>\n",
              "      <td>215646</td>\n",
              "      <td>HS-grad</td>\n",
              "      <td>9</td>\n",
              "      <td>Divorced</td>\n",
              "      <td>Handlers-cleaners</td>\n",
              "      <td>Not-in-family</td>\n",
              "      <td>White</td>\n",
              "      <td>Male</td>\n",
              "      <td>0</td>\n",
              "      <td>0</td>\n",
              "      <td>40</td>\n",
              "      <td>United-States</td>\n",
              "      <td>&lt;=50K</td>\n",
              "    </tr>\n",
              "    <tr>\n",
              "      <th>3</th>\n",
              "      <td>53</td>\n",
              "      <td>Private</td>\n",
              "      <td>234721</td>\n",
              "      <td>11th</td>\n",
              "      <td>7</td>\n",
              "      <td>Married-civ-spouse</td>\n",
              "      <td>Handlers-cleaners</td>\n",
              "      <td>Husband</td>\n",
              "      <td>Black</td>\n",
              "      <td>Male</td>\n",
              "      <td>0</td>\n",
              "      <td>0</td>\n",
              "      <td>40</td>\n",
              "      <td>United-States</td>\n",
              "      <td>&lt;=50K</td>\n",
              "    </tr>\n",
              "    <tr>\n",
              "      <th>4</th>\n",
              "      <td>28</td>\n",
              "      <td>Private</td>\n",
              "      <td>338409</td>\n",
              "      <td>Bachelors</td>\n",
              "      <td>13</td>\n",
              "      <td>Married-civ-spouse</td>\n",
              "      <td>Prof-specialty</td>\n",
              "      <td>Wife</td>\n",
              "      <td>Black</td>\n",
              "      <td>Female</td>\n",
              "      <td>0</td>\n",
              "      <td>0</td>\n",
              "      <td>40</td>\n",
              "      <td>Cuba</td>\n",
              "      <td>&lt;=50K</td>\n",
              "    </tr>\n",
              "  </tbody>\n",
              "</table>\n",
              "</div>"
            ],
            "text/plain": [
              "   age          workclass  fnlwgt  ... hours.per.week  native.country  income\n",
              "0   39          State-gov   77516  ...             40   United-States   <=50K\n",
              "1   50   Self-emp-not-inc   83311  ...             13   United-States   <=50K\n",
              "2   38            Private  215646  ...             40   United-States   <=50K\n",
              "3   53            Private  234721  ...             40   United-States   <=50K\n",
              "4   28            Private  338409  ...             40            Cuba   <=50K\n",
              "\n",
              "[5 rows x 15 columns]"
            ]
          },
          "metadata": {
            "tags": []
          },
          "execution_count": 2
        }
      ]
    },
    {
      "cell_type": "markdown",
      "metadata": {
        "id": "T9bu2VYeT3FR",
        "colab_type": "text"
      },
      "source": [
        "## Часть 1 (13 баллов)"
      ]
    },
    {
      "cell_type": "markdown",
      "metadata": {
        "id": "SI5YySGB3q8x",
        "colab_type": "text"
      },
      "source": [
        "1) Выведите последние 10 элеметнов датасета (1 балл)"
      ]
    },
    {
      "cell_type": "code",
      "metadata": {
        "id": "5hqNyX3D3q8y",
        "colab_type": "code",
        "outputId": "a8b9d2a1-0b2a-4bce-d3c5-a74a44adcc9d",
        "colab": {
          "base_uri": "https://localhost:8080/",
          "height": 511
        }
      },
      "source": [
        "df.tail(10)"
      ],
      "execution_count": 0,
      "outputs": [
        {
          "output_type": "execute_result",
          "data": {
            "text/html": [
              "<div>\n",
              "<style scoped>\n",
              "    .dataframe tbody tr th:only-of-type {\n",
              "        vertical-align: middle;\n",
              "    }\n",
              "\n",
              "    .dataframe tbody tr th {\n",
              "        vertical-align: top;\n",
              "    }\n",
              "\n",
              "    .dataframe thead th {\n",
              "        text-align: right;\n",
              "    }\n",
              "</style>\n",
              "<table border=\"1\" class=\"dataframe\">\n",
              "  <thead>\n",
              "    <tr style=\"text-align: right;\">\n",
              "      <th></th>\n",
              "      <th>age</th>\n",
              "      <th>workclass</th>\n",
              "      <th>fnlwgt</th>\n",
              "      <th>education</th>\n",
              "      <th>education.num</th>\n",
              "      <th>marital.status</th>\n",
              "      <th>occupation</th>\n",
              "      <th>relationship</th>\n",
              "      <th>race</th>\n",
              "      <th>sex</th>\n",
              "      <th>capital.gain</th>\n",
              "      <th>capital.loss</th>\n",
              "      <th>hours.per.week</th>\n",
              "      <th>native.country</th>\n",
              "      <th>income</th>\n",
              "    </tr>\n",
              "  </thead>\n",
              "  <tbody>\n",
              "    <tr>\n",
              "      <th>32551</th>\n",
              "      <td>32</td>\n",
              "      <td>Private</td>\n",
              "      <td>34066</td>\n",
              "      <td>10th</td>\n",
              "      <td>6</td>\n",
              "      <td>Married-civ-spouse</td>\n",
              "      <td>Handlers-cleaners</td>\n",
              "      <td>Husband</td>\n",
              "      <td>Amer-Indian-Eskimo</td>\n",
              "      <td>Male</td>\n",
              "      <td>0</td>\n",
              "      <td>0</td>\n",
              "      <td>40</td>\n",
              "      <td>United-States</td>\n",
              "      <td>&lt;=50K</td>\n",
              "    </tr>\n",
              "    <tr>\n",
              "      <th>32552</th>\n",
              "      <td>43</td>\n",
              "      <td>Private</td>\n",
              "      <td>84661</td>\n",
              "      <td>Assoc-voc</td>\n",
              "      <td>11</td>\n",
              "      <td>Married-civ-spouse</td>\n",
              "      <td>Sales</td>\n",
              "      <td>Husband</td>\n",
              "      <td>White</td>\n",
              "      <td>Male</td>\n",
              "      <td>0</td>\n",
              "      <td>0</td>\n",
              "      <td>45</td>\n",
              "      <td>United-States</td>\n",
              "      <td>&lt;=50K</td>\n",
              "    </tr>\n",
              "    <tr>\n",
              "      <th>32553</th>\n",
              "      <td>32</td>\n",
              "      <td>Private</td>\n",
              "      <td>116138</td>\n",
              "      <td>Masters</td>\n",
              "      <td>14</td>\n",
              "      <td>Never-married</td>\n",
              "      <td>Tech-support</td>\n",
              "      <td>Not-in-family</td>\n",
              "      <td>Asian-Pac-Islander</td>\n",
              "      <td>Male</td>\n",
              "      <td>0</td>\n",
              "      <td>0</td>\n",
              "      <td>11</td>\n",
              "      <td>Taiwan</td>\n",
              "      <td>&lt;=50K</td>\n",
              "    </tr>\n",
              "    <tr>\n",
              "      <th>32554</th>\n",
              "      <td>53</td>\n",
              "      <td>Private</td>\n",
              "      <td>321865</td>\n",
              "      <td>Masters</td>\n",
              "      <td>14</td>\n",
              "      <td>Married-civ-spouse</td>\n",
              "      <td>Exec-managerial</td>\n",
              "      <td>Husband</td>\n",
              "      <td>White</td>\n",
              "      <td>Male</td>\n",
              "      <td>0</td>\n",
              "      <td>0</td>\n",
              "      <td>40</td>\n",
              "      <td>United-States</td>\n",
              "      <td>&gt;50K</td>\n",
              "    </tr>\n",
              "    <tr>\n",
              "      <th>32555</th>\n",
              "      <td>22</td>\n",
              "      <td>Private</td>\n",
              "      <td>310152</td>\n",
              "      <td>Some-college</td>\n",
              "      <td>10</td>\n",
              "      <td>Never-married</td>\n",
              "      <td>Protective-serv</td>\n",
              "      <td>Not-in-family</td>\n",
              "      <td>White</td>\n",
              "      <td>Male</td>\n",
              "      <td>0</td>\n",
              "      <td>0</td>\n",
              "      <td>40</td>\n",
              "      <td>United-States</td>\n",
              "      <td>&lt;=50K</td>\n",
              "    </tr>\n",
              "    <tr>\n",
              "      <th>32556</th>\n",
              "      <td>27</td>\n",
              "      <td>Private</td>\n",
              "      <td>257302</td>\n",
              "      <td>Assoc-acdm</td>\n",
              "      <td>12</td>\n",
              "      <td>Married-civ-spouse</td>\n",
              "      <td>Tech-support</td>\n",
              "      <td>Wife</td>\n",
              "      <td>White</td>\n",
              "      <td>Female</td>\n",
              "      <td>0</td>\n",
              "      <td>0</td>\n",
              "      <td>38</td>\n",
              "      <td>United-States</td>\n",
              "      <td>&lt;=50K</td>\n",
              "    </tr>\n",
              "    <tr>\n",
              "      <th>32557</th>\n",
              "      <td>40</td>\n",
              "      <td>Private</td>\n",
              "      <td>154374</td>\n",
              "      <td>HS-grad</td>\n",
              "      <td>9</td>\n",
              "      <td>Married-civ-spouse</td>\n",
              "      <td>Machine-op-inspct</td>\n",
              "      <td>Husband</td>\n",
              "      <td>White</td>\n",
              "      <td>Male</td>\n",
              "      <td>0</td>\n",
              "      <td>0</td>\n",
              "      <td>40</td>\n",
              "      <td>United-States</td>\n",
              "      <td>&gt;50K</td>\n",
              "    </tr>\n",
              "    <tr>\n",
              "      <th>32558</th>\n",
              "      <td>58</td>\n",
              "      <td>Private</td>\n",
              "      <td>151910</td>\n",
              "      <td>HS-grad</td>\n",
              "      <td>9</td>\n",
              "      <td>Widowed</td>\n",
              "      <td>Adm-clerical</td>\n",
              "      <td>Unmarried</td>\n",
              "      <td>White</td>\n",
              "      <td>Female</td>\n",
              "      <td>0</td>\n",
              "      <td>0</td>\n",
              "      <td>40</td>\n",
              "      <td>United-States</td>\n",
              "      <td>&lt;=50K</td>\n",
              "    </tr>\n",
              "    <tr>\n",
              "      <th>32559</th>\n",
              "      <td>22</td>\n",
              "      <td>Private</td>\n",
              "      <td>201490</td>\n",
              "      <td>HS-grad</td>\n",
              "      <td>9</td>\n",
              "      <td>Never-married</td>\n",
              "      <td>Adm-clerical</td>\n",
              "      <td>Own-child</td>\n",
              "      <td>White</td>\n",
              "      <td>Male</td>\n",
              "      <td>0</td>\n",
              "      <td>0</td>\n",
              "      <td>20</td>\n",
              "      <td>United-States</td>\n",
              "      <td>&lt;=50K</td>\n",
              "    </tr>\n",
              "    <tr>\n",
              "      <th>32560</th>\n",
              "      <td>52</td>\n",
              "      <td>Self-emp-inc</td>\n",
              "      <td>287927</td>\n",
              "      <td>HS-grad</td>\n",
              "      <td>9</td>\n",
              "      <td>Married-civ-spouse</td>\n",
              "      <td>Exec-managerial</td>\n",
              "      <td>Wife</td>\n",
              "      <td>White</td>\n",
              "      <td>Female</td>\n",
              "      <td>15024</td>\n",
              "      <td>0</td>\n",
              "      <td>40</td>\n",
              "      <td>United-States</td>\n",
              "      <td>&gt;50K</td>\n",
              "    </tr>\n",
              "  </tbody>\n",
              "</table>\n",
              "</div>"
            ],
            "text/plain": [
              "       age      workclass  fnlwgt  ... hours.per.week  native.country  income\n",
              "32551   32        Private   34066  ...             40   United-States   <=50K\n",
              "32552   43        Private   84661  ...             45   United-States   <=50K\n",
              "32553   32        Private  116138  ...             11          Taiwan   <=50K\n",
              "32554   53        Private  321865  ...             40   United-States    >50K\n",
              "32555   22        Private  310152  ...             40   United-States   <=50K\n",
              "32556   27        Private  257302  ...             38   United-States   <=50K\n",
              "32557   40        Private  154374  ...             40   United-States    >50K\n",
              "32558   58        Private  151910  ...             40   United-States   <=50K\n",
              "32559   22        Private  201490  ...             20   United-States   <=50K\n",
              "32560   52   Self-emp-inc  287927  ...             40   United-States    >50K\n",
              "\n",
              "[10 rows x 15 columns]"
            ]
          },
          "metadata": {
            "tags": []
          },
          "execution_count": 267
        }
      ]
    },
    {
      "cell_type": "markdown",
      "metadata": {
        "id": "iWZr3eez3q83",
        "colab_type": "text"
      },
      "source": [
        "2) Сколько колонок и сколько строк в этом датасете? (1 балл)"
      ]
    },
    {
      "cell_type": "code",
      "metadata": {
        "id": "dFsqepY_3q85",
        "colab_type": "code",
        "outputId": "82845378-cc14-45fb-c7d3-281ad74c74a6",
        "colab": {
          "base_uri": "https://localhost:8080/",
          "height": 34
        }
      },
      "source": [
        "r, c = df.shape\n",
        "print(\"rows = {0}, columns = {1}\".format(r,c))"
      ],
      "execution_count": 0,
      "outputs": [
        {
          "output_type": "stream",
          "text": [
            "rows = 32561, columns = 15\n"
          ],
          "name": "stdout"
        }
      ]
    },
    {
      "cell_type": "markdown",
      "metadata": {
        "id": "8cOdEG7K3q8_",
        "colab_type": "text"
      },
      "source": [
        "3) Какие типы данных у элементов этого датасета? (1 балл)"
      ]
    },
    {
      "cell_type": "code",
      "metadata": {
        "id": "FT1B96EQ3q9A",
        "colab_type": "code",
        "outputId": "122db0ea-c0a8-4e24-fa90-4cba0d9a9ecf",
        "colab": {
          "base_uri": "https://localhost:8080/",
          "height": 353
        }
      },
      "source": [
        "\n",
        "df.info(verbose = True, null_counts = False)\n"
      ],
      "execution_count": 5,
      "outputs": [
        {
          "output_type": "stream",
          "text": [
            "<class 'pandas.core.frame.DataFrame'>\n",
            "RangeIndex: 32561 entries, 0 to 32560\n",
            "Data columns (total 15 columns):\n",
            "age               int64\n",
            "workclass         object\n",
            "fnlwgt            int64\n",
            "education         object\n",
            "education.num     int64\n",
            "marital.status    object\n",
            "occupation        object\n",
            "relationship      object\n",
            "race              object\n",
            "sex               object\n",
            "capital.gain      int64\n",
            "capital.loss      int64\n",
            "hours.per.week    int64\n",
            "native.country    object\n",
            "income            object\n",
            "dtypes: int64(6), object(9)\n",
            "memory usage: 3.7+ MB\n"
          ],
          "name": "stdout"
        }
      ]
    },
    {
      "cell_type": "markdown",
      "metadata": {
        "id": "kZnUSEbO3q9E",
        "colab_type": "text"
      },
      "source": [
        "4) Какие признаки имеют пропуски? (1 балл)"
      ]
    },
    {
      "cell_type": "code",
      "metadata": {
        "id": "Qe-yQZ27ZYM6",
        "colab_type": "code",
        "outputId": "c69a123d-b91a-4734-9a1f-4ed148d0ba6a",
        "colab": {
          "base_uri": "https://localhost:8080/",
          "height": 286
        }
      },
      "source": [
        "\n",
        "df = df.replace(' ?',np.nan)\n",
        "df.isnull().any()"
      ],
      "execution_count": 0,
      "outputs": [
        {
          "output_type": "execute_result",
          "data": {
            "text/plain": [
              "age               False\n",
              "workclass          True\n",
              "fnlwgt            False\n",
              "education         False\n",
              "education.num     False\n",
              "marital.status    False\n",
              "occupation         True\n",
              "relationship      False\n",
              "race              False\n",
              "sex               False\n",
              "capital.gain      False\n",
              "capital.loss      False\n",
              "hours.per.week    False\n",
              "native.country     True\n",
              "income            False\n",
              "dtype: bool"
            ]
          },
          "metadata": {
            "tags": []
          },
          "execution_count": 302
        }
      ]
    },
    {
      "cell_type": "markdown",
      "metadata": {
        "id": "4Jb8G_8d3q9N",
        "colab_type": "text"
      },
      "source": [
        "*5*) Как вы думаете, с чем связаны пропуски этих значение. Напишите развернутый ответ в ячейке ниже. (3 балла)"
      ]
    },
    {
      "cell_type": "markdown",
      "metadata": {
        "id": "hGMZCn_P3q9P",
        "colab_type": "text"
      },
      "source": [
        "Ваш ответ:Все пропущенные признаки отноятся к категориальным значениям, то есть количество возможных ответов сильно ограничено, так как это опрос,то скорее человек не смог соотнести себя с предложенными вариантами(например, такое возникло в \"рабочем классе\") "
      ]
    },
    {
      "cell_type": "markdown",
      "metadata": {
        "id": "K-mv13hS3q9R",
        "colab_type": "text"
      },
      "source": [
        "6) Какие и сколько различных рабочих классов workclass представлено в выборке? (2 балла)"
      ]
    },
    {
      "cell_type": "code",
      "metadata": {
        "id": "WxtPwHljkpSf",
        "colab_type": "code",
        "outputId": "67713e72-2963-48bb-e175-489c6a856a10",
        "colab": {
          "base_uri": "https://localhost:8080/",
          "height": 202
        }
      },
      "source": [
        "print(df.workclass.value_counts())\n",
        "print(\"количество, без пропусков: {}\".format(df.workclass.nunique()-1))"
      ],
      "execution_count": 6,
      "outputs": [
        {
          "output_type": "stream",
          "text": [
            " Private             22696\n",
            " Self-emp-not-inc     2541\n",
            " Local-gov            2093\n",
            " ?                    1836\n",
            " State-gov            1298\n",
            " Self-emp-inc         1116\n",
            " Federal-gov           960\n",
            " Without-pay            14\n",
            " Never-worked            7\n",
            "Name: workclass, dtype: int64\n",
            "количество, без пропусков: 8\n"
          ],
          "name": "stdout"
        }
      ]
    },
    {
      "cell_type": "markdown",
      "metadata": {
        "id": "W08XrJ5n3q9X",
        "colab_type": "text"
      },
      "source": [
        "7) Какой средний возраст женщин и мужчин? (1 балл)"
      ]
    },
    {
      "cell_type": "code",
      "metadata": {
        "id": "HWguD7003q9Y",
        "colab_type": "code",
        "colab": {}
      },
      "source": [
        "l = df[['sex', 'age']].groupby(['sex']).aggregate(sum)\n",
        "print(l.groupby(['sex']).get_group(' Male').iloc[0]/df.sex.value_counts()[' Male'])\n",
        "\n",
        "print(l.groupby(['sex']).get_group(' Female').iloc[0]/df.sex.value_counts()[' Female'])\n",
        "\n",
        "\n",
        "\n"
      ],
      "execution_count": 0,
      "outputs": []
    },
    {
      "cell_type": "markdown",
      "metadata": {
        "id": "k516LCX33q9f",
        "colab_type": "text"
      },
      "source": [
        "8) Постройте гистограмму(bar) распределения образования людей (education) (2 балла)"
      ]
    },
    {
      "cell_type": "code",
      "metadata": {
        "id": "J_cG604M3q9g",
        "colab_type": "code",
        "outputId": "ef0eafc4-b459-492a-f237-5d3963d148fc",
        "colab": {
          "base_uri": "https://localhost:8080/",
          "height": 346
        }
      },
      "source": [
        "print(df['education'].value_counts().plot(kind='bar'))"
      ],
      "execution_count": 0,
      "outputs": [
        {
          "output_type": "stream",
          "text": [
            "AxesSubplot(0.125,0.125;0.775x0.755)\n"
          ],
          "name": "stdout"
        },
        {
          "output_type": "display_data",
          "data": {
            "image/png": "[encoded data removed]",
            "text/plain": [
              "<Figure size 432x288 with 1 Axes>"
            ]
          },
          "metadata": {
            "tags": []
          }
        }
      ]
    },
    {
      "cell_type": "markdown",
      "metadata": {
        "id": "HT_aScMuTzXE",
        "colab_type": "text"
      },
      "source": [
        "## Часть 2 (18 баллов)"
      ]
    },
    {
      "cell_type": "markdown",
      "metadata": {
        "id": "mwf7il-F3q9j",
        "colab_type": "text"
      },
      "source": [
        "9) Каковы средние значения и среднеквадратичные отклонения возраста тех, кто получает более 50K в год (признак salary) и тех, кто получает менее 50K в год? (2 балла)"
      ]
    },
    {
      "cell_type": "code",
      "metadata": {
        "id": "dfbJGnSu3q9m",
        "colab_type": "code",
        "colab": {}
      },
      "source": [
        "l = df[['income', 'age']].groupby(['income']).agg([\"mean\",\"std\"])\n",
        "l"
      ],
      "execution_count": 0,
      "outputs": []
    },
    {
      "cell_type": "markdown",
      "metadata": {
        "id": "nq1NKHQh3q9p",
        "colab_type": "text"
      },
      "source": [
        "10) Правда ли, что люди, которые получают больше 50k, имеют как минимум высшее образование? (признак education - Bachelors, Prof-school, Assoc-acdm, Assoc-voc, Masters или Doctorate) (2 балла)"
      ]
    },
    {
      "cell_type": "code",
      "metadata": {
        "id": "e5GuvfoA3q9s",
        "colab_type": "code",
        "outputId": "3b227edd-4390-4b7f-b8ae-882543bb3147",
        "colab": {
          "base_uri": "https://localhost:8080/",
          "height": 34
        }
      },
      "source": [
        "l = df[['income', 'education']].groupby(['income']).get_group(' >50K')\n",
        "rows = l.shape[0]\n",
        "EduRows = l.loc[l['education'].isin([' Bachelors', ' Prof-school', ' Assoc-acdm', 'Assoc-voc', 'Masters', 'Doctorate'])].shape[0]\n",
        "if rows - EduRows>0:\n",
        "  print(\"не все имеют высшее образование\")\n",
        "else: \n",
        "  print(\"все имеют высшее образование\")"
      ],
      "execution_count": 0,
      "outputs": [
        {
          "output_type": "stream",
          "text": [
            "не все имеют высшее образование\n"
          ],
          "name": "stdout"
        }
      ]
    },
    {
      "cell_type": "markdown",
      "metadata": {
        "id": "yt8kz7wu3q9x",
        "colab_type": "text"
      },
      "source": [
        "11) Среди кого больше доля зарабатывающих много (>50K): среди женатых или холостых мужчин (признак marital-status)? Женатыми считаем тех, у кого marital-status начинается с Married (Married-civ-spouse, Married-spouse-absent или Married-AF-spouse), остальных считаем холостыми. (2 балла)"
      ]
    },
    {
      "cell_type": "code",
      "metadata": {
        "id": "DX5ktXqs3q90",
        "colab_type": "code",
        "colab": {}
      },
      "source": [
        "l = df.groupby(['sex']).get_group(' Male').groupby(['income']).get_group(' >50K')\n",
        "rows = l.shape[0]\n",
        "marriedRows = l.loc[l['marital.status'].isin([' Married-civ-spouse', ' Married-spouse-absent', ' Married-AF-spouse'])].shape[0]\n",
        "\n",
        "if rows - marriedRows>0:\n",
        "  print(\"Среди женатых\")\n",
        "else:\n",
        "  print(\"Среди неженатых\")"
      ],
      "execution_count": 0,
      "outputs": []
    },
    {
      "cell_type": "markdown",
      "metadata": {
        "id": "elRt5RlO3q93",
        "colab_type": "text"
      },
      "source": [
        "12) Посчитайте среднее время работы (hours-per-week) зарабатывающих мало и много (salary) для каждой страны (native-country). (3 балла)"
      ]
    },
    {
      "cell_type": "code",
      "metadata": {
        "id": "B6LiuvxY3q95",
        "colab_type": "code",
        "colab": {}
      },
      "source": [
        "l = df[['native.country','hours.per.week', 'income']].groupby(['native.country','income'])['hours.per.week'].agg([\"mean\"])\n",
        "\n",
        "l"
      ],
      "execution_count": 0,
      "outputs": []
    },
    {
      "cell_type": "markdown",
      "metadata": {
        "id": "tnWPybl33q99",
        "colab_type": "text"
      },
      "source": [
        "13) Постройте сводную таблицу для сравнения уровня образования и разницы между capital.gain и capital.loss (то есть пассивный доход). Сделайте так, чтобы capital.gain - capital.loss создали не больше 10 разных уникальных значений. То есть, gain и loss - это числа в каком-то диапазоне. Это количественные признаки из вещественных чисел. С помощью математических функций, типа log, извлечение корня N-ой степени и округления можно перейти к категориальным признакам. (4 балла)"
      ]
    },
    {
      "cell_type": "code",
      "metadata": {
        "id": "5ZqFpwHT3q9-",
        "colab_type": "code",
        "outputId": "7ee11dc9-d2c6-489d-9578-139dd11be5f9",
        "colab": {
          "base_uri": "https://localhost:8080/",
          "height": 336
        }
      },
      "source": [
        "import numpy as np\n",
        "df['difference'] =(df['capital.gain']-df['capital.loss'])\n",
        "df['difference'] = df['difference'].replace(0,1) \n",
        "num = df._get_numeric_data() #все отрицательные и те, что = 0, разности будут 0(после взятия лог2)\n",
        "num[num < 0] = 1\n",
        "df['difference'] =np.log2(df['difference']).apply(np.round)\n",
        "\n",
        "print(\"Число уникальных значений {}\".format(df.difference.nunique()))\n",
        "\n",
        "df[['education','difference']].groupby(['education'])['difference'].mean() #возьмем среднее от значения в диапазоне\n"
      ],
      "execution_count": 0,
      "outputs": [
        {
          "output_type": "stream",
          "text": [
            "Число уникальных значений 10\n"
          ],
          "name": "stdout"
        },
        {
          "output_type": "execute_result",
          "data": {
            "text/plain": [
              "education\n",
              " 10th            0.504823\n",
              " 11th            0.532766\n",
              " 12th            0.598152\n",
              " 1st-4th         0.357143\n",
              " 5th-6th         0.501502\n",
              " 7th-8th         0.739938\n",
              " 9th             0.667315\n",
              " Assoc-acdm      0.963449\n",
              " Assoc-voc       1.209841\n",
              " Bachelors       1.557983\n",
              " Doctorate       2.556901\n",
              " HS-grad         0.798686\n",
              " Masters         2.124782\n",
              " Preschool       0.529412\n",
              " Prof-school     3.786458\n",
              " Some-college    0.808257\n",
              "Name: difference, dtype: float64"
            ]
          },
          "metadata": {
            "tags": []
          },
          "execution_count": 335
        }
      ]
    },
    {
      "cell_type": "markdown",
      "metadata": {
        "id": "_p9nQqjV3q-D",
        "colab_type": "text"
      },
      "source": [
        "14) Женщины из каких стран получают в среднем большую зарплату (>50K) чаще. (2 балла)"
      ]
    },
    {
      "cell_type": "code",
      "metadata": {
        "id": "QDX82iOn3q-E",
        "colab_type": "code",
        "outputId": "80cefb37-99a1-43e7-cee9-ae02792f7489",
        "colab": {
          "base_uri": "https://localhost:8080/",
          "height": 34
        }
      },
      "source": [
        "l = df.groupby(['sex']).get_group(' Female').groupby(['income']).get_group(' >50K')\n",
        "l['native.country'].value_counts().index.tolist()[0]"
      ],
      "execution_count": 0,
      "outputs": [
        {
          "output_type": "execute_result",
          "data": {
            "text/plain": [
              "' United-States'"
            ]
          },
          "metadata": {
            "tags": []
          },
          "execution_count": 140
        }
      ]
    },
    {
      "cell_type": "markdown",
      "metadata": {
        "id": "QCywF0BM3q-I",
        "colab_type": "text"
      },
      "source": [
        "15) Создайте случайную колонку - magic_salary, которую нужно будет вычислить следующим образом: если зарплата небольшая (<50K), тогда случайно выберите число из диапазона [0,50]. Если зарплата выше 50K тогда из диапазона [51, 200]. Посчитайте среднюю зарплату в час для групп людей с одни уровнем образования на основе нашей случайной колонки magic_salary (3 балла)"
      ]
    },
    {
      "cell_type": "code",
      "metadata": {
        "id": "hruQdvei3q-I",
        "colab_type": "code",
        "outputId": "82247a20-d78a-45a9-8bb1-b9d3797d1ff5",
        "colab": {
          "base_uri": "https://localhost:8080/",
          "height": 319
        }
      },
      "source": [
        "import numpy as np\n",
        "\n",
        "def magic_row(row):\n",
        "    if row['income'] == ' <=50K':\n",
        "      result = np.random.randint(0,51)\n",
        "    else: result = np.random.randint(51,200+1)\n",
        "    return result\n",
        "\n",
        "df['magic_salary'] = df.apply(lambda row : magic_row(row), axis=1) \n",
        "df[['education', 'magic_salary']].groupby(['education'])['magic_salary'].mean()"
      ],
      "execution_count": 0,
      "outputs": [
        {
          "output_type": "execute_result",
          "data": {
            "text/plain": [
              "education\n",
              " 10th            32.574491\n",
              " 11th            29.359149\n",
              " 12th            32.575058\n",
              " 1st-4th         28.452381\n",
              " 5th-6th         29.906907\n",
              " 7th-8th         32.190402\n",
              " 9th             29.212062\n",
              " Assoc-acdm      49.626054\n",
              " Assoc-voc       51.790159\n",
              " Bachelors       66.615873\n",
              " Doctorate       99.769976\n",
              " HS-grad         41.093039\n",
              " Masters         80.441672\n",
              " Preschool       27.078431\n",
              " Prof-school     99.324653\n",
              " Some-college    44.066383\n",
              "Name: magic_salary, dtype: float64"
            ]
          },
          "metadata": {
            "tags": []
          },
          "execution_count": 346
        }
      ]
    }
  ]
}