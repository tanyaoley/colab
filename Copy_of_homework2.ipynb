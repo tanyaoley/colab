{
  "nbformat": 4,
  "nbformat_minor": 0,
  "metadata": {
    "colab": {
      "name": "Copy of homework2.ipynb",
      "provenance": [],
      "include_colab_link": true
    },
    "kernelspec": {
      "name": "python3",
      "display_name": "Python 3"
    },
    "language_info": {
      "codemirror_mode": {
        "name": "ipython",
        "version": 3
      },
      "file_extension": ".py",
      "mimetype": "text/x-python",
      "name": "python",
      "nbconvert_exporter": "python",
      "pygments_lexer": "ipython3",
      "version": "3.7.4"
    },
    "accelerator": "GPU"
  },
  "cells": [
    {
      "cell_type": "markdown",
      "metadata": {
        "id": "view-in-github",
        "colab_type": "text"
      },
      "source": [
        "<a href=\"https://colab.research.google.com/github/tanyaoley/ml_course_homework/blob/master/Copy_of_homework2.ipynb\" target=\"_parent\"><img src=\"https://colab.research.google.com/assets/colab-badge.svg\" alt=\"Open In Colab\"/></a>"
      ]
    },
    {
      "cell_type": "markdown",
      "metadata": {
        "colab_type": "text",
        "collapsed": true,
        "id": "A4ucMAPH57KN"
      },
      "source": [
        "# Homework 2.2: The Quest For A Better Network\n",
        "\n",
        "In this assignment you will build a monster network to solve Tiny ImageNet image classification.\n",
        "\n",
        "This notebook is intended as a sequel to seminar 3, please give it a try if you haven't done so yet."
      ]
    },
    {
      "cell_type": "markdown",
      "metadata": {
        "colab_type": "text",
        "id": "URTGmJi857KT"
      },
      "source": [
        "(please read it at least diagonally)\n",
        "\n",
        "* The ultimate quest is to create a network that has as high __accuracy__ as you can push it.\n",
        "* There is a __mini-report__ at the end that you will have to fill in. We recommend reading it first and filling it while you iterate.\n",
        " \n",
        "## Grading\n",
        "* starting at zero points\n",
        "* +20% for describing your iteration path in a report below.\n",
        "* +20% for building a network that gets above 20% accuracy\n",
        "* +10% for beating each of these milestones on __TEST__ dataset:\n",
        "    * 25% (50% points)\n",
        "    * 30% (60% points)\n",
        "    * 32.5% (70% points)\n",
        "    * 35% (80% points)\n",
        "    * 37.5% (90% points)\n",
        "    * 40% (full points)\n",
        "    \n",
        "## Restrictions\n",
        "* Please do NOT use pre-trained networks for this assignment until you reach 40%.\n",
        " * In other words, base milestones must be beaten without pre-trained nets (and such net must be present in the anytask atttachments). After that, you can use whatever you want.\n",
        "* you __can't__ do anything with validation data apart from running the evaluation procedure. Please, split train images on train and validation parts\n",
        "\n",
        "## Tips on what can be done:\n",
        "\n",
        "\n",
        " * __Network size__\n",
        "   * MOAR neurons, \n",
        "   * MOAR layers, ([torch.nn docs](http://pytorch.org/docs/master/nn.html))\n",
        "\n",
        "   * Nonlinearities in the hidden layers\n",
        "     * tanh, relu, leaky relu, etc\n",
        "   * Larger networks may take more epochs to train, so don't discard your net just because it could didn't beat the baseline in 5 epochs.\n",
        "\n",
        "   * Ph'nglui mglw'nafh Cthulhu R'lyeh wgah'nagl fhtagn!\n",
        "\n",
        "\n",
        "### The main rule of prototyping: one change at a time\n",
        "   * By now you probably have several ideas on what to change. By all means, try them out! But there's a catch: __never test several new things at once__.\n",
        "\n",
        "\n",
        "### Optimization\n",
        "   * Training for 100 epochs regardless of anything is probably a bad idea.\n",
        "   * Some networks converge over 5 epochs, others - over 500.\n",
        "   * Way to go: stop when validation score is 10 iterations past maximum\n",
        "   * You should certainly use adaptive optimizers\n",
        "     * rmsprop, nesterov_momentum, adam, adagrad and so on.\n",
        "     * Converge faster and sometimes reach better optima\n",
        "     * It might make sense to tweak learning rate/momentum, other learning parameters, batch size and number of epochs\n",
        "   * __BatchNormalization__ (nn.BatchNorm2d) for the win!\n",
        "     * Sometimes more batch normalization is better.\n",
        "   * __Regularize__ to prevent overfitting\n",
        "     * Add some L2 weight norm to the loss function, PyTorch will do the rest\n",
        "       * Can be done manually or like [this](https://discuss.pytorch.org/t/simple-l2-regularization/139/2).\n",
        "     * Dropout (`nn.Dropout`) - to prevent overfitting\n",
        "       * Don't overdo it. Check if it actually makes your network better\n",
        "   \n",
        "### Convolution architectures\n",
        "   * This task __can__ be solved by a sequence of convolutions and poolings with batch_norm and ReLU seasoning, but you shouldn't necessarily stop there.\n",
        "   * [Inception family](https://hacktilldawn.com/2016/09/25/inception-modules-explained-and-implemented/), [ResNet family](https://towardsdatascience.com/an-overview-of-resnet-and-its-variants-5281e2f56035?gi=9018057983ca), [Densely-connected convolutions (exotic)](https://arxiv.org/abs/1608.06993), [Capsule networks (exotic)](https://arxiv.org/abs/1710.09829)\n",
        "   * Please do try a few simple architectures before you go for resnet-152.\n",
        "   * Warning! Training convolutional networks can take long without GPU. That's okay.\n",
        "     * If you are CPU-only, we still recomment that you try a simple convolutional architecture\n",
        "     * a perfect option is if you can set it up to run at nighttime and check it up at the morning.\n",
        "     * Make reasonable layer size estimates. A 128-neuron first convolution is likely an overkill.\n",
        "     * __To reduce computation__ time by a factor in exchange for some accuracy drop, try using __stride__ parameter. A stride=2 convolution should take roughly 1/4 of the default (stride=1) one.\n",
        " \n",
        "   \n",
        "### Data augmemntation\n",
        "   * getting 5x as large dataset for free is a great \n",
        "     * Zoom-in+slice = move\n",
        "     * Rotate+zoom(to remove black stripes)\n",
        "     * Add Noize (gaussian or bernoulli)\n",
        "   * Simple way to do that (if you have PIL/Image): \n",
        "     * ```from scipy.misc import imrotate,imresize```\n",
        "     * and a few slicing\n",
        "     * Other cool libraries: cv2, skimake, PIL/Pillow\n",
        "   * A more advanced way is to use torchvision transforms:\n",
        "    ```\n",
        "    transform_train = transforms.Compose([\n",
        "        transforms.RandomCrop(32, padding=4),\n",
        "        transforms.RandomHorizontalFlip(),\n",
        "        transforms.ToTensor(),\n",
        "        transforms.Normalize((0.4914, 0.4822, 0.4465), (0.2023, 0.1994, 0.2010)),\n",
        "    ])\n",
        "    trainset = torchvision.datasets.ImageFolder(root=path_to_tiny_imagenet, train=True, download=True, transform=transform_train)\n",
        "    trainloader = torch.utils.data.DataLoader(trainset, batch_size=128, shuffle=True, num_workers=2)\n",
        "\n",
        "    ```\n",
        "   * Or use this tool from Keras (requires theano/tensorflow): [tutorial](https://blog.keras.io/building-powerful-image-classification-models-using-very-little-data.html), [docs](https://keras.io/preprocessing/image/)\n",
        "   * Stay realistic. There's usually no point in flipping dogs upside down as that is not the way you usually see them.\n",
        "   \n"
      ]
    },
    {
      "cell_type": "code",
      "metadata": {
        "colab_type": "code",
        "id": "eUCpbclv57KW",
        "colab": {}
      },
      "source": [
        "import numpy as np\n",
        "import torchvision\n",
        "import torch\n",
        "from torchvision import transforms\n",
        "import torch, torch.nn as nn\n",
        "import torch.nn.functional as F\n",
        "from torch.autograd import Variable\n",
        "\n",
        "\n",
        "%matplotlib inline\n"
      ],
      "execution_count": 0,
      "outputs": []
    },
    {
      "cell_type": "code",
      "metadata": {
        "id": "05PTulfjgztQ",
        "colab_type": "code",
        "colab": {}
      },
      "source": [
        "import torch\n",
        "import torchvision\n",
        "from torchvision import transforms\n",
        "means = np.array((0.4914, 0.4822, 0.4465))\n",
        "stds = np.array((0.2023, 0.1994, 0.2010))\n",
        "\n",
        "transform_train_val = transforms.Compose([\n",
        "    transforms.RandomRotation(degrees = 30),\n",
        "    transforms.RandomHorizontalFlip(p = 0.5),\n",
        "    transforms.CenterCrop(size = 64), \n",
        "    transforms.ToTensor(), \n",
        "    transforms.Normalize(means, stds)\n",
        "])\n",
        "\n",
        "\n",
        "\n"
      ],
      "execution_count": 0,
      "outputs": []
    },
    {
      "cell_type": "code",
      "metadata": {
        "colab_type": "code",
        "id": "by4K3H0u57Kg",
        "outputId": "8c9f3e48-261a-4c9a-bd25-00c84d26233f",
        "colab": {
          "base_uri": "https://localhost:8080/",
          "height": 34
        }
      },
      "source": [
        "!git clone https://github.com/seshuad/IMagenet\n",
        "\n",
        "dataset = torchvision.datasets.ImageFolder('IMagenet/tiny-imagenet-200/train', transform = transform_train_val)\n",
        "\n",
        "test_dataset = torchvision.datasets.ImageFolder('IMagenet/tiny-imagenet-200/val', transform=transforms.ToTensor())\n",
        "\n",
        "train_dataset, val_dataset = torch.utils.data.random_split(dataset, [80000, 20000])\n",
        "\n",
        "\n",
        "batch_size = 32\n",
        "\n",
        "train_batch = torch.utils.data.DataLoader(train_dataset, \n",
        "                                              batch_size=batch_size,\n",
        "                                              shuffle=True,\n",
        "                                              num_workers=2)\n",
        "val_batch = torch.utils.data.DataLoader(val_dataset, \n",
        "                                              batch_size=batch_size,\n",
        "                                              shuffle=True,\n",
        "                                              num_workers=2)\n",
        "test_batch = torch.utils.data.DataLoader(test_dataset, \n",
        "                                              batch_size=batch_size,\n",
        "                                              shuffle=True,\n",
        "                                              num_workers=2)"
      ],
      "execution_count": 13,
      "outputs": [
        {
          "output_type": "stream",
          "text": [
            "fatal: destination path 'IMagenet' already exists and is not an empty directory.\n"
          ],
          "name": "stdout"
        }
      ]
    },
    {
      "cell_type": "code",
      "metadata": {
        "colab_type": "code",
        "id": "r2p3POFf57Ky",
        "colab": {}
      },
      "source": [
        "class Flatten(nn.Module):\n",
        "    def forward(self, input):\n",
        "        return input.view(input.size(0), -1)"
      ],
      "execution_count": 0,
      "outputs": []
    },
    {
      "cell_type": "code",
      "metadata": {
        "id": "sxEath8D1BWW",
        "colab_type": "code",
        "colab": {}
      },
      "source": [
        "np.random.seed(42)\n",
        "torch.manual_seed(42)\n",
        "torch.backends.cudnn.deterministic = True \n",
        "torch.backends.cudnn.benchmark = False \n",
        "\n",
        "\n",
        "model =  nn.Sequential(\n",
        "            nn.Conv2d(in_channels=3, out_channels=128, kernel_size=3), #3 64 64 - 8 62 62\n",
        "\n",
        "            nn.MaxPool2d(2), \n",
        "            nn.ReLU(),\n",
        "            nn.BatchNorm2d(128),\n",
        "            nn.Dropout(p = 0.3),\n",
        "            nn.Conv2d(in_channels=128, out_channels=128, kernel_size=3),\n",
        "            nn.MaxPool2d(2),\n",
        "            nn.ReLU(),\n",
        "            nn.BatchNorm2d(128),\n",
        "            nn.Dropout(p = 0.3),\n",
        "            nn.Conv2d(in_channels=128, out_channels=256, kernel_size=3),\n",
        "            nn.MaxPool2d(2),   \n",
        "            nn.ReLU(),\n",
        "            nn.BatchNorm2d(256),\n",
        "            nn.Dropout(p = 0.3),\n",
        "            nn.Conv2d(in_channels=256, out_channels=512, kernel_size=3),\n",
        "            #nn.Conv2d(in_channels=16, out_channels=32, kernel_size=3),\n",
        "            nn.MaxPool2d(2),\n",
        "           \n",
        "            nn.ReLU(),\n",
        "            nn.BatchNorm2d(512),\n",
        "            Flatten(),\n",
        "            nn.Dropout(p = 0.3),\n",
        "            nn.Linear(2048, 512),\n",
        "            nn.ReLU(),\n",
        "            nn.Dropout(p = 0.3),\n",
        "            \n",
        "            nn.Linear(512,200)\n",
        "\n",
        "            )"
      ],
      "execution_count": 0,
      "outputs": []
    },
    {
      "cell_type": "code",
      "metadata": {
        "id": "AtEKaztN1BWg",
        "colab_type": "code",
        "colab": {}
      },
      "source": [
        "def compute_loss(X_batch, y_batch):\n",
        "    X_batch = Variable(torch.FloatTensor(X_batch)).cuda()\n",
        "    y_batch = Variable(torch.LongTensor(y_batch)).cuda()\n",
        "    logits = model.cuda()(X_batch)\n",
        "    \n",
        "    loss = F.cross_entropy(logits, y_batch).mean()\n",
        "    \n",
        "\n",
        "    return loss"
      ],
      "execution_count": 0,
      "outputs": []
    },
    {
      "cell_type": "code",
      "metadata": {
        "id": "mEgFDeJ21BWr",
        "colab_type": "code",
        "outputId": "c854573b-4740-48a7-fc56-1e84bef8987a",
        "colab": {
          "base_uri": "https://localhost:8080/",
          "height": 1000
        }
      },
      "source": [
        "from torch.optim import Adam\n",
        "opt = Adam(model.parameters(),\n",
        "           lr = 1e-3, \n",
        "           weight_decay = 1e-4) \n",
        "\n",
        "train_loss = []\n",
        "val_accuracy = []\n",
        "\n",
        "import numpy as np\n",
        "\n",
        "\n",
        "\n",
        "train_loss = []\n",
        "val_accuracy = []\n",
        "\n",
        "num_epochs = 40 \n",
        "\n",
        "import time\n",
        "\n",
        "for epoch in range(num_epochs):\n",
        "    start_time = time.time()\n",
        "    model.train(True) \n",
        "    for (X_batch, y_batch) in train_batch:\n",
        "     \n",
        "        loss = compute_loss(X_batch, y_batch)\n",
        "\n",
        "        loss.backward()\n",
        "        opt.step()\n",
        "        opt.zero_grad()\n",
        "        train_loss.append(loss.cpu().data.numpy())\n",
        "    model.eval()\n",
        "  \n",
        "    for X_batch, y_batch in val_batch:\n",
        "        logits = model(Variable(torch.FloatTensor(X_batch)).cuda())\n",
        "        y_pred = logits.max(1)[1].data\n",
        "        val_accuracy.append(np.mean( (y_batch.cpu() == y_pred.cpu()).numpy() ))\n",
        "\n",
        "    print(\"Epoch {} of {} took {:.3f}s\".format(\n",
        "        epoch + 1, num_epochs, time.time() - start_time))\n",
        "    print(\"  training loss (in-iteration): \\t{:.6f}\".format(\n",
        "        np.mean(train_loss[-len(train_dataset) // batch_size :])))\n",
        "    print(\"  validation accuracy: \\t\\t\\t{:.2f} %\".format(\n",
        "        np.mean(val_accuracy[-len(val_dataset) // batch_size :]) * 100))"
      ],
      "execution_count": 31,
      "outputs": [
        {
          "output_type": "stream",
          "text": [
            "Epoch 1 of 40 took 62.333s\n",
            "  training loss (in-iteration): \t4.624020\n",
            "  validation accuracy: \t\t\t13.37 %\n",
            "Epoch 2 of 40 took 61.654s\n",
            "  training loss (in-iteration): \t4.080802\n",
            "  validation accuracy: \t\t\t17.91 %\n",
            "Epoch 3 of 40 took 63.099s\n",
            "  training loss (in-iteration): \t3.847533\n",
            "  validation accuracy: \t\t\t20.77 %\n",
            "Epoch 4 of 40 took 62.322s\n",
            "  training loss (in-iteration): \t3.670362\n",
            "  validation accuracy: \t\t\t23.62 %\n",
            "Epoch 5 of 40 took 61.247s\n",
            "  training loss (in-iteration): \t3.551527\n",
            "  validation accuracy: \t\t\t24.38 %\n",
            "Epoch 6 of 40 took 61.027s\n",
            "  training loss (in-iteration): \t3.450377\n",
            "  validation accuracy: \t\t\t26.80 %\n",
            "Epoch 7 of 40 took 61.006s\n",
            "  training loss (in-iteration): \t3.375511\n",
            "  validation accuracy: \t\t\t27.79 %\n",
            "Epoch 8 of 40 took 61.022s\n",
            "  training loss (in-iteration): \t3.307302\n",
            "  validation accuracy: \t\t\t29.18 %\n",
            "Epoch 9 of 40 took 63.470s\n",
            "  training loss (in-iteration): \t3.262775\n",
            "  validation accuracy: \t\t\t30.21 %\n",
            "Epoch 10 of 40 took 62.686s\n",
            "  training loss (in-iteration): \t3.217117\n",
            "  validation accuracy: \t\t\t29.95 %\n",
            "Epoch 11 of 40 took 61.931s\n",
            "  training loss (in-iteration): \t3.177649\n",
            "  validation accuracy: \t\t\t31.56 %\n",
            "Epoch 12 of 40 took 62.169s\n",
            "  training loss (in-iteration): \t3.147893\n",
            "  validation accuracy: \t\t\t31.30 %\n",
            "Epoch 13 of 40 took 61.966s\n",
            "  training loss (in-iteration): \t3.111490\n",
            "  validation accuracy: \t\t\t32.15 %\n",
            "Epoch 14 of 40 took 60.907s\n",
            "  training loss (in-iteration): \t3.089233\n",
            "  validation accuracy: \t\t\t32.07 %\n",
            "Epoch 15 of 40 took 61.003s\n",
            "  training loss (in-iteration): \t3.070447\n",
            "  validation accuracy: \t\t\t32.77 %\n",
            "Epoch 16 of 40 took 60.609s\n",
            "  training loss (in-iteration): \t3.042593\n",
            "  validation accuracy: \t\t\t32.80 %\n",
            "Epoch 17 of 40 took 59.737s\n",
            "  training loss (in-iteration): \t3.036569\n",
            "  validation accuracy: \t\t\t33.09 %\n",
            "Epoch 18 of 40 took 59.474s\n",
            "  training loss (in-iteration): \t3.014811\n",
            "  validation accuracy: \t\t\t33.65 %\n",
            "Epoch 19 of 40 took 59.605s\n",
            "  training loss (in-iteration): \t2.999659\n",
            "  validation accuracy: \t\t\t33.74 %\n",
            "Epoch 20 of 40 took 60.316s\n",
            "  training loss (in-iteration): \t2.986120\n",
            "  validation accuracy: \t\t\t33.51 %\n",
            "Epoch 21 of 40 took 59.772s\n",
            "  training loss (in-iteration): \t2.973352\n",
            "  validation accuracy: \t\t\t34.16 %\n",
            "Epoch 22 of 40 took 59.649s\n",
            "  training loss (in-iteration): \t2.961026\n",
            "  validation accuracy: \t\t\t34.15 %\n",
            "Epoch 23 of 40 took 59.489s\n",
            "  training loss (in-iteration): \t2.963725\n",
            "  validation accuracy: \t\t\t34.64 %\n",
            "Epoch 24 of 40 took 59.341s\n",
            "  training loss (in-iteration): \t2.949587\n",
            "  validation accuracy: \t\t\t33.89 %\n",
            "Epoch 25 of 40 took 59.211s\n",
            "  training loss (in-iteration): \t2.942445\n",
            "  validation accuracy: \t\t\t34.31 %\n",
            "Epoch 26 of 40 took 59.361s\n",
            "  training loss (in-iteration): \t2.933490\n",
            "  validation accuracy: \t\t\t34.78 %\n",
            "Epoch 27 of 40 took 59.206s\n",
            "  training loss (in-iteration): \t2.923436\n",
            "  validation accuracy: \t\t\t34.19 %\n",
            "Epoch 28 of 40 took 59.365s\n",
            "  training loss (in-iteration): \t2.913607\n",
            "  validation accuracy: \t\t\t34.51 %\n",
            "Epoch 29 of 40 took 59.192s\n",
            "  training loss (in-iteration): \t2.914319\n",
            "  validation accuracy: \t\t\t33.77 %\n",
            "Epoch 30 of 40 took 59.494s\n",
            "  training loss (in-iteration): \t2.896817\n",
            "  validation accuracy: \t\t\t34.63 %\n",
            "Epoch 31 of 40 took 61.024s\n",
            "  training loss (in-iteration): \t2.905699\n",
            "  validation accuracy: \t\t\t35.45 %\n",
            "Epoch 32 of 40 took 61.961s\n",
            "  training loss (in-iteration): \t2.895566\n",
            "  validation accuracy: \t\t\t34.89 %\n",
            "Epoch 33 of 40 took 60.778s\n",
            "  training loss (in-iteration): \t2.883800\n",
            "  validation accuracy: \t\t\t35.38 %\n",
            "Epoch 34 of 40 took 60.742s\n",
            "  training loss (in-iteration): \t2.882232\n",
            "  validation accuracy: \t\t\t34.76 %\n",
            "Epoch 35 of 40 took 61.076s\n",
            "  training loss (in-iteration): \t2.885257\n",
            "  validation accuracy: \t\t\t36.61 %\n",
            "Epoch 36 of 40 took 62.522s\n",
            "  training loss (in-iteration): \t2.864658\n",
            "  validation accuracy: \t\t\t34.92 %\n",
            "Epoch 37 of 40 took 63.232s\n",
            "  training loss (in-iteration): \t2.870694\n",
            "  validation accuracy: \t\t\t35.52 %\n",
            "Epoch 38 of 40 took 63.517s\n",
            "  training loss (in-iteration): \t2.869984\n",
            "  validation accuracy: \t\t\t35.74 %\n",
            "Epoch 39 of 40 took 63.143s\n",
            "  training loss (in-iteration): \t2.862196\n",
            "  validation accuracy: \t\t\t34.09 %\n",
            "Epoch 40 of 40 took 63.480s\n",
            "  training loss (in-iteration): \t2.862007\n",
            "  validation accuracy: \t\t\t36.07 %\n"
          ],
          "name": "stdout"
        }
      ]
    },
    {
      "cell_type": "code",
      "metadata": {
        "id": "wdyFEimS1BW7",
        "colab_type": "code",
        "outputId": "f76e181d-424b-47ff-9f26-90c0dd1f1f98",
        "colab": {
          "base_uri": "https://localhost:8080/",
          "height": 118
        }
      },
      "source": [
        "num_epochs  = 2\n",
        "opt = Adam(model.parameters(),\n",
        "           lr = 1e-5,  \n",
        "           weight_decay = 1e-4)\n",
        "for epoch in range(num_epochs):\n",
        "    start_time = time.time()\n",
        "    model.train(True) \n",
        "    for (X_batch, y_batch) in train_batch:\n",
        "        # train on batch\n",
        "        loss = compute_loss(X_batch, y_batch)\n",
        "        loss.backward()\n",
        "        opt.step()\n",
        "        opt.zero_grad()\n",
        "        train_loss.append(loss.cpu().data.numpy())\n",
        "    \n",
        "\n",
        "    model.eval()\n",
        "    for X_batch, y_batch in val_batch:\n",
        "        logits = model(Variable(torch.FloatTensor(X_batch)).cuda())\n",
        "        y_pred = logits.max(1)[1].data\n",
        "        val_accuracy.append(np.mean( (y_batch.cpu() == y_pred.cpu()).numpy() ))\n",
        "\n",
        "    \n",
        " \n",
        "    print(\"Epoch {} of {} took {:.3f}s\".format(\n",
        "        epoch + 1, num_epochs, time.time() - start_time))\n",
        "    print(\"  training loss (in-iteration): \\t{:.6f}\".format(\n",
        "        np.mean(train_loss[-len(train_dataset) // batch_size :])))\n",
        "    print(\"  validation accuracy: \\t\\t\\t{:.2f} %\".format(\n",
        "        np.mean(val_accuracy[-len(val_dataset) // batch_size :]) * 100))\n",
        "    \n"
      ],
      "execution_count": 35,
      "outputs": [
        {
          "output_type": "stream",
          "text": [
            "Epoch 1 of 2 took 61.366s\n",
            "  training loss (in-iteration): \t2.437027\n",
            "  validation accuracy: \t\t\t40.47 %\n",
            "Epoch 2 of 2 took 61.898s\n",
            "  training loss (in-iteration): \t2.439510\n",
            "  validation accuracy: \t\t\t40.18 %\n"
          ],
          "name": "stdout"
        }
      ]
    },
    {
      "cell_type": "code",
      "metadata": {
        "id": "GpQ3HA9NU1Db",
        "colab_type": "code",
        "colab": {}
      },
      "source": [
        "import torch\n",
        "import torch.nn as nn\n",
        "import torchvision.models as models\n",
        "from torch.autograd import Variable\n",
        "model = models.resnet152(pretrained=True)"
      ],
      "execution_count": 0,
      "outputs": []
    },
    {
      "cell_type": "code",
      "metadata": {
        "id": "uvygQpeOVLo_",
        "colab_type": "code",
        "colab": {
          "base_uri": "https://localhost:8080/",
          "height": 572
        },
        "outputId": "e0b918f1-efd1-4b7f-b9c1-1e7ce3c6443e"
      },
      "source": [
        "from torch.optim import Adam\n",
        "opt = Adam(model.parameters(),\n",
        "           lr = 1e-3, \n",
        "           weight_decay = 1e-4) \n",
        "\n",
        "train_loss = []\n",
        "val_accuracy = []\n",
        "\n",
        "import numpy as np\n",
        "\n",
        "\n",
        "\n",
        "train_loss = []\n",
        "val_accuracy = []\n",
        "\n",
        "num_epochs = 10 \n",
        "\n",
        "import time\n",
        "\n",
        "for epoch in range(num_epochs):\n",
        "    start_time = time.time()\n",
        "    model.train(True) \n",
        "    for (X_batch, y_batch) in train_batch:\n",
        "     \n",
        "        loss = compute_loss(X_batch, y_batch)\n",
        "\n",
        "        loss.backward()\n",
        "        opt.step()\n",
        "        opt.zero_grad()\n",
        "        train_loss.append(loss.cpu().data.numpy())\n",
        "    model.eval()\n",
        "  \n",
        "    for X_batch, y_batch in val_batch:\n",
        "        logits = model(Variable(torch.FloatTensor(X_batch)).cuda())\n",
        "        y_pred = logits.max(1)[1].data\n",
        "        val_accuracy.append(np.mean( (y_batch.cpu() == y_pred.cpu()).numpy() ))\n",
        "\n",
        "    print(\"Epoch {} of {} took {:.3f}s\".format(\n",
        "        epoch + 1, num_epochs, time.time() - start_time))\n",
        "    print(\"  training loss (in-iteration): \\t{:.6f}\".format(\n",
        "        np.mean(train_loss[-len(train_dataset) // batch_size :])))\n",
        "    print(\"  validation accuracy: \\t\\t\\t{:.2f} %\".format(\n",
        "        np.mean(val_accuracy[-len(val_dataset) // batch_size :]) * 100))"
      ],
      "execution_count": 14,
      "outputs": [
        {
          "output_type": "stream",
          "text": [
            "Epoch 1 of 10 took 434.115s\n",
            "  training loss (in-iteration): \t3.903686\n",
            "  validation accuracy: \t\t\t18.48 %\n",
            "Epoch 2 of 10 took 431.525s\n",
            "  training loss (in-iteration): \t3.548187\n",
            "  validation accuracy: \t\t\t22.62 %\n",
            "Epoch 3 of 10 took 428.178s\n",
            "  training loss (in-iteration): \t3.338513\n",
            "  validation accuracy: \t\t\t25.34 %\n",
            "Epoch 4 of 10 took 428.084s\n",
            "  training loss (in-iteration): \t3.187649\n",
            "  validation accuracy: \t\t\t25.02 %\n"
          ],
          "name": "stdout"
        },
        {
          "output_type": "error",
          "ename": "KeyboardInterrupt",
          "evalue": "ignored",
          "traceback": [
            "\u001b[0;31m---------------------------------------------------------------------------\u001b[0m",
            "\u001b[0;31mKeyboardInterrupt\u001b[0m                         Traceback (most recent call last)",
            "\u001b[0;32m<ipython-input-14-26fe7a6b3c6c>\u001b[0m in \u001b[0;36m<module>\u001b[0;34m()\u001b[0m\n\u001b[1;32m     25\u001b[0m         \u001b[0mloss\u001b[0m \u001b[0;34m=\u001b[0m \u001b[0mcompute_loss\u001b[0m\u001b[0;34m(\u001b[0m\u001b[0mX_batch\u001b[0m\u001b[0;34m,\u001b[0m \u001b[0my_batch\u001b[0m\u001b[0;34m)\u001b[0m\u001b[0;34m\u001b[0m\u001b[0;34m\u001b[0m\u001b[0m\n\u001b[1;32m     26\u001b[0m \u001b[0;34m\u001b[0m\u001b[0m\n\u001b[0;32m---> 27\u001b[0;31m         \u001b[0mloss\u001b[0m\u001b[0;34m.\u001b[0m\u001b[0mbackward\u001b[0m\u001b[0;34m(\u001b[0m\u001b[0;34m)\u001b[0m\u001b[0;34m\u001b[0m\u001b[0;34m\u001b[0m\u001b[0m\n\u001b[0m\u001b[1;32m     28\u001b[0m         \u001b[0mopt\u001b[0m\u001b[0;34m.\u001b[0m\u001b[0mstep\u001b[0m\u001b[0;34m(\u001b[0m\u001b[0;34m)\u001b[0m\u001b[0;34m\u001b[0m\u001b[0;34m\u001b[0m\u001b[0m\n\u001b[1;32m     29\u001b[0m         \u001b[0mopt\u001b[0m\u001b[0;34m.\u001b[0m\u001b[0mzero_grad\u001b[0m\u001b[0;34m(\u001b[0m\u001b[0;34m)\u001b[0m\u001b[0;34m\u001b[0m\u001b[0;34m\u001b[0m\u001b[0m\n",
            "\u001b[0;32m/usr/local/lib/python3.6/dist-packages/torch/tensor.py\u001b[0m in \u001b[0;36mbackward\u001b[0;34m(self, gradient, retain_graph, create_graph)\u001b[0m\n\u001b[1;32m    193\u001b[0m                 \u001b[0mproducts\u001b[0m\u001b[0;34m.\u001b[0m \u001b[0mDefaults\u001b[0m \u001b[0mto\u001b[0m\u001b[0;31m \u001b[0m\u001b[0;31m`\u001b[0m\u001b[0;31m`\u001b[0m\u001b[0;32mFalse\u001b[0m\u001b[0;31m`\u001b[0m\u001b[0;31m`\u001b[0m\u001b[0;34m.\u001b[0m\u001b[0;34m\u001b[0m\u001b[0;34m\u001b[0m\u001b[0m\n\u001b[1;32m    194\u001b[0m         \"\"\"\n\u001b[0;32m--> 195\u001b[0;31m         \u001b[0mtorch\u001b[0m\u001b[0;34m.\u001b[0m\u001b[0mautograd\u001b[0m\u001b[0;34m.\u001b[0m\u001b[0mbackward\u001b[0m\u001b[0;34m(\u001b[0m\u001b[0mself\u001b[0m\u001b[0;34m,\u001b[0m \u001b[0mgradient\u001b[0m\u001b[0;34m,\u001b[0m \u001b[0mretain_graph\u001b[0m\u001b[0;34m,\u001b[0m \u001b[0mcreate_graph\u001b[0m\u001b[0;34m)\u001b[0m\u001b[0;34m\u001b[0m\u001b[0;34m\u001b[0m\u001b[0m\n\u001b[0m\u001b[1;32m    196\u001b[0m \u001b[0;34m\u001b[0m\u001b[0m\n\u001b[1;32m    197\u001b[0m     \u001b[0;32mdef\u001b[0m \u001b[0mregister_hook\u001b[0m\u001b[0;34m(\u001b[0m\u001b[0mself\u001b[0m\u001b[0;34m,\u001b[0m \u001b[0mhook\u001b[0m\u001b[0;34m)\u001b[0m\u001b[0;34m:\u001b[0m\u001b[0;34m\u001b[0m\u001b[0;34m\u001b[0m\u001b[0m\n",
            "\u001b[0;32m/usr/local/lib/python3.6/dist-packages/torch/autograd/__init__.py\u001b[0m in \u001b[0;36mbackward\u001b[0;34m(tensors, grad_tensors, retain_graph, create_graph, grad_variables)\u001b[0m\n\u001b[1;32m     97\u001b[0m     Variable._execution_engine.run_backward(\n\u001b[1;32m     98\u001b[0m         \u001b[0mtensors\u001b[0m\u001b[0;34m,\u001b[0m \u001b[0mgrad_tensors\u001b[0m\u001b[0;34m,\u001b[0m \u001b[0mretain_graph\u001b[0m\u001b[0;34m,\u001b[0m \u001b[0mcreate_graph\u001b[0m\u001b[0;34m,\u001b[0m\u001b[0;34m\u001b[0m\u001b[0;34m\u001b[0m\u001b[0m\n\u001b[0;32m---> 99\u001b[0;31m         allow_unreachable=True)  # allow_unreachable flag\n\u001b[0m\u001b[1;32m    100\u001b[0m \u001b[0;34m\u001b[0m\u001b[0m\n\u001b[1;32m    101\u001b[0m \u001b[0;34m\u001b[0m\u001b[0m\n",
            "\u001b[0;31mKeyboardInterrupt\u001b[0m: "
          ]
        }
      ]
    },
    {
      "cell_type": "markdown",
      "metadata": {
        "colab_type": "text",
        "id": "bCED5y1M57LC"
      },
      "source": [
        "When everything is done, please calculate accuracy on `tiny-imagenet-200/val`"
      ]
    },
    {
      "cell_type": "code",
      "metadata": {
        "id": "Dc2LdNh_1BXa",
        "colab_type": "code",
        "colab": {}
      },
      "source": [
        "test_acc=[]\n",
        "for X_batch, y_batch in test_batch:\n",
        "        logits = model(Variable(torch.FloatTensor(X_batch)).cuda())\n",
        "        y_pred = logits.max(1)[1].data\n",
        "        test_acc.append(np.mean( (y_batch.cpu() == y_pred.cpu()).numpy() ))\n",
        "        #print(np.mean( (y_batch.cpu() == y_pred.cpu()).numpy()))\n",
        "test_accuracy = np.mean(test_acc)"
      ],
      "execution_count": 0,
      "outputs": []
    },
    {
      "cell_type": "code",
      "metadata": {
        "colab_type": "code",
        "id": "2IUfXk4457LP",
        "outputId": "24beed71-9ca1-49d5-b924-4f755373a87b",
        "colab": {
          "base_uri": "https://localhost:8080/",
          "height": 67
        }
      },
      "source": [
        "print(\"Final results:\")\n",
        "print(\"  test accuracy:\\t\\t{:.2f} %\".format(\n",
        "    test_accuracy * 100))\n",
        "\n",
        "if test_accuracy * 100 > 40:\n",
        "    print(\"Achievement unlocked: 110lvl Warlock!\")\n",
        "elif test_accuracy * 100 > 35:\n",
        "    print(\"Achievement unlocked: 80lvl Warlock!\")\n",
        "elif test_accuracy * 100 > 30:\n",
        "    print(\"Achievement unlocked: 70lvl Warlock!\")\n",
        "elif test_accuracy * 100 > 25:\n",
        "    print(\"Achievement unlocked: 60lvl Warlock!\")\n",
        "else:\n",
        "    print(\"We need more magic! Follow instructons below\")"
      ],
      "execution_count": 16,
      "outputs": [
        {
          "output_type": "stream",
          "text": [
            "Final results:\n",
            "  test accuracy:\t\t0.39 %\n",
            "We need more magic! Follow instructons below\n"
          ],
          "name": "stdout"
        }
      ]
    },
    {
      "cell_type": "markdown",
      "metadata": {
        "id": "42Va6JPGGnJW",
        "colab_type": "text"
      },
      "source": [
        "**Отчет**\n",
        "\n",
        "Начала обучение с сети из 3 линейных слоев, после 13 эпох точность была 3 процента        \n",
        "\n",
        "С добавлением conv слоя стало 14 процентов на 10 эпохе \n",
        "заменяла relu на leakyrelu - результат не стал сильно лучше(хотя часто отмечают, что leakyrelu лучше чем relu, так как он не зануляет градиент)\n",
        "\n",
        "добавление батч нормализации сильно улучшило результаты, так как она предотвращает уменьшение градиента (все слои получают градиент в одинаковой степени)\n",
        "\n",
        "с трансформацией картинок качество стало сильно лучше - так как трансформация помогает избежать переобучения\n",
        "\n",
        "30,61 with maxpool было при обучении, затем я заменила это на avgpool - результаты стали немного хуже(тк maxpool извлекает более важные признаки, что подходит для изображений). \n",
        "\n",
        "Кроме этого добавляла больше conv слоев - качество повышалось, после этого увеличивала значения выходных и входных значений (каналов) - увеличивала число фильтров, за счет этого точность на валидации стала выше \n",
        "\n",
        "в итоге обучила 40 эпох с полученной сетью, затем уменьшила learning rate и обучила еще 17 эпох(40% accuracy на валидации как результат)(Это уменьшение сильно изменяет веса в начале обучения, но делает небольшие изменения весов в конце обучения)\n"
      ]
    },
    {
      "cell_type": "markdown",
      "metadata": {
        "colab_type": "text",
        "id": "fUXrPon857LW"
      },
      "source": [
        "```\n",
        "\n",
        "```\n",
        "\n",
        "```\n",
        "\n",
        "```\n",
        "\n",
        "```\n",
        "\n",
        "```\n",
        "\n",
        "\n",
        "# Report\n",
        "\n",
        "All creative approaches are highly welcome, but at the very least it would be great to mention\n",
        "* the idea;\n",
        "* brief history of tweaks and improvements;\n",
        "* what is the final architecture and why?\n",
        "* what is the training method and, again, why?\n",
        "* Any regularizations and other techniques applied and their effects;\n",
        "\n",
        "\n",
        "There is no need to write strict mathematical proofs (unless you want to).\n",
        " * \"I tried this, this and this, and the second one turned out to be better. And i just didn't like the name of that one\" - OK, but can be better\n",
        " * \"I have analized these and these articles|sources|blog posts, tried that and that to adapt them to my problem and the conclusions are such and such\" - the ideal one\n",
        " * \"I took that code that demo without understanding it, but i'll never confess that and instead i'll make up some pseudoscientific explaination\" - __not_ok__"
      ]
    },
    {
      "cell_type": "markdown",
      "metadata": {
        "colab_type": "text",
        "id": "D8GyiABE57LZ"
      },
      "source": [
        "### Hi, my name is `___ ___`, and here's my story\n",
        "\n",
        "A long time ago in a galaxy far far away, when it was still more than an hour before the deadline, i got an idea:\n",
        "\n",
        "##### I gonna build a neural network, that\n",
        "* brief text on what was\n",
        "* the original idea\n",
        "* and why it was so\n",
        "\n",
        "How could i be so naive?!\n",
        "\n",
        "##### One day, with no signs of warning,\n",
        "This thing has finally converged and\n",
        "* Some explaination about what were the results,\n",
        "* what worked and what didn't\n",
        "* most importantly - what next steps were taken, if any\n",
        "* and what were their respective outcomes\n",
        "\n",
        "##### Finally, after __  iterations, __ mugs of [tea/coffee]\n",
        "* what was the final architecture\n",
        "* as well as training method and tricks\n",
        "\n",
        "That, having wasted ____ [minutes, hours or days] of my life training, got\n",
        "\n",
        "* accuracy on training: __\n",
        "* accuracy on validation: __\n",
        "* accuracy on test: __\n",
        "\n",
        "\n",
        "[an optional afterword and mortal curses on assignment authors]"
      ]
    },
    {
      "cell_type": "code",
      "metadata": {
        "id": "dXdrBwzb1BXp",
        "colab_type": "code",
        "colab": {}
      },
      "source": [
        ""
      ],
      "execution_count": 0,
      "outputs": []
    },
    {
      "cell_type": "code",
      "metadata": {
        "id": "h5m-fleq1BXv",
        "colab_type": "code",
        "colab": {}
      },
      "source": [
        ""
      ],
      "execution_count": 0,
      "outputs": []
    }
  ]
}