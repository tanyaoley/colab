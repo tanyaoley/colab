{
  "nbformat": 4,
  "nbformat_minor": 0,
  "metadata": {
    "colab": {
      "name": "08-decision-trees.ipynb",
      "provenance": [],
      "collapsed_sections": [],
      "include_colab_link": true
    },
    "kernelspec": {
      "name": "python3",
      "display_name": "Python 3"
    }
  },
  "cells": [
    {
      "cell_type": "markdown",
      "metadata": {
        "id": "view-in-github",
        "colab_type": "text"
      },
      "source": [
        "<a href=\"https://colab.research.google.com/github/tanyaoley/ml_course_homework/blob/master/08_decision_trees.ipynb\" target=\"_parent\"><img src=\"https://colab.research.google.com/assets/colab-badge.svg\" alt=\"Open In Colab\"/></a>"
      ]
    },
    {
      "cell_type": "markdown",
      "metadata": {
        "id": "QOFbt8z71-Q2",
        "colab_type": "text"
      },
      "source": [
        "# 8. Деревья решений. (32 балла)\n",
        "\n",
        "1. Скачайте этот ноутбук к себе.\n",
        "2. Заполните пропущенные ячейки, отвечая на заданные вопросы. Там должен быть код! (если не сказано обратное)\n",
        "3. Отправьте результат нам в Classroom\n",
        "\n",
        "## Полезная литература\n",
        "\n",
        "- [Habrahabr: ODS деревья решений](https://habrahabr.ru/company/ods/blog/322534/#derevo-resheniy)\n",
        "- [ВМК МГУ семинары по решающим деревьям](https://github.com/esokolov/ml-course-msu/blob/master/ML16/lecture-notes/Sem04_trees.pdf)\n",
        "- [Sklearn Decision Trees](http://scikit-learn.org/stable/modules/tree.html)"
      ]
    },
    {
      "cell_type": "markdown",
      "metadata": {
        "id": "AoJ1nN8O1-Q6",
        "colab_type": "text"
      },
      "source": [
        "## 1. Сравнение моделей деревьев\n",
        "\n",
        "В этом блоке вы сравните разные конфигурации композиций деревьев:\n",
        "- DecisionTree\n",
        "- Bagging\n",
        "- Bagging с другими настройками подбора признаков для разбиения\n",
        "- RandomForest\n",
        "\n",
        "Будем использовать [датасет с винишком](https://archive.ics.uci.edu/ml/datasets/wine+quality) - это задача то ли классификации то ли регресси - нужно предсказывать качество вина. Будем думать что это классификация.\n",
        "\n",
        "![](https://upload.wikimedia.org/wikipedia/en/thumb/7/7c/Lulz_Security.svg/300px-Lulz_Security.svg.png)"
      ]
    },
    {
      "cell_type": "markdown",
      "metadata": {
        "id": "BgoZMFbO1-Q9",
        "colab_type": "text"
      },
      "source": [
        "### 1.1 Чтение данных (1 балла)\n",
        "\n",
        "Данные лежат как обычно в `'../../data/winequality-red.csv.gz'`.\n",
        "\n",
        "- Прочитайте их с помощью pandas\n",
        "- нарисуйте countplot целевого признака `quality`.\n",
        "- Что вы думаете по поводу количества представителей каждого класса.\n",
        "- Разбейте данные на X и y."
      ]
    },
    {
      "cell_type": "code",
      "metadata": {
        "id": "KAFZQqDH1-Q_",
        "colab_type": "code",
        "colab": {}
      },
      "source": [
        "import pandas as pd\n",
        "import seaborn as sns\n",
        "import numpy as np"
      ],
      "execution_count": 0,
      "outputs": []
    },
    {
      "cell_type": "code",
      "metadata": {
        "id": "yKrwTeJN1-RI",
        "colab_type": "code",
        "outputId": "1113a868-88a8-4594-d2a8-b588919aa005",
        "colab": {
          "base_uri": "https://localhost:8080/",
          "height": 35
        }
      },
      "source": [
        "colab = True \n",
        "if colab:\n",
        "    from google.colab import drive\n",
        "    drive.mount('/content/drive/')\n",
        "    wine = pd.read_csv('/content/drive/My Drive/Data/winequality-red.csv.gz', sep=';')\n"
      ],
      "execution_count": 24,
      "outputs": [
        {
          "output_type": "stream",
          "text": [
            "Drive already mounted at /content/drive/; to attempt to forcibly remount, call drive.mount(\"/content/drive/\", force_remount=True).\n"
          ],
          "name": "stdout"
        }
      ]
    },
    {
      "cell_type": "code",
      "metadata": {
        "id": "hL_QZNGD1-RO",
        "colab_type": "code",
        "outputId": "a658bde9-4b90-4c72-abea-36cda69a93dd",
        "colab": {
          "base_uri": "https://localhost:8080/",
          "height": 279
        }
      },
      "source": [
        "ax = sns.countplot(x=wine[\"quality\"], data=wine)"
      ],
      "execution_count": 25,
      "outputs": [
        {
          "output_type": "display_data",
          "data": {
            "image/png": "[encoded data removed]",
            "text/plain": [
              "<Figure size 432x288 with 1 Axes>"
            ]
          },
          "metadata": {
            "tags": []
          }
        }
      ]
    },
    {
      "cell_type": "code",
      "metadata": {
        "id": "G3-Wqb4R1-RT",
        "colab_type": "code",
        "colab": {}
      },
      "source": [
        "#оценки на вино выглядят как нормальное распределение(больше средних оценок то есть 5,6)"
      ],
      "execution_count": 0,
      "outputs": []
    },
    {
      "cell_type": "code",
      "metadata": {
        "id": "ShmbCF1a1-Ra",
        "colab_type": "code",
        "colab": {}
      },
      "source": [
        "y = wine['quality']\n",
        "X = wine.drop(columns = 'quality')"
      ],
      "execution_count": 0,
      "outputs": []
    },
    {
      "cell_type": "markdown",
      "metadata": {
        "id": "Pgr59OQz1-Rl",
        "colab_type": "text"
      },
      "source": [
        "### 1.2 Сравнение моделей (4 балла)\n",
        "\n",
        "Задача классификации. Все признаки уже числовые. Значит можно пробовать просто все модели и выбрать лучшую. Так и поступим, сделайте кросс валидацию на 5 фолдах, используя `sklearn.model_selection.KFold` как аргумент у `cross_val_score`. Метрика качества будет `accuracy`.\n",
        "\n",
        "Алгоритмы для тестирования:\n",
        "- KNeighborsClassifier с 10 соседями\n",
        "- KNeighborsClassifier с 10 соседями и масштабированием StandartScaler\n",
        "- RidgeClassifier\n",
        "- DecisionTreeClassifier \n",
        "- BaggingClassifier c 100 деревьев\n",
        "- BaggingClassifier с 100 деревьев и каждое дерево обучается только по половине случайно выбранных признаков (см аргументы)\n",
        "- RandomForestClassifier c 100 деревьев\n",
        "\n",
        "Выведите среднее значение метрики качества для каждого из классификаторов. \n",
        "\n",
        "**hint**: каждый следующий алгоритм, будет показывать качество лучше, чем предыдущий. Если у вас не так - то что-то вы делаете неправильно. Везде зафиксируйте random_state=42."
      ]
    },
    {
      "cell_type": "code",
      "metadata": {
        "id": "Vix84hzXWYSr",
        "colab_type": "code",
        "colab": {}
      },
      "source": [
        "from sklearn.model_selection import KFold, cross_val_score\n",
        "from sklearn.neighbors import KNeighborsClassifier\n",
        "from sklearn.preprocessing import StandardScaler\n",
        "from sklearn.linear_model import RidgeClassifier\n",
        "from sklearn.tree import DecisionTreeClassifier\n",
        "from sklearn.ensemble import BaggingClassifier,RandomForestClassifier"
      ],
      "execution_count": 0,
      "outputs": []
    },
    {
      "cell_type": "code",
      "metadata": {
        "id": "iqxlsp-f1_02",
        "colab_type": "code",
        "colab": {}
      },
      "source": [
        "def cross_val(clf, X_data = X, y_data = y):\n",
        "  score = cross_val_score(\n",
        "    estimator=clf,\n",
        "    X = X_data, \n",
        "    y=y_data,\n",
        "    scoring='accuracy',\n",
        "    cv= KFold(n_splits= 5,random_state=42,shuffle=True)\n",
        "  )\n",
        "  return score.mean()"
      ],
      "execution_count": 0,
      "outputs": []
    },
    {
      "cell_type": "code",
      "metadata": {
        "id": "ZTHCvlMx1-Rn",
        "colab_type": "code",
        "outputId": "68dc5512-313d-481f-87bc-cbe98f95e0b4",
        "colab": {
          "base_uri": "https://localhost:8080/",
          "height": 35
        }
      },
      "source": [
        "cross_val(KNeighborsClassifier(n_neighbors=10)).mean()"
      ],
      "execution_count": 29,
      "outputs": [
        {
          "output_type": "execute_result",
          "data": {
            "text/plain": [
              "0.5122198275862069"
            ]
          },
          "metadata": {
            "tags": []
          },
          "execution_count": 29
        }
      ]
    },
    {
      "cell_type": "code",
      "metadata": {
        "id": "RrJJm9jn1-Rs",
        "colab_type": "code",
        "outputId": "c8799153-330f-4117-9c2a-eed6e1836acd",
        "colab": {
          "base_uri": "https://localhost:8080/",
          "height": 35
        }
      },
      "source": [
        "from sklearn.preprocessing import StandardScaler\n",
        "cross_val(KNeighborsClassifier(n_neighbors=10), StandardScaler().fit_transform(X), y).mean()\n"
      ],
      "execution_count": 30,
      "outputs": [
        {
          "output_type": "execute_result",
          "data": {
            "text/plain": [
              "0.5797531347962382"
            ]
          },
          "metadata": {
            "tags": []
          },
          "execution_count": 30
        }
      ]
    },
    {
      "cell_type": "code",
      "metadata": {
        "id": "-t_VVsDH1-Rx",
        "colab_type": "code",
        "outputId": "3e4907ab-203a-4c46-c11a-99b726bbc22f",
        "colab": {
          "base_uri": "https://localhost:8080/",
          "height": 35
        }
      },
      "source": [
        "cross_val(RidgeClassifier(random_state=42)).mean()"
      ],
      "execution_count": 31,
      "outputs": [
        {
          "output_type": "execute_result",
          "data": {
            "text/plain": [
              "0.5835384012539185"
            ]
          },
          "metadata": {
            "tags": []
          },
          "execution_count": 31
        }
      ]
    },
    {
      "cell_type": "code",
      "metadata": {
        "id": "kyzcymNt1-R2",
        "colab_type": "code",
        "outputId": "a3336c79-b55e-4f5c-96e4-e364351c9db0",
        "colab": {
          "base_uri": "https://localhost:8080/",
          "height": 35
        }
      },
      "source": [
        "cross_val(DecisionTreeClassifier(random_state=42)).mean()"
      ],
      "execution_count": 32,
      "outputs": [
        {
          "output_type": "execute_result",
          "data": {
            "text/plain": [
              "0.6178957680250783"
            ]
          },
          "metadata": {
            "tags": []
          },
          "execution_count": 32
        }
      ]
    },
    {
      "cell_type": "code",
      "metadata": {
        "id": "MLmcYikg1-R8",
        "colab_type": "code",
        "outputId": "d86e1534-04a5-4bf1-d4f0-32f6047238df",
        "colab": {
          "base_uri": "https://localhost:8080/",
          "height": 35
        }
      },
      "source": [
        "cross_val(BaggingClassifier(n_estimators = 100,random_state=42)).mean()"
      ],
      "execution_count": 33,
      "outputs": [
        {
          "output_type": "execute_result",
          "data": {
            "text/plain": [
              "0.6954604231974921"
            ]
          },
          "metadata": {
            "tags": []
          },
          "execution_count": 33
        }
      ]
    },
    {
      "cell_type": "code",
      "metadata": {
        "id": "wq2sspQU1-SD",
        "colab_type": "code",
        "outputId": "0d617f91-3fe5-4e5e-92b2-09e7b130e45b",
        "colab": {
          "base_uri": "https://localhost:8080/",
          "height": 35
        }
      },
      "source": [
        "cross_val(BaggingClassifier(n_estimators = 100,random_state=42, max_features = 0.5)).mean()"
      ],
      "execution_count": 34,
      "outputs": [
        {
          "output_type": "execute_result",
          "data": {
            "text/plain": [
              "0.6992123824451411"
            ]
          },
          "metadata": {
            "tags": []
          },
          "execution_count": 34
        }
      ]
    },
    {
      "cell_type": "code",
      "metadata": {
        "id": "9egN3hpF1-SH",
        "colab_type": "code",
        "outputId": "01cc5b04-3336-46d6-c43f-a673c131dc7d",
        "colab": {
          "base_uri": "https://localhost:8080/",
          "height": 35
        }
      },
      "source": [
        "cross_val(RandomForestClassifier(n_estimators=100)).mean()"
      ],
      "execution_count": 36,
      "outputs": [
        {
          "output_type": "execute_result",
          "data": {
            "text/plain": [
              "0.7029604231974922"
            ]
          },
          "metadata": {
            "tags": []
          },
          "execution_count": 36
        }
      ]
    },
    {
      "cell_type": "markdown",
      "metadata": {
        "id": "mkgll1yT1-SP",
        "colab_type": "text"
      },
      "source": [
        "### 1.3 Расуждения (8 баллов)\n",
        "\n",
        "Ответьте на вопросы развернуто, можете полистать литературу:\n",
        "\n",
        "- почему наблюдается значимая разница в качестве у KNeighborsClassifier с масштабированием и без\n",
        "- почему масштабирование не важно для деревьев решений\n",
        "- почему бэггинг на половине признаков для каждого дерева дал качество предсказания больше, чем на всех? (а он дал!)\n",
        "- у какой модели наибольшей отклонение от среднего качества предсказаний? А почему??"
      ]
    },
    {
      "cell_type": "code",
      "metadata": {
        "id": "JXZF_ulp1-SS",
        "colab_type": "code",
        "colab": {}
      },
      "source": [
        "1)потому что метрические методы чувствительны к масштабу признаков, исходные признаки имеют разные единицы измерения и масштаб\n",
        "2)признаки выбираются для узлов так, чтобы уменьшить энтропию и сам масштаб признаков не влияет на результат\n",
        "3)Бэггинг эффективен на малых выборках,на половине признаков меньше корреляция между одиночными моделями,выше точность\n",
        "4) KNeighborsClassifier с 10 соседями - нет мастабирования(на результат могут сильно влиять признаки с малым весом)\n",
        "\n",
        "  "
      ],
      "execution_count": 0,
      "outputs": []
    },
    {
      "cell_type": "markdown",
      "metadata": {
        "id": "TKlMDeOB1-SV",
        "colab_type": "text"
      },
      "source": [
        "## 2 Переобучение и Ко\n",
        "\n",
        "В последнем задании вы уже заметили, что случайный лес может вести себя немного нестабильно. В этом задании мы возьмем опять датасет MNIST(простите) и будем его решать деревьями. Почему мы взяли его? Потому что в нем фактически много разных признаков (значения пикселей в пространстве), а деревья строятся делая разбиения по признакам. Обычно на эти разбиения не обращают внимание, так как главное что тюнят - это глубина дереьвев, количество деревьев, а кучу других параметров обходят стороной, так как они \"неясные\". Попробуем прояснить их."
      ]
    },
    {
      "cell_type": "markdown",
      "metadata": {
        "id": "kHhVAq4n1-SW",
        "colab_type": "text"
      },
      "source": [
        "### 2.1 Загрузка датасета (1 балл)\n",
        "\n",
        "Загрузите датасет с помощью функции `sklearn.datasets.load_digits`. В нем будут 64px картинки в векторной форме.\n",
        "\n",
        "Нарисуйте первые 10 цифр в одной ячейке, чтобы было красиво."
      ]
    },
    {
      "cell_type": "code",
      "metadata": {
        "id": "uP8jHrWw1-SY",
        "colab_type": "code",
        "colab": {}
      },
      "source": [
        "from sklearn.datasets import load_digits\n",
        "import matplotlib.pyplot as plt\n",
        "X, y = load_digits(return_X_y=True)"
      ],
      "execution_count": 0,
      "outputs": []
    },
    {
      "cell_type": "code",
      "metadata": {
        "id": "r_emU3hR1-Sg",
        "colab_type": "code",
        "outputId": "c84f2e60-6919-47c9-b2f3-15551ba46003",
        "colab": {
          "base_uri": "https://localhost:8080/",
          "height": 124
        }
      },
      "source": [
        "X[0,:].reshape([8,8])\n",
        "f, axes = plt.subplots(1, 10, sharey=True, figsize=(16,6))\n",
        "for i in range(10):\n",
        "  axes[i].imshow(X[i,:].reshape([8,8]))"
      ],
      "execution_count": 40,
      "outputs": [
        {
          "output_type": "display_data",
          "data": {
            "image/png": "[encoded data removed]",
            "text/plain": [
              "<Figure size 1152x432 with 10 Axes>"
            ]
          },
          "metadata": {
            "tags": []
          }
        }
      ]
    },
    {
      "cell_type": "markdown",
      "metadata": {
        "id": "zToJNrj61-Sm",
        "colab_type": "text"
      },
      "source": [
        "### 2.2 Перебор классификаторов (3 балла)\n",
        "\n",
        "В этом задании вам снова придется перебрать несколько классификаторов, но теперь мы обратим внимание на другие гиперпараметры и их влияние на качество классификации, кстати опять `accuracy`.\n",
        "\n",
        "Сделайте кроссвалидацию на 10 фолдах, указав `cv=10` для следующих классификаторов:\n",
        "\n",
        "- DecisionTreeClassifier с параметрами по-умолчанию\n",
        "- BaggingClassifier с 100 деревьвев\n",
        "- BaggingClassifier с 100 деревьев, НО с ограничением на максимальное количество признаков, участвующих при обучении каждого из деревьев в $\\sqrt{N}$, где $N$ - это число признаков.\n",
        "- BaggingClassifier с 100 деревьев, НО с ограничением на количество признаков участвующих в разбиении для каждого из деревьев в $\\sqrt{N}$, где $N$ - это число признаков. Это отличается от предыдущей модели тем, где ограничивается `max_features`. Читайте документацию :trollface:\n",
        "- обычный случайный лес со 100 деревьями"
      ]
    },
    {
      "cell_type": "code",
      "metadata": {
        "id": "vvgOjIr91-So",
        "colab_type": "code",
        "colab": {}
      },
      "source": [
        "def cross_val(clf):\n",
        "  score = cross_val_score(\n",
        "    estimator=clf,\n",
        "    X = X, \n",
        "    y=y,\n",
        "    scoring='accuracy',\n",
        "    cv=10\n",
        "  )\n",
        "  return score.mean()"
      ],
      "execution_count": 0,
      "outputs": []
    },
    {
      "cell_type": "code",
      "metadata": {
        "id": "JjH3-zfq1-Sr",
        "colab_type": "code",
        "outputId": "3c8a91fd-be30-4261-abaa-e9dc2f53010a",
        "colab": {
          "base_uri": "https://localhost:8080/",
          "height": 35
        }
      },
      "source": [
        "cross_val(DecisionTreeClassifier(random_state=42)).mean()"
      ],
      "execution_count": 17,
      "outputs": [
        {
          "output_type": "execute_result",
          "data": {
            "text/plain": [
              "0.8335909373060211"
            ]
          },
          "metadata": {
            "tags": []
          },
          "execution_count": 17
        }
      ]
    },
    {
      "cell_type": "code",
      "metadata": {
        "id": "s_5FOCKz1-Sw",
        "colab_type": "code",
        "outputId": "806973db-f303-4336-d580-8f729aaa8eda",
        "colab": {
          "base_uri": "https://localhost:8080/",
          "height": 35
        }
      },
      "source": [
        "cross_val(BaggingClassifier(n_estimators = 100,random_state=42)).mean()"
      ],
      "execution_count": 18,
      "outputs": [
        {
          "output_type": "execute_result",
          "data": {
            "text/plain": [
              "0.9276350093109869"
            ]
          },
          "metadata": {
            "tags": []
          },
          "execution_count": 18
        }
      ]
    },
    {
      "cell_type": "code",
      "metadata": {
        "id": "u5W0jSsZ1-S3",
        "colab_type": "code",
        "outputId": "cd835bfa-e2d3-4ff6-ee4e-1be0d1a968fc",
        "colab": {
          "base_uri": "https://localhost:8080/",
          "height": 35
        }
      },
      "source": [
        "cross_val(BaggingClassifier(n_estimators = 100,random_state=42,max_features=int(np.sqrt(X.shape[1])))).mean()"
      ],
      "execution_count": 19,
      "outputs": [
        {
          "output_type": "execute_result",
          "data": {
            "text/plain": [
              "0.9304500310366232"
            ]
          },
          "metadata": {
            "tags": []
          },
          "execution_count": 19
        }
      ]
    },
    {
      "cell_type": "code",
      "metadata": {
        "id": "2TzAqCnBHkD6",
        "colab_type": "code",
        "outputId": "df5b3f8b-5bcc-4d39-946b-176cdbee440d",
        "colab": {
          "base_uri": "https://localhost:8080/",
          "height": 35
        }
      },
      "source": [
        "d_tree = DecisionTreeClassifier(random_state=42, max_features=int(np.sqrt(X.shape[1])))\n",
        "cross_val(BaggingClassifier(base_estimator=d_tree,n_estimators = 100,random_state=42)).mean()"
      ],
      "execution_count": 22,
      "outputs": [
        {
          "output_type": "execute_result",
          "data": {
            "text/plain": [
              "0.9510273122284294"
            ]
          },
          "metadata": {
            "tags": []
          },
          "execution_count": 22
        }
      ]
    },
    {
      "cell_type": "code",
      "metadata": {
        "id": "2dB9UxTb1-S-",
        "colab_type": "code",
        "outputId": "912e2743-2d88-4868-df25-bf46eb9d8219",
        "colab": {
          "base_uri": "https://localhost:8080/",
          "height": 35
        }
      },
      "source": [
        "cross_val(RandomForestClassifier(n_estimators = 100,random_state=42)).mean()"
      ],
      "execution_count": 42,
      "outputs": [
        {
          "output_type": "execute_result",
          "data": {
            "text/plain": [
              "0.9493544382371197"
            ]
          },
          "metadata": {
            "tags": []
          },
          "execution_count": 42
        }
      ]
    },
    {
      "cell_type": "markdown",
      "metadata": {
        "id": "8LAko25q1-TC",
        "colab_type": "text"
      },
      "source": [
        "### 2.3 В чём разница? (3 балла)\n",
        "\n",
        "Ответье на вопрос: \n",
        "\n",
        "Странно то как? Почему ограничение на количество признаков в разбиении дерева и ограничение в количестве признаков для построения каждого дерева в BaggingClasifier дало СОВСЕМ разный результат в качестве предсказания? В чем магия?\n",
        "\n",
        "![](https://i.ytimg.com/vi/_5GWMIAHc08/hqdefault.jpg)"
      ]
    },
    {
      "cell_type": "code",
      "metadata": {
        "id": "r75PquwO1-TF",
        "colab_type": "code",
        "colab": {}
      },
      "source": [
        "ограничение количества признаков в разбиении дерева позволяет сохранить минимальную коррелированность полученных в результате\n",
        "построения деревьев решений, что улучшает результат бэггинга(в этом случае работат почти как случайный лес)"
      ],
      "execution_count": 0,
      "outputs": []
    },
    {
      "cell_type": "markdown",
      "metadata": {
        "id": "9JoyLQIA1-TK",
        "colab_type": "text"
      },
      "source": [
        "### 2.4 Количество деревьев (2 балла)\n",
        "\n",
        "Сделайте перебор количества деревьев для `RandomForestClassifier`. Сохраните качества кросс валидации на 10 фолдах для `[1,5,10,15,50,100,150,200,300]` количества деревьев. Нарисуйте график, где по оси x - количество деревьев, а по оси y - качество. При каком количестве деревьев получается самое хорошее качество?"
      ]
    },
    {
      "cell_type": "code",
      "metadata": {
        "id": "nAp6myHf1-TM",
        "colab_type": "code",
        "outputId": "033a4433-cbd1-446f-d746-d7120f70d8a6",
        "colab": {
          "base_uri": "https://localhost:8080/",
          "height": 531
        }
      },
      "source": [
        "def plot_rf_trees_score():\n",
        "    trees = [1,5,10,15,50,100,150,200,300]\n",
        "    results = []\n",
        "    max_res = 0\n",
        "    max_res_tree = 0\n",
        "    for tree in trees:\n",
        "        clf = RandomForestClassifier(n_estimators=tree)\n",
        "        res = cross_val_score( clf, X, y, cv=10).mean()\n",
        "        results.append(res)\n",
        "        if res>max_res:\n",
        "          max_res = res\n",
        "          max_res_tree = tree\n",
        "    plt.figure(figsize=(15, 8))\n",
        "    plt.plot(trees, results)\n",
        "    plt.xlabel(\"n-trees\")\n",
        "    plt.ylabel(\"score\")\n",
        "    plt.title(\"Trees score dependencies\")\n",
        "    plt.show()\n",
        "    print(\"При каком количестве деревьев получается самое хорошее качество: {} \".format(max_res_tree))\n",
        "plot_rf_trees_score()"
      ],
      "execution_count": 0,
      "outputs": [
        {
          "output_type": "display_data",
          "data": {
            "image/png": "[encoded data removed]",
            "text/plain": [
              "<Figure size 1080x576 with 1 Axes>"
            ]
          },
          "metadata": {
            "tags": []
          }
        },
        {
          "output_type": "stream",
          "text": [
            "При каком количестве деревьев получается самое хорошее качество: 50 \n"
          ],
          "name": "stdout"
        }
      ]
    },
    {
      "cell_type": "markdown",
      "metadata": {
        "id": "9g1RQrFN1-TT",
        "colab_type": "text"
      },
      "source": [
        "### 2.5 Количество признаков  (2 балла)\n",
        "\n",
        "Переберите теперь максимальное количество признаков для `RandomForestClassifier` на 100 деревьях, от 1 до 64 с шагом 5. Постройте график качества по кроссвалидации на 10 фолдах."
      ]
    },
    {
      "cell_type": "code",
      "metadata": {
        "id": "rDpOKeOl1-TU",
        "colab_type": "code",
        "outputId": "2bf433ea-23b2-4d21-f5f4-0122b3195d0d",
        "colab": {
          "base_uri": "https://localhost:8080/",
          "height": 531
        }
      },
      "source": [
        "def plot_rf_trees_max_features():\n",
        "    d = X.shape[1]\n",
        "    features = [i for i in range(1,64,5)]\n",
        "    results = []\n",
        "    max_res_features = 0\n",
        "    max_res = 0\n",
        "    for f in features:\n",
        "        clf = RandomForestClassifier(n_estimators=100, random_state=42, max_features=f)\n",
        "        res = cross_val_score( clf, X, y, cv=10).mean()\n",
        "        results.append(res)\n",
        "        if res>max_res:\n",
        "          max_res_features = f \n",
        "          max_res = res  \n",
        "    plt.figure(figsize=(15, 8))\n",
        "    plt.plot(features, results, 'o')\n",
        "    plt.xlabel(\"features\")\n",
        "    plt.ylabel(\"score\")\n",
        "    plt.title(\"Trees feature dependencies\")\n",
        "    plt.show()\n",
        "    print(\"При каком количестве признаков получается самое хорошее качество: {} \".format(max_res_features))\n",
        "plot_rf_trees_max_features() \n"
      ],
      "execution_count": 0,
      "outputs": [
        {
          "output_type": "display_data",
          "data": {
            "image/png": "[encoded data removed]",
            "text/plain": [
              "<Figure size 1080x576 with 1 Axes>"
            ]
          },
          "metadata": {
            "tags": []
          }
        },
        {
          "output_type": "stream",
          "text": [
            "При каком количестве признаков получается самое хорошее качество: 6 \n"
          ],
          "name": "stdout"
        }
      ]
    },
    {
      "cell_type": "markdown",
      "metadata": {
        "id": "lGz4cTp_1-TZ",
        "colab_type": "text"
      },
      "source": [
        "### 2.5 Вопросы по RandomForest (8 баллов)\n",
        "\n",
        "Ответьте на вопросы:\n",
        "\n",
        "- Что происходит с ростом числа деревьев у случайного леса. Можно ли просто всегда брать 5000 деревьев и быть счастливым?\n",
        "\n",
        "С ростом числа деревьев будет уменьшаться скорость вычислений, до определенного критического числа деревьев качество классификации может улучшаться, но  потом не будет большой разницы в результате. \n",
        "\n",
        "- Как зависит качество предсказания в дереве в зависимости от max_features?\n",
        "- Почему качество зависит от max_features?\n",
        "\n",
        "Уменьшение признаков может помочь избежать переобучения, сделать дерево более стабильным, случайным \n",
        "чем больше признаков тем  деревья становятся более однообразными.\n",
        "\n",
        "\n",
        "- Как глубина деревьев влияет на качество случайного леса?\n",
        "\n",
        "\n",
        "При небольшой глубине увеличивается интерпретируемость решающего правила\n",
        "Чем больше глубина, тем больше точность предсказания. Но время обучения значительно падает."
      ]
    },
    {
      "cell_type": "markdown",
      "metadata": {
        "id": "UqJQ7_Gb1-TZ",
        "colab_type": "text"
      },
      "source": [
        ""
      ]
    },
    {
      "cell_type": "markdown",
      "metadata": {
        "id": "nFbzJPCB1-Ta",
        "colab_type": "text"
      },
      "source": [
        "![](https://habrastorage.org/web/ad8/366/a44/ad8366a4469346c6b2e1306495b05d1a.jpg)"
      ]
    }
  ]
}