{
  "nbformat": 4,
  "nbformat_minor": 0,
  "metadata": {
    "kernelspec": {
      "display_name": "Python 3",
      "language": "python",
      "name": "python3"
    },
    "language_info": {
      "codemirror_mode": {
        "name": "ipython",
        "version": 3
      },
      "file_extension": ".py",
      "mimetype": "text/x-python",
      "name": "python",
      "nbconvert_exporter": "python",
      "pygments_lexer": "ipython3",
      "version": "3.7.0"
    },
    "colab": {
      "name": "02.02-clustering.ipynb",
      "provenance": [],
      "collapsed_sections": [],
      "include_colab_link": true
    }
  },
  "cells": [
    {
      "cell_type": "markdown",
      "metadata": {
        "id": "view-in-github",
        "colab_type": "text"
      },
      "source": [
        "<a href=\"https://colab.research.google.com/github/tanyaoley/colab/blob/master/02_02_clustering.ipynb\" target=\"_parent\"><img src=\"https://colab.research.google.com/assets/colab-badge.svg\" alt=\"Open In Colab\"/></a>"
      ]
    },
    {
      "cell_type": "markdown",
      "metadata": {
        "id": "tl5GndyEOiot",
        "colab_type": "text"
      },
      "source": [
        "# 2.2 Кластеризация. Баннеры.\n",
        "\n",
        "1. Скачайте этот ноутбук к себе.\n",
        "2. Заполните пропущенные ячейки, отвечая на заданные вопросы. Там должен быть код! (если не сказано обратное)\n",
        "3. Сохраните результат в своём гитхаб репозитории.\n",
        "\n",
        "### Полезная литература\n",
        "\n",
        "- [ODS: Обучение без учителя: PCA и кластеризация](https://habrahabr.ru/company/ods/blog/325654/)\n",
        "- [Интересные алгоритмы кластеризации, часть первая: Affinity propagation](https://habrahabr.ru/post/321216/) и другие статьи цикла\n",
        "- [Глава 7: кластеризация и визуализация. К. В. Воронцов](http://www.machinelearning.ru/wiki/images/6/6d/Voron-ML-1.pdf)\n",
        "- [Документация sklearn.clustering](http://scikit-learn.org/stable/modules/clustering.html)\n",
        "- [K-Means Clustering - The Math of Intelligence. Siraj Raval](https://www.youtube.com/watch?v=9991JlKnFmk) объяснение с программированием KMeans вручную"
      ]
    },
    {
      "cell_type": "markdown",
      "metadata": {
        "id": "GYdouILzCWS-",
        "colab_type": "text"
      },
      "source": [
        ""
      ]
    },
    {
      "cell_type": "markdown",
      "metadata": {
        "id": "FF0l09wsOiou",
        "colab_type": "text"
      },
      "source": [
        "## Центры кластеров (6 баллов)\n",
        "\n",
        "Представим, что международное круизное агентство Carnival Cruise Line решило себя разрекламировать с помощью баннеров и обратилось для этого к вам. Чтобы протестировать, велика ли от таких баннеров польза, их будет размещено всего 20 штук по всему миру. Вам надо выбрать 20 таких локаций для размещения, чтобы польза была большой и агентство продолжило с вами сотрудничать.\n",
        "\n",
        "Агентство крупное, и у него есть несколько офисов по всему миру. Вблизи этих офисов оно и хочет разместить баннеры — легче договариваться и проверять результат. Также эти места должны быть популярны среди туристов.\n",
        "\n",
        "Для поиска оптимальных мест воспользуемся базой данных крупнейшей социальной сети, основанной на локациях — Foursquare. Полный датасет доступен здесь: https://archive.org/details/201309_foursquare_dataset_umn. Но в `../../data/checkins.csv.gz` я подготовил данные и оставил только 100000 элементов, иначе бы KMeans обучался пол дня."
      ]
    },
    {
      "cell_type": "markdown",
      "metadata": {
        "id": "qNOfYnjUOiov",
        "colab_type": "text"
      },
      "source": [
        "Найдем на Google Maps координаты офисов компании:\n",
        "\n",
        "```\n",
        "33.751277, -118.188740 (Los Angeles)\n",
        "25.867736, -80.324116 (Miami)\n",
        "51.503016, -0.075479 (London)\n",
        "52.378894, 4.885084 (Amsterdam)\n",
        "39.366487, 117.036146 (Beijing)\n",
        "-33.868457, 151.205134 (Sydney)\n",
        "```"
      ]
    },
    {
      "cell_type": "markdown",
      "metadata": {
        "id": "9FmOO2khOiow",
        "colab_type": "text"
      },
      "source": [
        "###  2.0 Read data (0.5 балла): \n",
        "**Загрузите датасет используя pandas `checkins.csv.gz`. Выведите его размер, первые 5 строк таблицы, статистическиую сводку(describe) **"
      ]
    },
    {
      "cell_type": "code",
      "metadata": {
        "id": "O_w_yFSzOiox",
        "colab_type": "code",
        "outputId": "34b2b7ff-60fe-49ec-ac08-f33e08d04537",
        "colab": {
          "base_uri": "https://localhost:8080/",
          "height": 402
        }
      },
      "source": [
        "import pandas as pd\n",
        "colab = True\n",
        "if colab:\n",
        "    from google.colab import drive\n",
        "    drive.mount('/content/drive/')\n",
        "    df = pd.read_csv('/content/drive/My Drive/Data/checkins.csv.gz')\n",
        "else:\n",
        "  df = pd.read_csv(\"../../data/checkins.csv.gz\")\n",
        "print(df.head())\n",
        "df.describe()"
      ],
      "execution_count": 72,
      "outputs": [
        {
          "output_type": "stream",
          "text": [
            "Drive already mounted at /content/drive/; to attempt to forcibly remount, call drive.mount(\"/content/drive/\", force_remount=True).\n",
            "    latitude   longitude\n",
            "0  38.895112  -77.036366\n",
            "1  33.800745  -84.410520\n",
            "2  45.523452 -122.676207\n",
            "3  40.764462 -111.904565\n",
            "4  33.448377 -112.074037\n"
          ],
          "name": "stdout"
        },
        {
          "output_type": "execute_result",
          "data": {
            "text/html": [
              "<div>\n",
              "<style scoped>\n",
              "    .dataframe tbody tr th:only-of-type {\n",
              "        vertical-align: middle;\n",
              "    }\n",
              "\n",
              "    .dataframe tbody tr th {\n",
              "        vertical-align: top;\n",
              "    }\n",
              "\n",
              "    .dataframe thead th {\n",
              "        text-align: right;\n",
              "    }\n",
              "</style>\n",
              "<table border=\"1\" class=\"dataframe\">\n",
              "  <thead>\n",
              "    <tr style=\"text-align: right;\">\n",
              "      <th></th>\n",
              "      <th>latitude</th>\n",
              "      <th>longitude</th>\n",
              "    </tr>\n",
              "  </thead>\n",
              "  <tbody>\n",
              "    <tr>\n",
              "      <th>count</th>\n",
              "      <td>100000.000000</td>\n",
              "      <td>100000.000000</td>\n",
              "    </tr>\n",
              "    <tr>\n",
              "      <th>mean</th>\n",
              "      <td>36.886388</td>\n",
              "      <td>-89.396849</td>\n",
              "    </tr>\n",
              "    <tr>\n",
              "      <th>std</th>\n",
              "      <td>8.351517</td>\n",
              "      <td>35.579317</td>\n",
              "    </tr>\n",
              "    <tr>\n",
              "      <th>min</th>\n",
              "      <td>-45.031162</td>\n",
              "      <td>-159.670833</td>\n",
              "    </tr>\n",
              "    <tr>\n",
              "      <th>25%</th>\n",
              "      <td>33.494170</td>\n",
              "      <td>-112.074037</td>\n",
              "    </tr>\n",
              "    <tr>\n",
              "      <th>50%</th>\n",
              "      <td>38.646991</td>\n",
              "      <td>-87.743938</td>\n",
              "    </tr>\n",
              "    <tr>\n",
              "      <th>75%</th>\n",
              "      <td>40.740389</td>\n",
              "      <td>-75.163789</td>\n",
              "    </tr>\n",
              "    <tr>\n",
              "      <th>max</th>\n",
              "      <td>67.631479</td>\n",
              "      <td>174.908056</td>\n",
              "    </tr>\n",
              "  </tbody>\n",
              "</table>\n",
              "</div>"
            ],
            "text/plain": [
              "            latitude      longitude\n",
              "count  100000.000000  100000.000000\n",
              "mean       36.886388     -89.396849\n",
              "std         8.351517      35.579317\n",
              "min       -45.031162    -159.670833\n",
              "25%        33.494170    -112.074037\n",
              "50%        38.646991     -87.743938\n",
              "75%        40.740389     -75.163789\n",
              "max        67.631479     174.908056"
            ]
          },
          "metadata": {
            "tags": []
          },
          "execution_count": 72
        }
      ]
    },
    {
      "cell_type": "markdown",
      "metadata": {
        "id": "_YewtcqKOio0",
        "colab_type": "text"
      },
      "source": [
        "###  2.1 MeanShift (1 балл): \n",
        "Для данной задачи мы не знаем сколько кластеров вообще существует, и есть ли они, поэтому воспользуемся методом, который сам находит нужное количество кластеров. Используйте `MeanShift`, указав `bandwidth=0.1`, что в переводе из градусов в метры колеблется примерно от 5 до 10 км в средних широтах. Документацию по нему вы можете найти в документации SKlearn [тут](http://scikit-learn.org/stable/modules/clustering.html#mean-shift).\n",
        "\n",
        "**Обучите кластеризатор на всех данных.** Выполнение в 4 потока на i5 заняло 2 минуты."
      ]
    },
    {
      "cell_type": "code",
      "metadata": {
        "id": "4Rssk7EbOio1",
        "colab_type": "code",
        "outputId": "b61f7ef4-5554-424b-ea76-f8ece29ade5c",
        "colab": {
          "base_uri": "https://localhost:8080/",
          "height": 50
        }
      },
      "source": [
        "from sklearn.cluster import MeanShift \n",
        "ms = MeanShift(bandwidth=0.1)\n",
        "ms.fit(df)\n",
        "\n"
      ],
      "execution_count": 73,
      "outputs": [
        {
          "output_type": "execute_result",
          "data": {
            "text/plain": [
              "MeanShift(bandwidth=0.1, bin_seeding=False, cluster_all=True, min_bin_freq=1,\n",
              "          n_jobs=None, seeds=None)"
            ]
          },
          "metadata": {
            "tags": []
          },
          "execution_count": 73
        }
      ]
    },
    {
      "cell_type": "markdown",
      "metadata": {
        "id": "6BkX8BzlOio3",
        "colab_type": "text"
      },
      "source": [
        "### 2.2 Visualization (0.5 балла): \n",
        "**Визуализируйте с помощью matplotlib все точки из датасета** так, чтобы они были разукрашены в соответсвии с кластером к которому они принадлежат. **Добавьте на ваш график ещё точки расположений офисов**, сделайте их большими и красными, чтобы было видно. Рисовать каким-то образом карту мира под точками НЕ надо."
      ]
    },
    {
      "cell_type": "code",
      "metadata": {
        "id": "uZEJFIixOio4",
        "colab_type": "code",
        "outputId": "c8357314-9ada-47dd-9dc0-ea2b1137e85a",
        "colab": {
          "base_uri": "https://localhost:8080/",
          "height": 286
        }
      },
      "source": [
        "import numpy as np \n",
        "labels = ms.labels_\n",
        "cluster_centers = ms.cluster_centers_\n",
        "\n",
        "\n",
        "import matplotlib.pyplot as plt\n",
        "\n",
        "\n",
        "plt.scatter(df.iloc[ :,1], df.iloc[:, 0], c=labels.astype(float))\n",
        "\n",
        "\n",
        "data = np.array([[33.751277, -118.188740], \n",
        "[25.867736, -80.324116], \n",
        "[51.503016, -0.075479], \n",
        "[52.378894, 4.885084], \n",
        "[39.366487, 117.036146], \n",
        "[-33.868457, 151.205134]],dtype=np.float)\n",
        "\n",
        "df1 = pd.DataFrame(data)\n",
        "plt.plot(df1.iloc[:,1], df1.iloc[:,0], 'o', c = 'r', markersize=15)"
      ],
      "execution_count": 75,
      "outputs": [
        {
          "output_type": "execute_result",
          "data": {
            "text/plain": [
              "[<matplotlib.lines.Line2D at 0x7ff0d4df0c18>]"
            ]
          },
          "metadata": {
            "tags": []
          },
          "execution_count": 75
        },
        {
          "output_type": "display_data",
          "data": {
            "image/png": "[encoded data removed]",
            "text/plain": [
              "<Figure size 432x288 with 1 Axes>"
            ]
          },
          "metadata": {
            "tags": []
          }
        }
      ]
    },
    {
      "cell_type": "markdown",
      "metadata": {
        "id": "OQww3COaOio7",
        "colab_type": "text"
      },
      "source": [
        "###  2.3 Filter clusters (2 балла): \n",
        "Как видим на графике, некоторые из получившихся кластеров содержат слишком мало точек — такие кластеры не интересны рекламодателям. Поэтому надо определить, какие из кластеров содержат, скажем, больше 15 элементов. Центры этих кластеров и являются оптимальными для размещения. \n",
        "\n",
        "**Выведите количество кластеров, которое удовлетворяет этому условию.**\n",
        "\n",
        "**Hint**: `itertools.groupby`"
      ]
    },
    {
      "cell_type": "code",
      "metadata": {
        "id": "jdpJvPIiOio7",
        "colab_type": "code",
        "outputId": "5963acf2-0e40-417a-d485-38f5902d65c8",
        "colab": {
          "base_uri": "https://localhost:8080/",
          "height": 34
        }
      },
      "source": [
        "from itertools import groupby\n",
        "d = { i : len(list(j)) for i,j in groupby(sorted(labels))}\n",
        "d = dict((k, v) for k, v in d.items() if v > 15)\n",
        "len(d)\n"
      ],
      "execution_count": 76,
      "outputs": [
        {
          "output_type": "execute_result",
          "data": {
            "text/plain": [
              "592"
            ]
          },
          "metadata": {
            "tags": []
          },
          "execution_count": 76
        }
      ]
    },
    {
      "cell_type": "markdown",
      "metadata": {
        "id": "sjymBfYEOio-",
        "colab_type": "text"
      },
      "source": [
        "###  Задание 2.4 (2 балла): \n",
        "Как мы помним, необходимо разместить только 20 баннеров близ офисов компании. Осталось определить 20 ближайших к ним центров кластеров. Т.е. посчитать дистанцию до ближайшего офиса для каждой точки и выбрать 20 с наименьшим значением.\n",
        "\n",
        "**Выведите эти 20 центров кластеров, отсортрованных по возрастанию расстояния до ближайшего офиса.**\n",
        "\n",
        "**Hint:** Для вычисления расстояния вы можете использовать обычную евклидову метрику и предполагать, что земля плоская. А можете использовать `geopy.distance.vincenty` если поймёте как."
      ]
    },
    {
      "cell_type": "code",
      "metadata": {
        "id": "Q26cGveqOio_",
        "colab_type": "code",
        "outputId": "8e196060-26fb-4063-8478-c757a9b82515",
        "colab": {
          "base_uri": "https://localhost:8080/",
          "height": 353
        }
      },
      "source": [
        "import itertools  \n",
        "from geopy.distance import vincenty\n",
        "distance = dict()\n",
        "\n",
        "for i in range(cluster_centers.shape[0]):\n",
        "  if i in d:\n",
        "    min_local = 0\n",
        "    for j in range(df1.shape[0]):\n",
        "      min_curr = vincenty((cluster_centers[i,0],cluster_centers[i,1]), (df1.iloc[j,0],df1.iloc[j,1])).kilometers\n",
        "      if (min_local == 0) or (min_local>min_curr):\n",
        "        min_local = min_curr\n",
        "        point_cluster = (cluster_centers[i,0],cluster_centers[i,1])\n",
        "    distance[min_local] = point_cluster  \n",
        "l = (list(distance.keys()))\n",
        "l.sort()\n",
        "closest = [distance[l[i]] for i in range(20)]\n",
        "closest"
      ],
      "execution_count": 80,
      "outputs": [
        {
          "output_type": "execute_result",
          "data": {
            "text/plain": [
              "[(52.37296399032261, 4.892317222580647),\n",
              " (-33.86063042857143, 151.20477592857145),\n",
              " (25.8456722642857, -80.31889059642857),\n",
              " (51.502991260887086, -0.12553728870967767),\n",
              " (33.8098779552631, -118.14892380690813),\n",
              " (25.7858124199675, -80.2179380368254),\n",
              " (25.705349721052592, -80.28342873815798),\n",
              " (33.8883253427586, -118.04892817172427),\n",
              " (26.010098249285683, -80.19999058571432),\n",
              " (33.87298601157018, -118.36209114655645),\n",
              " (33.97257482142858, -118.16837066666663),\n",
              " (33.81730643390889, -117.891249170958),\n",
              " (26.138843786842077, -80.33434683684207),\n",
              " (33.98393587403844, -118.00740497307689),\n",
              " (33.67430265976576, -117.85878926777275),\n",
              " (26.120862658633104, -80.1589066802157),\n",
              " (34.06039755458241, -118.24870902659876),\n",
              " (26.20058464102565, -80.250716125641),\n",
              " (34.03548695312116, -118.43899771946148),\n",
              " (33.65089599288026, -117.75207397281613)]"
            ]
          },
          "metadata": {
            "tags": []
          },
          "execution_count": 80
        }
      ]
    },
    {
      "cell_type": "markdown",
      "metadata": {
        "id": "gh4HF9xkOipB",
        "colab_type": "text"
      },
      "source": [
        "Координата центра кластера ближайшего к какому-то из офисов компании должны быть `(52.37296399032261, 4.8923172225806466)`. Если у вас не так, то считайте, что вы сделали что-то неправильно. "
      ]
    }
  ]
}