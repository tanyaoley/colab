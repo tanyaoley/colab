{
  "nbformat": 4,
  "nbformat_minor": 0,
  "metadata": {
    "colab": {
      "name": "Copy of 07-text-classification-bayes.ipynb",
      "provenance": [],
      "collapsed_sections": [],
      "include_colab_link": true
    },
    "kernelspec": {
      "name": "python3",
      "display_name": "Python 3"
    }
  },
  "cells": [
    {
      "cell_type": "markdown",
      "metadata": {
        "id": "view-in-github",
        "colab_type": "text"
      },
      "source": [
        "<a href=\"https://colab.research.google.com/github/tanyaoley/ml_course_homework/blob/master/07_text_classification_bayes.ipynb\" target=\"_parent\"><img src=\"https://colab.research.google.com/assets/colab-badge.svg\" alt=\"Open In Colab\"/></a>"
      ]
    },
    {
      "cell_type": "markdown",
      "metadata": {
        "id": "nB0aFMdYbe3q",
        "colab_type": "text"
      },
      "source": [
        "# 7. Наивный Байес и Классификация текстов\n",
        "\n",
        "> Байесовские алгоритмы для классификации текстов  \n",
        "> Извлечение признаков из текста\n",
        "\n",
        "1. Скачайте этот ноутбук к себе.\n",
        "2. Заполните пропущенные ячейки, отвечая на заданные вопросы. Там должен быть код! (если не сказано обратное)\n",
        "3. Сохраните результат в своём гитхаб репозитории.\n",
        "\n",
        "### Полезная литература\n",
        "\n",
        "- [Naive Bayes and Text Classification](https://sebastianraschka.com/Articles/2014_naive_bayes_1.html)\n",
        "- [ODS - классификация](https://habrahabr.ru/company/ods/blog/322534/)\n",
        "- [Байесовский классификатор](http://www.machinelearning.ru/wiki/index.php?title=%D0%91%D0%B0%D0%B9%D0%B5%D1%81%D0%BE%D0%B2%D1%81%D0%BA%D0%B8%D0%B9_%D0%BA%D0%BB%D0%B0%D1%81%D1%81%D0%B8%D1%84%D0%B8%D0%BA%D0%B0%D1%82%D0%BE%D1%80)\n",
        "- [Интересная статья про спам/не спам](https://habrahabr.ru/post/252265/)\n",
        "\n",
        "Если вам понравилась задача распознавания текстов, то вот подборочка:\n",
        "\n",
        "- [библиотека Gensim](https://radimrehurek.com/gensim/)\n",
        "- [библиотека nltk](http://www.nltk.org/)\n",
        "- [Лекция про word2vec 🔥](https://www.youtube.com/watch?v=oBb9aFmp0Hs)\n",
        "- [Лекция Векторные представления слов и документов 🔥](https://www.youtube.com/watch?v=hiDBnEyoZS4)"
      ]
    },
    {
      "cell_type": "markdown",
      "metadata": {
        "id": "dijVKK51be3y",
        "colab_type": "text"
      },
      "source": [
        "## Наивный байесовский классификатор\n",
        "\n",
        "На практике мы использовали его для детекции спам/не спам. В этот раз вы будете классифицировать [новостные тексты](https://scikit-learn.org/0.19/datasets/twenty_newsgroups.html). Попробуете разные методы  генерации признаков из текстов."
      ]
    },
    {
      "cell_type": "code",
      "metadata": {
        "id": "6Vuwyg7qbe30",
        "colab_type": "code",
        "outputId": "7572ea96-8f66-4cb1-b7ce-aff1e6ef729e",
        "colab": {
          "base_uri": "https://localhost:8080/",
          "height": 372
        }
      },
      "source": [
        "from sklearn.datasets import fetch_20newsgroups\n",
        "newsgroups_train = fetch_20newsgroups(subset='train', remove=('headers', 'footers', 'quotes'))\n",
        "newsgroups_train.target_names"
      ],
      "execution_count": 13,
      "outputs": [
        {
          "output_type": "execute_result",
          "data": {
            "text/plain": [
              "['alt.atheism',\n",
              " 'comp.graphics',\n",
              " 'comp.os.ms-windows.misc',\n",
              " 'comp.sys.ibm.pc.hardware',\n",
              " 'comp.sys.mac.hardware',\n",
              " 'comp.windows.x',\n",
              " 'misc.forsale',\n",
              " 'rec.autos',\n",
              " 'rec.motorcycles',\n",
              " 'rec.sport.baseball',\n",
              " 'rec.sport.hockey',\n",
              " 'sci.crypt',\n",
              " 'sci.electronics',\n",
              " 'sci.med',\n",
              " 'sci.space',\n",
              " 'soc.religion.christian',\n",
              " 'talk.politics.guns',\n",
              " 'talk.politics.mideast',\n",
              " 'talk.politics.misc',\n",
              " 'talk.religion.misc']"
            ]
          },
          "metadata": {
            "tags": []
          },
          "execution_count": 13
        }
      ]
    },
    {
      "cell_type": "markdown",
      "metadata": {
        "id": "CffeqYRBbe4I",
        "colab_type": "text"
      },
      "source": [
        "### 2.1 Загрузка данных (2 балла)\n",
        "\n",
        "Мы будем использовать только 4 класса текстов: `'alt.atheism', 'sci.space', 'talk.religion.misc', 'comp.graphics'`.\n",
        "\n",
        "Загрузите тренировочную и тестовую части датасета для этих категорий."
      ]
    },
    {
      "cell_type": "code",
      "metadata": {
        "id": "Gm9GA7_QIIrt",
        "colab_type": "code",
        "colab": {}
      },
      "source": [
        "categories = ['alt.atheism', 'sci.space', 'talk.religion.misc', 'comp.graphics']\n",
        "newsgroups_train = fetch_20newsgroups(subset='train',remove=('headers', 'footers', 'quotes'), categories= categories)\n",
        "newsgroups_test = fetch_20newsgroups(subset='test',remove=('headers', 'footers', 'quotes'), categories= categories)\n",
        "\n",
        "X_train = newsgroups_train.data\n",
        "X_test = newsgroups_test.data\n",
        "\n",
        "y_train = newsgroups_train.target\n",
        "y_test = newsgroups_test.target"
      ],
      "execution_count": 0,
      "outputs": []
    },
    {
      "cell_type": "markdown",
      "metadata": {
        "id": "TomTxX1Mbe4c",
        "colab_type": "text"
      },
      "source": [
        "Выведите по 1 тексту для каждой из категории."
      ]
    },
    {
      "cell_type": "code",
      "metadata": {
        "scrolled": true,
        "id": "Oh0qM926be4j",
        "colab_type": "code",
        "outputId": "34c4f5bb-8e98-4d79-c9c9-8811443ffdf7",
        "colab": {
          "base_uri": "https://localhost:8080/",
          "height": 1000
        }
      },
      "source": [
        "for i in range(4):\n",
        "  j = 0\n",
        "  while y_train[j] != i:\n",
        "    j+=1\n",
        "  print(\"{0}: {1}\".format(newsgroups_train.target_names[i],X_train[j]))"
      ],
      "execution_count": 15,
      "outputs": [
        {
          "output_type": "stream",
          "text": [
            "alt.atheism: I have a request for those who would like to see Charley Wingate\n",
            "respond to the \"Charley Challenges\" (and judging from my e-mail, there\n",
            "appear to be quite a few of you.)  \n",
            "\n",
            "It is clear that Mr. Wingate intends to continue to post tangential or\n",
            "unrelated articles while ingoring the Challenges themselves.  Between\n",
            "the last two re-postings of the Challenges, I noted perhaps a dozen or\n",
            "more posts by Mr. Wingate, none of which answered a single Challenge.  \n",
            "\n",
            "It seems unmistakable to me that Mr. Wingate hopes that the questions\n",
            "will just go away, and he is doing his level best to change the\n",
            "subject.  Given that this seems a rather common net.theist tactic, I\n",
            "would like to suggest that we impress upon him our desire for answers,\n",
            "in the following manner:\n",
            "\n",
            "1. Ignore any future articles by Mr. Wingate that do not address the\n",
            "Challenges, until he answers them or explictly announces that he\n",
            "refuses to do so.\n",
            "\n",
            "--or--\n",
            "\n",
            "2. If you must respond to one of his articles, include within it\n",
            "something similar to the following:\n",
            "\n",
            "    \"Please answer the questions posed to you in the Charley Challenges.\"\n",
            "\n",
            "Really, I'm not looking to humiliate anyone here, I just want some\n",
            "honest answers.  You wouldn't think that honesty would be too much to\n",
            "ask from a devout Christian, would you?  \n",
            "\n",
            "Nevermind, that was a rhetorical question.\n",
            "comp.graphics: Hi,\n",
            "\n",
            "I've noticed that if you only save a model (with all your mapping planes\n",
            "positioned carefully) to a .3DS file that when you reload it after restarting\n",
            "3DS, they are given a default position and orientation.  But if you save\n",
            "to a .PRJ file their positions/orientation are preserved.  Does anyone\n",
            "know why this information is not stored in the .3DS file?  Nothing is\n",
            "explicitly said in the manual about saving texture rules in the .PRJ file. \n",
            "I'd like to be able to read the texture rule information, does anyone have \n",
            "the format for the .PRJ file?\n",
            "\n",
            "Is the .CEL file format available from somewhere?\n",
            "\n",
            "Rych\n",
            "sci.space: \n",
            " >In article <1993Apr19.020359.26996@sq.sq.com>, msb@sq.sq.com (Mark Brader) \n",
            "\n",
            "MB>                                                             So the\n",
            "MB> 1970 figure seems unlikely to actually be anything but a perijove.\n",
            "\n",
            "JG>Sorry, _perijoves_...I'm not used to talking this language.\n",
            "\n",
            "Couldn't we just say periapsis or apoapsis?\n",
            "\n",
            " \n",
            "talk.religion.misc: \n",
            "\n",
            "Seems to be, barring evidence to the contrary, that Koresh was simply\n",
            "another deranged fanatic who thought it neccessary to take a whole bunch of\n",
            "folks with him, children and all, to satisfy his delusional mania. Jim\n",
            "Jones, circa 1993.\n",
            "\n",
            "\n",
            "Nope - fruitcakes like Koresh have been demonstrating such evil corruption\n",
            "for centuries.\n"
          ],
          "name": "stdout"
        }
      ]
    },
    {
      "cell_type": "markdown",
      "metadata": {
        "id": "JygPRk9vbe40",
        "colab_type": "text"
      },
      "source": [
        "### 2.2 Мешок слов (6 баллов)\n",
        "\n",
        "Начнем с самого простого способа извлечения признаков из текстов: обычный подсчет количества употреблений слов в тексте.\n",
        "\n",
        "Для этого используем [sklearn.feature_extraction.text.CountVectorizer](http://scikit-learn.org/stable/modules/generated/sklearn.feature_extraction.text.CountVectorizer.html). Настройте его так, чтобы он использовал англиские стоп слова.\n",
        "\n",
        "Проведите трансформаци текстов из обоих датасетов и выведите размер полученного словаря. (1 векторайзер для тестового и тренировочного датасета! У вас должны получиться матрицы с одинаковыми признаками-словами)"
      ]
    },
    {
      "cell_type": "code",
      "metadata": {
        "id": "yZqkeoAWmqLJ",
        "colab_type": "code",
        "colab": {}
      },
      "source": [
        "from sklearn.feature_extraction.text import CountVectorizer"
      ],
      "execution_count": 0,
      "outputs": []
    },
    {
      "cell_type": "code",
      "metadata": {
        "id": "ARVAfHodbe49",
        "colab_type": "code",
        "colab": {}
      },
      "source": [
        "vectorizer = CountVectorizer(stop_words='english')\n",
        "train_vect = vectorizer.fit_transform(X_train)\n",
        "test_vect = vectorizer.transform(X_test)\n"
      ],
      "execution_count": 0,
      "outputs": []
    },
    {
      "cell_type": "code",
      "metadata": {
        "id": "FDsHmMjNpdec",
        "colab_type": "code",
        "outputId": "8e5d5ba4-b046-41b7-fc5e-ccb387d1a15c",
        "colab": {
          "base_uri": "https://localhost:8080/",
          "height": 35
        }
      },
      "source": [
        "len(vectorizer.vocabulary_)"
      ],
      "execution_count": 18,
      "outputs": [
        {
          "output_type": "execute_result",
          "data": {
            "text/plain": [
              "26576"
            ]
          },
          "metadata": {
            "tags": []
          },
          "execution_count": 18
        }
      ]
    },
    {
      "cell_type": "markdown",
      "metadata": {
        "id": "h2RUrm1Cbe5K",
        "colab_type": "text"
      },
      "source": [
        "Будем использовать классифиактор для мультиклассифкации [sklearn.naive_bayes.MultinomialNB]().\n",
        "\n",
        "- Проведите кроссвалидацию на 5 фолдах для метрики `accuracy`.\n",
        "- обучите на тренировочных данных, \n",
        "- нарисуйте красивую confusion матрицу, (с именами классов, а не индексами по осям)\n",
        "- выведите отчет классификации для тестовой выборки (с именами классов, а не индексами)"
      ]
    },
    {
      "cell_type": "code",
      "metadata": {
        "id": "4E35ehv8be5L",
        "colab_type": "code",
        "outputId": "16dfe59d-89b7-40d8-c26c-018b073cceee",
        "colab": {
          "base_uri": "https://localhost:8080/",
          "height": 35
        }
      },
      "source": [
        "from sklearn.model_selection import cross_val_score\n",
        "from sklearn.naive_bayes import MultinomialNB\n",
        "clf = MultinomialNB(alpha=.01)\n",
        "mnb_bow_score = cross_val_score(\n",
        "    estimator=clf,\n",
        "    X=train_vect, \n",
        "    y=y_train,\n",
        "    scoring='accuracy',\n",
        "    cv=5 \n",
        ")\n",
        "mnb_bow_score.mean()"
      ],
      "execution_count": 19,
      "outputs": [
        {
          "output_type": "execute_result",
          "data": {
            "text/plain": [
              "0.8284104525483835"
            ]
          },
          "metadata": {
            "tags": []
          },
          "execution_count": 19
        }
      ]
    },
    {
      "cell_type": "code",
      "metadata": {
        "id": "tREvThYxbe5g",
        "colab_type": "code",
        "outputId": "0488fd4c-d703-4ebe-c8b5-e51a65f9ace2",
        "colab": {
          "base_uri": "https://localhost:8080/",
          "height": 35
        }
      },
      "source": [
        "clf.fit(train_vect, y_train)"
      ],
      "execution_count": 20,
      "outputs": [
        {
          "output_type": "execute_result",
          "data": {
            "text/plain": [
              "MultinomialNB(alpha=0.01, class_prior=None, fit_prior=True)"
            ]
          },
          "metadata": {
            "tags": []
          },
          "execution_count": 20
        }
      ]
    },
    {
      "cell_type": "code",
      "metadata": {
        "id": "c4MZRBe4CIbm",
        "colab_type": "code",
        "outputId": "ddd56f0e-ec48-4007-a2bb-61b3a7ba4df8",
        "colab": {
          "base_uri": "https://localhost:8080/",
          "height": 466
        }
      },
      "source": [
        "from sklearn.metrics import plot_confusion_matrix\n",
        "import matplotlib.pyplot as plt\n",
        "fig, ax = plt.subplots(figsize=(8,8))\n",
        "_ = plot_confusion_matrix(clf, test_vect, y_test,\n",
        "                                 display_labels=newsgroups_train.target_names,\n",
        "                                 cmap=plt.cm.Blues,\n",
        "                                 normalize='true',\n",
        "                                 ax = ax\n",
        "                                 )\n",
        "\n",
        "plt.show()"
      ],
      "execution_count": 21,
      "outputs": [
        {
          "output_type": "display_data",
          "data": {
            "image/png": "[encoded data removed]",
            "text/plain": [
              "<Figure size 576x576 with 2 Axes>"
            ]
          },
          "metadata": {
            "tags": []
          }
        }
      ]
    },
    {
      "cell_type": "code",
      "metadata": {
        "id": "ecZzeJN4FiyN",
        "colab_type": "code",
        "outputId": "86ef8808-840e-43a2-d08d-76277cc34cfd",
        "colab": {
          "base_uri": "https://localhost:8080/",
          "height": 212
        }
      },
      "source": [
        "from sklearn.metrics import classification_report\n",
        "y_pred = clf.predict(test_vect)\n",
        "print(classification_report(y_test, y_pred, target_names= newsgroups_train.target_names))"
      ],
      "execution_count": 24,
      "outputs": [
        {
          "output_type": "stream",
          "text": [
            "                    precision    recall  f1-score   support\n",
            "\n",
            "       alt.atheism       0.66      0.69      0.68       319\n",
            "     comp.graphics       0.91      0.90      0.91       389\n",
            "         sci.space       0.80      0.88      0.84       394\n",
            "talk.religion.misc       0.65      0.53      0.59       251\n",
            "\n",
            "          accuracy                           0.78      1353\n",
            "         macro avg       0.76      0.75      0.75      1353\n",
            "      weighted avg       0.77      0.78      0.77      1353\n",
            "\n"
          ],
          "name": "stdout"
        }
      ]
    },
    {
      "cell_type": "code",
      "metadata": {
        "id": "R-0FsbXzBkhH",
        "colab_type": "code",
        "colab": {}
      },
      "source": [
        "import pandas as pd"
      ],
      "execution_count": 0,
      "outputs": []
    },
    {
      "cell_type": "code",
      "metadata": {
        "id": "eV3LSxb1DwSw",
        "colab_type": "code",
        "colab": {}
      },
      "source": [
        "import numpy as np"
      ],
      "execution_count": 0,
      "outputs": []
    },
    {
      "cell_type": "code",
      "metadata": {
        "id": "aaMYax0fbe55",
        "colab_type": "code",
        "outputId": "00262b69-b683-4564-927a-e3d362613b6b",
        "colab": {
          "base_uri": "https://localhost:8080/",
          "height": 88
        }
      },
      "source": [
        "# Посмотрим на ТОП 10 по важности слова в каждой категории\n",
        "\n",
        "def show_top10(classifier, vectorizer, categories):\n",
        "    feature_names = np.asarray(vectorizer.get_feature_names())\n",
        "    for i, category in enumerate(categories):\n",
        "        top10 = np.argsort(classifier.coef_[i])[-10:]\n",
        "        print(\"%s: [%s]\" % (category, \" \".join(feature_names[top10])))\n",
        "\n",
        "show_top10(clf, vectorizer,newsgroups_train.target_names)"
      ],
      "execution_count": 28,
      "outputs": [
        {
          "output_type": "stream",
          "text": [
            "alt.atheism: [like believe say atheism does just think don people god]\n",
            "comp.graphics: [software images files data use file jpeg edu graphics image]\n",
            "sci.space: [just shuttle time orbit data like earth launch nasa space]\n",
            "talk.religion.misc: [know say christian think just bible don jesus people god]\n"
          ],
          "name": "stdout"
        }
      ]
    },
    {
      "cell_type": "markdown",
      "metadata": {
        "id": "lg5gSNjNbe6E",
        "colab_type": "text"
      },
      "source": [
        "### 2.3 [Tf-IDF](https://ru.wikipedia.org/wiki/TF-IDF) (6 баллов) \n",
        "\n",
        "Мешок слов не учитывает \"веса\" слов, он просто смотрит их вхождение в документ. Вероятно, было бы полезно взвесить каким-то обраом каждое слово в документе. Действительно, если слово встречается во всех документах, то, наверное, его вес небольшой. А если редкое слово встречается в некоторых документах, то скорее всего оно какое-то узко тематическое.\n",
        "\n",
        "Один из способов взвесить слова - это использовать меру tf-idf, где:\n",
        "\n",
        "**TF - term frequency** - частота слова для каждой статьи\n",
        "\n",
        "$$\\LARGE \\mathrm{tf}(t,d) = \\frac{n_t}{\\sum_k n_k}$$\n",
        "\n",
        "**IDF - inverse document frequency*** — обратная частота документа - уменьшает вес часто встречаемых слов\n",
        "\n",
        "$$\\LARGE \\mathrm{idf}(t, D) =  \\log \\frac{|D|}{|\\{\\,d_i \\in D \\mid t \\in d_{i}\\, \\}|}$$\n",
        "\n",
        "$D$ - число документов в корпусе\n",
        "\n",
        "$|\\{\\,d_i \\in D \\mid t \\in d_{i}\\, \\}|$ - число документов из коллекции ${\\displaystyle D}$ , в которых встречается ${\\displaystyle t}$  (когда ${\\displaystyle n_{t}\\neq 0}$ ).\n",
        "\n",
        "**TF-IDF**\n",
        "\n",
        "$$\\LARGE \\operatorname{tf-idf}(t,d,D) = \\operatorname{tf}(t,d) \\times \\operatorname{idf}(t, D)$$\n",
        "\n",
        "\n",
        "Для него есть класс [sklearn.feature_extraction.text.TfidfVectorizer](http://scikit-learn.org/stable/modules/generated/sklearn.feature_extraction.text.TfidfVectorizer.html)"
      ]
    },
    {
      "cell_type": "markdown",
      "metadata": {
        "id": "0olGBbu8be6J",
        "colab_type": "text"
      },
      "source": [
        "- Проведите кроссвалидацию на 5 фолдах для метрики `accuracy`.\n",
        "- обучите на тренировочных данных, \n",
        "- нарисуйте красивую confusion матрицу, (с именами классов, а не индексами по осям)\n",
        "- выведите отчет классификации для тестовой выборки (с именами классов, а не индексами)"
      ]
    },
    {
      "cell_type": "code",
      "metadata": {
        "id": "76Uzi9W6lD4Z",
        "colab_type": "code",
        "colab": {}
      },
      "source": [
        "from sklearn.feature_extraction.text import TfidfVectorizer\n",
        "vectorizer = TfidfVectorizer(stop_words='english')\n",
        "train_vect = vectorizer.fit_transform(X_train)\n",
        "test_vect = vectorizer.transform(X_test)"
      ],
      "execution_count": 0,
      "outputs": []
    },
    {
      "cell_type": "code",
      "metadata": {
        "id": "APKo4A3Rbe6c",
        "colab_type": "code",
        "outputId": "9654ac2f-d41f-4216-ecdd-211e83e19bee",
        "colab": {
          "base_uri": "https://localhost:8080/",
          "height": 35
        }
      },
      "source": [
        "clf = MultinomialNB(alpha=.01)\n",
        "mnb_bow_score = cross_val_score(\n",
        "    estimator=clf,\n",
        "    X=train_vect, \n",
        "    y=y_train,\n",
        "    scoring='accuracy',\n",
        "    cv=5 \n",
        ").mean()\n",
        "mnb_bow_score"
      ],
      "execution_count": 37,
      "outputs": [
        {
          "output_type": "execute_result",
          "data": {
            "text/plain": [
              "0.8505367884678229"
            ]
          },
          "metadata": {
            "tags": []
          },
          "execution_count": 37
        }
      ]
    },
    {
      "cell_type": "code",
      "metadata": {
        "id": "_ey68nUKbe6o",
        "colab_type": "code",
        "outputId": "b933d707-58e4-4c9a-f543-2f0602f458e6",
        "colab": {
          "base_uri": "https://localhost:8080/",
          "height": 469
        }
      },
      "source": [
        "clf.fit(train_vect, y_train)\n",
        "y_pred = clf.predict(test_vect)\n",
        "fig, ax = plt.subplots(figsize=(8,8))\n",
        "_ = plot_confusion_matrix(clf, test_vect, y_test,\n",
        "                                 display_labels=newsgroups_train.target_names,\n",
        "                                 cmap=plt.cm.Blues,\n",
        "                                 normalize='true',\n",
        "                                 ax = ax\n",
        "                                 )\n",
        "\n",
        "plt.show()"
      ],
      "execution_count": 38,
      "outputs": [
        {
          "output_type": "display_data",
          "data": {
            "image/png": "[encoded data removed]",
            "text/plain": [
              "<Figure size 576x576 with 2 Axes>"
            ]
          },
          "metadata": {
            "tags": []
          }
        }
      ]
    },
    {
      "cell_type": "code",
      "metadata": {
        "id": "BxoujlYyocMn",
        "colab_type": "code",
        "outputId": "cf93a5e4-bbe2-404c-bdfc-ae71d5dedce7",
        "colab": {
          "base_uri": "https://localhost:8080/",
          "height": 212
        }
      },
      "source": [
        "print(classification_report(y_test, y_pred, target_names= newsgroups_train.target_names))"
      ],
      "execution_count": 39,
      "outputs": [
        {
          "output_type": "stream",
          "text": [
            "                    precision    recall  f1-score   support\n",
            "\n",
            "       alt.atheism       0.68      0.66      0.67       319\n",
            "     comp.graphics       0.92      0.89      0.90       389\n",
            "         sci.space       0.80      0.90      0.85       394\n",
            "talk.religion.misc       0.68      0.61      0.64       251\n",
            "\n",
            "          accuracy                           0.79      1353\n",
            "         macro avg       0.77      0.76      0.77      1353\n",
            "      weighted avg       0.78      0.79      0.78      1353\n",
            "\n"
          ],
          "name": "stdout"
        }
      ]
    },
    {
      "cell_type": "code",
      "metadata": {
        "id": "7-al2n9Xbe6u",
        "colab_type": "code",
        "outputId": "f5b9e4ae-d830-460a-d361-65a201b714d5",
        "colab": {
          "base_uri": "https://localhost:8080/",
          "height": 88
        }
      },
      "source": [
        "show_top10(clf, vectorizer, newsgroups_train.target_names)"
      ],
      "execution_count": 40,
      "outputs": [
        {
          "output_type": "stream",
          "text": [
            "alt.atheism: [islam does religion atheism say just think don people god]\n",
            "comp.graphics: [windows does looking program know file image files thanks graphics]\n",
            "sci.space: [earth think shuttle orbit moon just launch like nasa space]\n",
            "talk.religion.misc: [objective think just bible don christians christian people jesus god]\n"
          ],
          "name": "stdout"
        }
      ]
    },
    {
      "cell_type": "markdown",
      "metadata": {
        "id": "a2S_uHfDbe6z",
        "colab_type": "text"
      },
      "source": [
        "### 2.4 В чём проблема? (7 баллов)\n",
        "\n",
        "Как вы заметили, качество немного улучшилось. Как вы думаете почему у нас до сих пор есть ошибки? В чём проблема? Опирайтесь на вывод топа 10 важных слов, confusion matrix и репорт классификации.\n",
        "\n",
        "**Задание**: Напишите развернутое рассуждение."
      ]
    },
    {
      "cell_type": "markdown",
      "metadata": {
        "id": "my0w7i9Lbe63",
        "colab_type": "text"
      },
      "source": [
        "Ответ: в топе слов есть общие слова для каждой из категории(но их стало меньше по сравнению с мешком слов), особенно у религии и атеизма, в confusion matrix видно, что путаются в основном эти две категории \n"
      ]
    },
    {
      "cell_type": "markdown",
      "metadata": {
        "id": "FXN0OyhQbe64",
        "colab_type": "text"
      },
      "source": [
        "![](https://i.imgur.com/3D5pgrk.png)"
      ]
    },
    {
      "cell_type": "markdown",
      "metadata": {
        "id": "OclFB5x1be65",
        "colab_type": "text"
      },
      "source": [
        "Можно еще немного улучшить качество предсказания, если использовть n-граммы, то есть не только одиночные слова, но и пары, тройки. Для этого у векторайзера есть параметр `ngram_range`, но будьте осторожны, сгенерируется очень много признаков. Их количество можно ограничить  `max_features`. Ещё можно копать в сторону правильного процессинга текстов: лемматизация и стемминг, чтобы убирать окончания, но это обчно не сильно помогает в английском языке.\n",
        "\n",
        "Кроме того можно было бы пойти совсем в другую сторону и использовать word-2-vec технологии, тогда бы у нас слова начал \"обретать\" смысл. Но это вовсем другая история."
      ]
    }
  ]
}