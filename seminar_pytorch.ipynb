{
  "nbformat": 4,
  "nbformat_minor": 0,
  "metadata": {
    "kernelspec": {
      "display_name": "Python 3",
      "language": "python",
      "name": "python3"
    },
    "language_info": {
      "codemirror_mode": {
        "name": "ipython",
        "version": 3
      },
      "file_extension": ".py",
      "mimetype": "text/x-python",
      "name": "python",
      "nbconvert_exporter": "python",
      "pygments_lexer": "ipython3",
      "version": "3.7.3"
    },
    "colab": {
      "name": "seminar_pytorch.ipynb",
      "provenance": [],
      "collapsed_sections": [],
      "include_colab_link": true
    }
  },
  "cells": [
    {
      "cell_type": "markdown",
      "metadata": {
        "id": "view-in-github",
        "colab_type": "text"
      },
      "source": [
        "<a href=\"https://colab.research.google.com/github/tanyaoley/ml_course_homework/blob/master/seminar_pytorch.ipynb\" target=\"_parent\"><img src=\"https://colab.research.google.com/assets/colab-badge.svg\" alt=\"Open In Colab\"/></a>"
      ]
    },
    {
      "cell_type": "markdown",
      "metadata": {
        "id": "IrwnHybjnXgk",
        "colab_type": "text"
      },
      "source": [
        "# Hello, pytorch\n",
        "\n",
        "![img](https://pytorch.org/tutorials/_static/pytorch-logo-dark.svg)\n",
        "\n",
        "__This notebook__ will teach you to use pytorch low-level core. You can install it [here](http://pytorch.org/). For high-level interface see the next notebook.\n",
        "\n",
        "__Pytorch feels__ differently than tensorflow/theano on almost every level. TensorFlow makes your code live in two \"worlds\" simultaneously:  symbolic graphs and actual tensors. First you declare a symbolic \"recipe\" of how to get from inputs to outputs, then feed it with actual minibatches of data.  In pytorch, __there's only one world__: all tensors have a numeric value.\n",
        "\n",
        "You compute outputs on the fly without pre-declaring anything. The code looks exactly as in pure numpy with one exception: pytorch computes gradients for you. And can run stuff on GPU. And has a number of pre-implemented building blocks for your neural nets. [And a few more things.](https://medium.com/towards-data-science/pytorch-vs-tensorflow-spotting-the-difference-25c75777377b)\n",
        "\n",
        "And now we finally shut up and let pytorch do the talking."
      ]
    },
    {
      "cell_type": "code",
      "metadata": {
        "id": "nglvduIynXg0",
        "colab_type": "code",
        "outputId": "5e4ed06d-c4de-471e-e019-8c346fe6a00a",
        "colab": {
          "base_uri": "https://localhost:8080/",
          "height": 319
        }
      },
      "source": [
        "# if running in colab, execute this:\n",
        "!wget https://raw.githubusercontent.com/yandexdataschool/Practical_DL/fall19/week02_autodiff/notmnist.py -O notmnist.py\n",
        "!pip3 install torch==1.0.0 torchvision\n",
        "\n",
        "from __future__ import print_function\n",
        "import numpy as np\n",
        "import torch\n",
        "print(torch.__version__)"
      ],
      "execution_count": 41,
      "outputs": [
        {
          "output_type": "stream",
          "text": [
            "--2020-02-29 18:39:02--  https://raw.githubusercontent.com/yandexdataschool/Practical_DL/fall19/week02_autodiff/notmnist.py\n",
            "Resolving raw.githubusercontent.com (raw.githubusercontent.com)... 151.101.0.133, 151.101.64.133, 151.101.128.133, ...\n",
            "Connecting to raw.githubusercontent.com (raw.githubusercontent.com)|151.101.0.133|:443... connected.\n",
            "HTTP request sent, awaiting response... 200 OK\n",
            "Length: 1634 (1.6K) [text/plain]\n",
            "Saving to: ‘notmnist.py’\n",
            "\n",
            "\rnotmnist.py           0%[                    ]       0  --.-KB/s               \rnotmnist.py         100%[===================>]   1.60K  --.-KB/s    in 0s      \n",
            "\n",
            "2020-02-29 18:39:02 (309 MB/s) - ‘notmnist.py’ saved [1634/1634]\n",
            "\n",
            "Requirement already satisfied: torch==1.0.0 in /usr/local/lib/python3.6/dist-packages (1.0.0)\n",
            "Requirement already satisfied: torchvision in /usr/local/lib/python3.6/dist-packages (0.5.0)\n",
            "Requirement already satisfied: six in /usr/local/lib/python3.6/dist-packages (from torchvision) (1.12.0)\n",
            "Requirement already satisfied: pillow>=4.1.1 in /usr/local/lib/python3.6/dist-packages (from torchvision) (6.2.2)\n",
            "Requirement already satisfied: numpy in /usr/local/lib/python3.6/dist-packages (from torchvision) (1.17.5)\n",
            "1.0.0\n"
          ],
          "name": "stdout"
        }
      ]
    },
    {
      "cell_type": "code",
      "metadata": {
        "scrolled": true,
        "id": "Fxs_Mr-VnXhO",
        "colab_type": "code",
        "outputId": "10630002-fe6c-4b36-cc0c-abdabdc4d0df",
        "colab": {
          "base_uri": "https://localhost:8080/",
          "height": 532
        }
      },
      "source": [
        "# numpy world\n",
        "\n",
        "x = np.arange(16).reshape(4, 4)\n",
        "\n",
        "print(\"X :\\n%s\\n\" % x)\n",
        "print(\"X.shape : %s\\n\" % (x.shape,))\n",
        "print(\"add 5 :\\n%s\\n\" % (x + 5))\n",
        "print(\"X*X^T  :\\n%s\\n\" % np.dot(x, x.T))\n",
        "print(\"mean over cols :\\n%s\\n\" % (x.mean(axis=-1)))\n",
        "print(\"cumsum of cols :\\n%s\\n\" % (np.cumsum(x, axis=0)))"
      ],
      "execution_count": 91,
      "outputs": [
        {
          "output_type": "stream",
          "text": [
            "X :\n",
            "[[ 0  1  2  3]\n",
            " [ 4  5  6  7]\n",
            " [ 8  9 10 11]\n",
            " [12 13 14 15]]\n",
            "\n",
            "X.shape : (4, 4)\n",
            "\n",
            "add 5 :\n",
            "[[ 5  6  7  8]\n",
            " [ 9 10 11 12]\n",
            " [13 14 15 16]\n",
            " [17 18 19 20]]\n",
            "\n",
            "X*X^T  :\n",
            "[[ 14  38  62  86]\n",
            " [ 38 126 214 302]\n",
            " [ 62 214 366 518]\n",
            " [ 86 302 518 734]]\n",
            "\n",
            "mean over cols :\n",
            "[ 1.5  5.5  9.5 13.5]\n",
            "\n",
            "cumsum of cols :\n",
            "[[ 0  1  2  3]\n",
            " [ 4  6  8 10]\n",
            " [12 15 18 21]\n",
            " [24 28 32 36]]\n",
            "\n"
          ],
          "name": "stdout"
        }
      ]
    },
    {
      "cell_type": "code",
      "metadata": {
        "id": "3tjfy16EnXhc",
        "colab_type": "code",
        "outputId": "cc4ac16e-58eb-4aa2-ccf8-a8501480134a",
        "colab": {
          "base_uri": "https://localhost:8080/",
          "height": 444
        }
      },
      "source": [
        "# pytorch world\n",
        "\n",
        "x = np.arange(16).reshape(4, 4)\n",
        "#x = torch.tensor(x, dtype=torch.float32)  # or torch.arange(0,16).view(4,4) .to(cuda:0) \n",
        "x = torch.arange(0,16,dtype=torch.float32).view(4,4)\n",
        "print(\"X :\\n%s\" % x)\n",
        "print(\"X.shape : %s\\n\" % (x.shape,))\n",
        "print(\"add 5 :\\n%s\" % (x + 5))\n",
        "print(\"X*X^T  :\\n%s\" % torch.matmul(x, x.transpose(1, 0)))  # short: x.mm(x.t())\n",
        "print(\"mean over cols :\\n%s\" % torch.mean(x, dim=-1))\n",
        "print(\"cumsum of cols :\\n%s\" % torch.cumsum(x, dim=0))"
      ],
      "execution_count": 92,
      "outputs": [
        {
          "output_type": "stream",
          "text": [
            "X :\n",
            "tensor([[ 0.,  1.,  2.,  3.],\n",
            "        [ 4.,  5.,  6.,  7.],\n",
            "        [ 8.,  9., 10., 11.],\n",
            "        [12., 13., 14., 15.]])\n",
            "X.shape : torch.Size([4, 4])\n",
            "\n",
            "add 5 :\n",
            "tensor([[ 5.,  6.,  7.,  8.],\n",
            "        [ 9., 10., 11., 12.],\n",
            "        [13., 14., 15., 16.],\n",
            "        [17., 18., 19., 20.]])\n",
            "X*X^T  :\n",
            "tensor([[ 14.,  38.,  62.,  86.],\n",
            "        [ 38., 126., 214., 302.],\n",
            "        [ 62., 214., 366., 518.],\n",
            "        [ 86., 302., 518., 734.]])\n",
            "mean over cols :\n",
            "tensor([ 1.5000,  5.5000,  9.5000, 13.5000])\n",
            "cumsum of cols :\n",
            "tensor([[ 0.,  1.,  2.,  3.],\n",
            "        [ 4.,  6.,  8., 10.],\n",
            "        [12., 15., 18., 21.],\n",
            "        [24., 28., 32., 36.]])\n"
          ],
          "name": "stdout"
        }
      ]
    },
    {
      "cell_type": "markdown",
      "metadata": {
        "id": "kwSOVIGZnXht",
        "colab_type": "text"
      },
      "source": [
        "## NumPy and Pytorch\n",
        "\n",
        "As you can notice, pytorch allows you to hack stuff much the same way you did with numpy. No graph declaration, no placeholders, no sessions. This means that you can _see the numeric value of any tensor at any moment of time_. Debugging such code can be done with by printing tensors or using any debug tool you want (e.g. [gdb](https://wiki.python.org/moin/DebuggingWithGdb)).\n",
        "\n",
        "You could also notice the a few new method names and a different API. So no, there's no compatibility with numpy [yet](https://github.com/pytorch/pytorch/issues/2228) and yes, you'll have to memorize all the names again. Get excited!\n",
        "\n",
        "![img](http://i0.kym-cdn.com/entries/icons/original/000/017/886/download.jpg)\n",
        "\n",
        "For example, \n",
        "* If something takes a list/tuple of axes in numpy, you can expect it to take *args in pytorch\n",
        " * `x.reshape([1,2,8]) -> x.view(1,2,8)`\n",
        "* You should swap _axis_ for _dim_ in operations like mean or cumsum\n",
        " * `x.sum(axis=-1) -> x.sum(dim=-1)`\n",
        "* most mathematical operations are the same, but types an shaping is different\n",
        " * `x.astype('int64') -> x.type(torch.LongTensor)`\n",
        "\n",
        "To help you acclimatize, there's a [table](https://github.com/torch/torch7/wiki/Torch-for-Numpy-users) covering most new things. There's also a neat [documentation page](http://pytorch.org/docs/master/).\n",
        "\n",
        "Finally, if you're stuck with a technical problem, we recommend searching [pytorch forumns](https://discuss.pytorch.org/). Or just googling, which usually works just as efficiently. \n",
        "\n",
        "If you feel like you almost give up, remember two things: __GPU__ an __free gradients__. Besides you can always jump back to numpy with x.numpy()"
      ]
    },
    {
      "cell_type": "markdown",
      "metadata": {
        "id": "dJ09GJh8nXhx",
        "colab_type": "text"
      },
      "source": [
        "### Warmup: trigonometric knotwork\n",
        "_inspired by [this post](https://www.quora.com/What-are-the-most-interesting-equation-plots)_\n",
        "\n",
        "There are some simple mathematical functions with cool plots. For one, consider this:\n",
        "\n",
        "$$ x(t) = t - 1.5 * cos( 15 t) $$\n",
        "$$ y(t) = t - 1.5 * sin( 16 t) $$\n"
      ]
    },
    {
      "cell_type": "code",
      "metadata": {
        "id": "otyvFhaZnXh1",
        "colab_type": "code",
        "outputId": "4c79f376-e84f-4362-d84b-84678e557224",
        "colab": {
          "base_uri": "https://localhost:8080/",
          "height": 283
        }
      },
      "source": [
        "import matplotlib.pyplot as plt\n",
        "%matplotlib inline\n",
        "\n",
        "t = torch.linspace(-10, 10, steps=10000)\n",
        "\n",
        "# compute x(t) and y(t) as defined above\n",
        "x =  t - 1.5*torch.cos(15*t)\n",
        "y =  t - 1.5*torch.sin(16*t)\n",
        "\n",
        "plt.plot(x.numpy(), y.numpy())"
      ],
      "execution_count": 93,
      "outputs": [
        {
          "output_type": "execute_result",
          "data": {
            "text/plain": [
              "[<matplotlib.lines.Line2D at 0x7fd1b848beb8>]"
            ]
          },
          "metadata": {
            "tags": []
          },
          "execution_count": 93
        },
        {
          "output_type": "display_data",
          "data": {
            "image/png": "[encoded data removed]",
            "text/plain": [
              "<Figure size 432x288 with 1 Axes>"
            ]
          },
          "metadata": {
            "tags": []
          }
        }
      ]
    },
    {
      "cell_type": "markdown",
      "metadata": {
        "id": "1JolWNB1nXiB",
        "colab_type": "text"
      },
      "source": [
        "if you're done early, try adjusting the formula and seing how  it affects the function"
      ]
    },
    {
      "cell_type": "markdown",
      "metadata": {
        "id": "xApAzXEBnXiF",
        "colab_type": "text"
      },
      "source": [
        "```\n",
        "\n",
        "```\n",
        "\n",
        "```\n",
        "\n",
        "```\n",
        "\n",
        "```\n",
        "\n",
        "```\n",
        "\n",
        "```\n",
        "\n",
        "```\n",
        "\n",
        "```\n",
        "\n",
        "```\n",
        "\n",
        "```\n",
        "\n",
        "```\n",
        "\n",
        "```\n",
        "\n",
        "```\n",
        "\n",
        "```\n",
        "\n",
        "```\n",
        "\n",
        "```\n",
        "\n",
        "```\n"
      ]
    },
    {
      "cell_type": "markdown",
      "metadata": {
        "id": "IJup3ks_nXiI",
        "colab_type": "text"
      },
      "source": [
        "## Automatic gradients\n",
        "\n",
        "Any self-respecting DL framework must do your backprop for you. Torch handles this with the `autograd` module.\n",
        "\n",
        "The general pipeline looks like this:\n",
        "* When creating a tensor, you mark it as `requires_grad`:\n",
        "    * __```torch.zeros(5, requires_grad=True)```__\n",
        "    * torch.tensor(np.arange(5), dtype=torch.float32, requires_grad=True)\n",
        "* Define some differentiable `loss = arbitrary_function(a)`\n",
        "* Call `loss.backward()`\n",
        "* Gradients are now available as ```a.grads```\n",
        "\n",
        "__Here's an example:__ let's fit a linear regression on Boston house prices"
      ]
    },
    {
      "cell_type": "code",
      "metadata": {
        "id": "jnRq41mstjVE",
        "colab_type": "code",
        "colab": {}
      },
      "source": [
        "#не нужны градиенты  - заморозить первые слои по умолчани. не требу.ется"
      ],
      "execution_count": 0,
      "outputs": []
    },
    {
      "cell_type": "code",
      "metadata": {
        "scrolled": true,
        "id": "aXaYuKs5nXiL",
        "colab_type": "code",
        "outputId": "4089f934-ef11-4395-be3b-9a40306d484a",
        "colab": {
          "base_uri": "https://localhost:8080/",
          "height": 283
        }
      },
      "source": [
        "from sklearn.datasets import load_boston\n",
        "boston = load_boston()\n",
        "plt.scatter(boston.data[:, -1], boston.target)"
      ],
      "execution_count": 94,
      "outputs": [
        {
          "output_type": "execute_result",
          "data": {
            "text/plain": [
              "<matplotlib.collections.PathCollection at 0x7fd1b850be80>"
            ]
          },
          "metadata": {
            "tags": []
          },
          "execution_count": 94
        },
        {
          "output_type": "display_data",
          "data": {
            "image/png": "[encoded data removed]",
            "text/plain": [
              "<Figure size 432x288 with 1 Axes>"
            ]
          },
          "metadata": {
            "tags": []
          }
        }
      ]
    },
    {
      "cell_type": "code",
      "metadata": {
        "id": "WFGKYcrEnXiV",
        "colab_type": "code",
        "colab": {}
      },
      "source": [
        "w2 = torch.zeros(1, requires_grad=True)\n",
        "w = torch.zeros(1, requires_grad=True)\n",
        "b = torch.zeros(1, requires_grad=True)\n",
        "\n",
        "x = torch.tensor(boston.data[:, -1] / 10, dtype=torch.float32)\n",
        "y = torch.tensor(boston.target, dtype=torch.float32)"
      ],
      "execution_count": 0,
      "outputs": []
    },
    {
      "cell_type": "code",
      "metadata": {
        "id": "vOn0bKt9nXig",
        "colab_type": "code",
        "colab": {}
      },
      "source": [
        "y_pred = w2* x**2+w * x + b\n",
        "loss = torch.mean((y_pred - y)**2)\n",
        "\n",
        "# propagete gradients\n",
        "loss.backward()"
      ],
      "execution_count": 0,
      "outputs": []
    },
    {
      "cell_type": "markdown",
      "metadata": {
        "id": "Ek9yGHHbnXip",
        "colab_type": "text"
      },
      "source": [
        "The gradients are now stored in `.grad` of those variables that require them."
      ]
    },
    {
      "cell_type": "code",
      "metadata": {
        "id": "85Jp2tYTnXir",
        "colab_type": "code",
        "outputId": "c626ef15-91f4-4fec-ac32-ab350c89d6a6",
        "colab": {
          "base_uri": "https://localhost:8080/",
          "height": 124
        }
      },
      "source": [
        "print(\"dL/dw = \\n\", w.grad)\n",
        "print(\"dL/db = \\n\", b.grad)\n",
        "print(\"dL/dw = \\n\", w2.grad)"
      ],
      "execution_count": 97,
      "outputs": [
        {
          "output_type": "stream",
          "text": [
            "dL/dw = \n",
            " tensor([-47.3514])\n",
            "dL/db = \n",
            " tensor([-45.0656])\n",
            "dL/dw = \n",
            " tensor([-68.1231])\n"
          ],
          "name": "stdout"
        }
      ]
    },
    {
      "cell_type": "markdown",
      "metadata": {
        "id": "LfTAbSZCnXi2",
        "colab_type": "text"
      },
      "source": [
        "If you compute gradient from multiple losses, the gradients will add up at variables, therefore it's useful to __zero the gradients__ between iteratons."
      ]
    },
    {
      "cell_type": "code",
      "metadata": {
        "id": "oFPuY4OjnXi6",
        "colab_type": "code",
        "outputId": "c4daacb3-eb41-4f51-a034-037097fa9ead",
        "colab": {
          "base_uri": "https://localhost:8080/",
          "height": 283
        }
      },
      "source": [
        "from IPython.display import clear_output\n",
        "\n",
        "for i in range(100):\n",
        "\n",
        "    y_pred = w2* x**2+w * x + b\n",
        "    loss = torch.mean((y_pred - y)**2)\n",
        "    loss.backward()\n",
        "    w2.data -= 0.05 * w.grad.data\n",
        "    w.data -= 0.05 * w.grad.data\n",
        "    b.data -= 0.05 * b.grad.data\n",
        "\n",
        "    # zero gradients\n",
        "    w.grad.data.zero_()# зачеме занулять градиенты? \n",
        "    b.grad.data.zero_()\n",
        "    w2.grad.data.zero_()\n",
        "    # the rest of code is just bells and whistles \n",
        "    if (i+1) % 5 == 0:\n",
        "        clear_output(True)\n",
        "        plt.scatter(x.data.numpy(), y.data.numpy())\n",
        "        plt.scatter(x.data.numpy(), y_pred.data.numpy(),\n",
        "                    color='orange', linewidth=5)\n",
        "        plt.show()\n",
        "\n",
        "        print(\"loss = \", loss.data.numpy())\n",
        "        if loss.data.numpy() < 0.5:\n",
        "            print(\"Done!\")\n",
        "            break"
      ],
      "execution_count": 98,
      "outputs": [
        {
          "output_type": "display_data",
          "data": {
            "image/png": "[encoded data removed]",
            "text/plain": [
              "<Figure size 432x288 with 1 Axes>"
            ]
          },
          "metadata": {
            "tags": []
          }
        },
        {
          "output_type": "stream",
          "text": [
            "loss =  48.52449\n"
          ],
          "name": "stdout"
        }
      ]
    },
    {
      "cell_type": "markdown",
      "metadata": {
        "id": "jVqYKi5nnXjD",
        "colab_type": "text"
      },
      "source": [
        "__Bonus quest__: try implementing and writing some nonlinear regression. You can try quadratic features or some trigonometry, or a simple neural network. The only difference is that now you have more variables and a more complicated `y_pred`. "
      ]
    },
    {
      "cell_type": "markdown",
      "metadata": {
        "id": "TW_e49dNnXjG",
        "colab_type": "text"
      },
      "source": [
        "# High-level pytorch\n",
        "\n",
        "So far we've been dealing with low-level torch API. While it's absolutely vital for any custom losses or layers, building large neura nets in it is a bit clumsy.\n",
        "\n",
        "Luckily, there's also a high-level torch interface with a pre-defined layers, activations and training algorithms. \n",
        "\n",
        "We'll cover them as we go through a simple image recognition problem: classifying letters into __\"A\"__ vs __\"B\"__.\n"
      ]
    },
    {
      "cell_type": "code",
      "metadata": {
        "id": "g2PEbzDcnXjJ",
        "colab_type": "code",
        "outputId": "b6469e64-968e-44de-c3ee-6a29c77671cc",
        "colab": {
          "base_uri": "https://localhost:8080/",
          "height": 88
        }
      },
      "source": [
        "from notmnist import load_notmnist\n",
        "X_train, y_train, X_test, y_test = load_notmnist(letters='AB')\n",
        "X_train, X_test = X_train.reshape([-1, 784]), X_test.reshape([-1, 784])\n",
        "\n",
        "print(\"Train size = %i, test_size = %i\" % (len(X_train), len(X_test)))"
      ],
      "execution_count": 99,
      "outputs": [
        {
          "output_type": "stream",
          "text": [
            "Parsing...\n",
            "found broken img: ./notMNIST_small/A/RGVtb2NyYXRpY2FCb2xkT2xkc3R5bGUgQm9sZC50dGY=.png [it's ok if <10 images are broken]\n",
            "Done\n",
            "Train size = 2808, test_size = 937\n"
          ],
          "name": "stdout"
        }
      ]
    },
    {
      "cell_type": "code",
      "metadata": {
        "scrolled": true,
        "id": "T3CYE3KVnXjR",
        "colab_type": "code",
        "outputId": "572a1208-9308-4561-e251-6b76b66d88cb",
        "colab": {
          "base_uri": "https://localhost:8080/",
          "height": 216
        }
      },
      "source": [
        "for i in [0, 1]:\n",
        "    plt.subplot(1, 2, i + 1)\n",
        "    plt.imshow(X_train[i].reshape([28, 28]))\n",
        "    plt.title(str(y_train[i]))"
      ],
      "execution_count": 100,
      "outputs": [
        {
          "output_type": "display_data",
          "data": {
            "image/png": "[encoded data removed]",
            "text/plain": [
              "<Figure size 432x288 with 2 Axes>"
            ]
          },
          "metadata": {
            "tags": []
          }
        }
      ]
    },
    {
      "cell_type": "markdown",
      "metadata": {
        "id": "6VX-ubGKnXjb",
        "colab_type": "text"
      },
      "source": [
        "Let's start with layers. The main abstraction here is __`torch.nn.Module`__"
      ]
    },
    {
      "cell_type": "code",
      "metadata": {
        "id": "s75WDK_lnXjf",
        "colab_type": "code",
        "outputId": "55552ba9-4926-49c0-fd7b-ed64e99cedde",
        "colab": {
          "base_uri": "https://localhost:8080/",
          "height": 426
        }
      },
      "source": [
        "from torch import nn\n",
        "import torch.nn.functional as F\n",
        "\n",
        "print(nn.Module.__doc__)"
      ],
      "execution_count": 101,
      "outputs": [
        {
          "output_type": "stream",
          "text": [
            "Base class for all neural network modules.\n",
            "\n",
            "    Your models should also subclass this class.\n",
            "\n",
            "    Modules can also contain other Modules, allowing to nest them in\n",
            "    a tree structure. You can assign the submodules as regular attributes::\n",
            "\n",
            "        import torch.nn as nn\n",
            "        import torch.nn.functional as F\n",
            "\n",
            "        class Model(nn.Module):\n",
            "            def __init__(self):\n",
            "                super(Model, self).__init__()\n",
            "                self.conv1 = nn.Conv2d(1, 20, 5)\n",
            "                self.conv2 = nn.Conv2d(20, 20, 5)\n",
            "\n",
            "            def forward(self, x):\n",
            "               x = F.relu(self.conv1(x))\n",
            "               return F.relu(self.conv2(x))\n",
            "\n",
            "    Submodules assigned in this way will be registered, and will have their\n",
            "    parameters converted too when you call :meth:`to`, etc.\n",
            "    \n"
          ],
          "name": "stdout"
        }
      ]
    },
    {
      "cell_type": "code",
      "metadata": {
        "id": "UgtTsjDSxcyS",
        "colab_type": "code",
        "colab": {}
      },
      "source": [
        "слои связвть в forwarf]d vj;yj"
      ],
      "execution_count": 0,
      "outputs": []
    },
    {
      "cell_type": "markdown",
      "metadata": {
        "id": "k7xSkd3enXjn",
        "colab_type": "text"
      },
      "source": [
        "There's a vast library of popular layers and architectures already built for ya'.\n",
        "\n",
        "This is a binary classification problem, so we'll train a __Logistic Regression with sigmoid__.\n",
        "$$P(y_i | X_i) = \\sigma(W \\cdot X_i + b) ={ 1 \\over {1+e^{- [W \\cdot X_i + b]}} }$$\n"
      ]
    },
    {
      "cell_type": "code",
      "metadata": {
        "id": "GIRxMp0znXjq",
        "colab_type": "code",
        "colab": {}
      },
      "source": [
        "# create a network that stacks layers on top of each other\n",
        "model = nn.Sequential()\n",
        "\n",
        "# add first \"dense\" layer with 784 input units and 1 output unit.\n",
        "model.add_module('l1', nn.Linear(784, 1))\n",
        "\n",
        "# add softmax activation for probabilities. Normalize over axis 1\n",
        "# note: layer names must be unique\n",
        "model.add_module('l2', nn.Sigmoid())"
      ],
      "execution_count": 0,
      "outputs": []
    },
    {
      "cell_type": "code",
      "metadata": {
        "id": "T1-J2zqZnXjz",
        "colab_type": "code",
        "outputId": "571862f3-59df-427f-823e-5504228ea486",
        "colab": {
          "base_uri": "https://localhost:8080/",
          "height": 35
        }
      },
      "source": [
        "print(\"Weight shapes:\", [w.shape for w in model.parameters()])"
      ],
      "execution_count": 103,
      "outputs": [
        {
          "output_type": "stream",
          "text": [
            "Weight shapes: [torch.Size([1, 784]), torch.Size([1])]\n"
          ],
          "name": "stdout"
        }
      ]
    },
    {
      "cell_type": "code",
      "metadata": {
        "id": "zwuWFjmYnXj7",
        "colab_type": "code",
        "outputId": "7793ec77-1186-4708-e6e6-fb693d8732fe",
        "colab": {
          "base_uri": "https://localhost:8080/",
          "height": 35
        }
      },
      "source": [
        "# create dummy data with 3 samples and 784 features\n",
        "x = torch.tensor(X_train[:3], dtype=torch.float32)\n",
        "y = torch.tensor(y_train[:3], dtype=torch.float32)\n",
        "\n",
        "# compute outputs given inputs, both are variables// _call__ calls forward\n",
        "y_predicted = model(x)[:, 0]# \n",
        "\n",
        "y_predicted  # display what we've got"
      ],
      "execution_count": 104,
      "outputs": [
        {
          "output_type": "execute_result",
          "data": {
            "text/plain": [
              "tensor([0.2826, 0.5177, 0.3808], grad_fn=<SelectBackward>)"
            ]
          },
          "metadata": {
            "tags": []
          },
          "execution_count": 104
        }
      ]
    },
    {
      "cell_type": "markdown",
      "metadata": {
        "id": "rY5DvuxonXkD",
        "colab_type": "text"
      },
      "source": [
        "Let's now define a loss function for our model.\n",
        "\n",
        "The natural choice is to use binary crossentropy (aka logloss, negative llh):\n",
        "$$ L = {1 \\over N} \\underset{X_i,y_i} \\sum - [  y_i \\cdot log P(y_i | X_i) + (1-y_i) \\cdot log (1-P(y_i | X_i)) ]$$\n",
        "Your task is to implement crossentropy loss __manually__ without using `torch.nn.functional`. \n",
        "\n"
      ]
    },
    {
      "cell_type": "code",
      "metadata": {
        "id": "beaCNSQVnXkG",
        "colab_type": "code",
        "colab": {}
      },
      "source": [
        "crossentropy =  y * torch.log(y_predicted) + (1-y)*torch.log(1 - y_predicted) \n",
        "\n",
        "loss =  torch.mean(-crossentropy)\n",
        "\n",
        "assert tuple(crossentropy.size()) == (\n",
        "    3,), \"Crossentropy must be a vector with element per sample\"\n",
        "assert tuple(loss.size()) == tuple(\n",
        "), \"Loss must be scalar. Did you forget the mean/sum?\"\n",
        "assert loss.data.numpy() > 0, \"Crossentropy must non-negative, zero only for perfect prediction\"\n",
        "assert loss.data.numpy() <= np.log(\n",
        "    3), \"Loss is too large even for untrained model. Please double-check it.\""
      ],
      "execution_count": 0,
      "outputs": []
    },
    {
      "cell_type": "markdown",
      "metadata": {
        "id": "Zl0dwAG8nXkO",
        "colab_type": "text"
      },
      "source": [
        "__Note:__ you can also find crossentropy loss in `torch.nn.functional`, just type __`F.<tab>`__. However, it operates on raw logits instead of probabilities."
      ]
    },
    {
      "cell_type": "markdown",
      "metadata": {
        "id": "b0lbtDdenXkQ",
        "colab_type": "text"
      },
      "source": [
        "__Torch optimizers__\n",
        "\n",
        "When we trained Linear Regression above, we had to manually .zero_() gradients on both our variables. Imagine that code for a 50-layer network.\n",
        "\n",
        "Again, to keep it from getting dirty, there's `torch.optim` module with pre-implemented algorithms:"
      ]
    },
    {
      "cell_type": "code",
      "metadata": {
        "id": "yazlToRdnXkT",
        "colab_type": "code",
        "colab": {}
      },
      "source": [
        "opt = torch.optim.RMSprop(model.parameters(), lr=0.01)\n",
        "\n",
        "# here's how it's used:\n",
        "loss.backward()      # add new gradients\n",
        "opt.step()           # change weights\n",
        "opt.zero_grad()      # clear gradients"
      ],
      "execution_count": 0,
      "outputs": []
    },
    {
      "cell_type": "code",
      "metadata": {
        "id": "Pwqzbu741U0U",
        "colab_type": "code",
        "outputId": "9c732ded-db8d-46b8-b34c-c3aba54afb82",
        "colab": {
          "base_uri": "https://localhost:8080/",
          "height": 657
        }
      },
      "source": [
        "dir(opt)"
      ],
      "execution_count": 0,
      "outputs": [
        {
          "output_type": "execute_result",
          "data": {
            "text/plain": [
              "['__class__',\n",
              " '__delattr__',\n",
              " '__dict__',\n",
              " '__dir__',\n",
              " '__doc__',\n",
              " '__eq__',\n",
              " '__format__',\n",
              " '__ge__',\n",
              " '__getattribute__',\n",
              " '__getstate__',\n",
              " '__gt__',\n",
              " '__hash__',\n",
              " '__init__',\n",
              " '__init_subclass__',\n",
              " '__le__',\n",
              " '__lt__',\n",
              " '__module__',\n",
              " '__ne__',\n",
              " '__new__',\n",
              " '__reduce__',\n",
              " '__reduce_ex__',\n",
              " '__repr__',\n",
              " '__setattr__',\n",
              " '__setstate__',\n",
              " '__sizeof__',\n",
              " '__str__',\n",
              " '__subclasshook__',\n",
              " '__weakref__',\n",
              " 'add_param_group',\n",
              " 'defaults',\n",
              " 'load_state_dict',\n",
              " 'param_groups',\n",
              " 'state',\n",
              " 'state_dict',\n",
              " 'step',\n",
              " 'zero_grad']"
            ]
          },
          "metadata": {
            "tags": []
          },
          "execution_count": 24
        }
      ]
    },
    {
      "cell_type": "code",
      "metadata": {
        "id": "U2KFBHQ51kNq",
        "colab_type": "code",
        "outputId": "24d3b3ca-c759-41cb-b3fc-367daf979c1f",
        "colab": {
          "base_uri": "https://localhost:8080/",
          "height": 1000
        }
      },
      "source": [
        "opt.state_dict()#all params"
      ],
      "execution_count": 107,
      "outputs": [
        {
          "output_type": "execute_result",
          "data": {
            "text/plain": [
              "{'param_groups': [{'alpha': 0.99,\n",
              "   'centered': False,\n",
              "   'eps': 1e-08,\n",
              "   'lr': 0.01,\n",
              "   'momentum': 0,\n",
              "   'params': [140538712577800, 140538717954264],\n",
              "   'weight_decay': 0}],\n",
              " 'state': {140538712577800: {'square_avg': tensor([[1.1528e-03, 2.9536e-03, 2.7640e-03, 2.8391e-03, 2.8391e-03, 2.8391e-03,\n",
              "            2.8391e-03, 2.8304e-03, 2.8304e-03, 2.6432e-03, 1.4336e-03, 1.0367e-03,\n",
              "            1.0263e-03, 1.0263e-03, 1.0212e-03, 1.0212e-03, 1.0036e-03, 9.5175e-04,\n",
              "            7.8816e-04, 5.6798e-04, 3.4282e-04, 3.8365e-04, 3.9026e-06, 3.9886e-04,\n",
              "            6.6689e-04, 6.5374e-04, 6.7404e-04, 6.7404e-04, 1.1892e-03, 2.9536e-03,\n",
              "            2.8770e-03, 2.9536e-03, 2.9536e-03, 2.9536e-03, 2.9536e-03, 2.9273e-03,\n",
              "            2.9536e-03, 2.1544e-03, 1.1364e-03, 1.1473e-03, 1.1364e-03, 1.1364e-03,\n",
              "            1.1364e-03, 1.1364e-03, 1.1364e-03, 1.1364e-03, 1.1364e-03, 1.1583e-03,\n",
              "            1.1364e-03, 1.8422e-03, 2.9536e-03, 1.9400e-03, 1.0700e-04, 3.0751e-04,\n",
              "            6.6284e-04, 6.8123e-04, 1.1892e-03, 2.9536e-03, 2.8770e-03, 2.9536e-03,\n",
              "            2.9536e-03, 2.9536e-03, 2.9536e-03, 2.8787e-03, 2.8770e-03, 1.4345e-03,\n",
              "            3.5510e-04, 3.3704e-04, 3.3704e-04, 3.3704e-04, 3.4903e-04, 3.3704e-04,\n",
              "            3.3704e-04, 3.5510e-04, 7.0324e-04, 1.1261e-03, 1.0996e-03, 1.4706e-03,\n",
              "            2.9194e-03, 2.9256e-03, 2.9536e-03, 6.4890e-04, 4.0285e-05, 5.2822e-04,\n",
              "            1.1892e-03, 2.9536e-03, 2.8770e-03, 2.9536e-03, 2.9536e-03, 2.9536e-03,\n",
              "            2.9536e-03, 2.9536e-03, 2.9536e-03, 9.7834e-04, 2.3965e-04, 1.8992e-04,\n",
              "            1.9216e-04, 2.0818e-04, 4.2220e-05, 2.2927e-06, 2.2927e-06, 2.7918e-05,\n",
              "            4.9708e-04, 1.1126e-03, 1.1364e-03, 1.3472e-03, 2.8490e-03, 2.9003e-03,\n",
              "            2.9149e-03, 2.8055e-03, 2.1369e-04, 1.2847e-05, 1.1892e-03, 2.9536e-03,\n",
              "            2.8770e-03, 2.9536e-03, 2.9536e-03, 2.9152e-03, 2.9536e-03, 1.0128e-03,\n",
              "            5.3520e-04, 5.9094e-06, 9.6107e-05, 9.6107e-05, 9.6107e-05, 1.0586e-04,\n",
              "            7.5327e-04, 8.8391e-04, 7.3281e-04, 2.4026e-05, 3.6775e-04, 1.1364e-03,\n",
              "            1.1299e-03, 1.1694e-03, 2.6788e-03, 2.9536e-03, 2.8407e-03, 2.9386e-03,\n",
              "            1.1129e-03, 7.8285e-05, 1.1892e-03, 2.9536e-03, 2.8770e-03, 2.9536e-03,\n",
              "            2.9536e-03, 2.8960e-03, 2.9536e-03, 3.9769e-04, 8.3250e-05, 1.7989e-04,\n",
              "            6.8971e-04, 7.0681e-04, 6.8123e-04, 1.3352e-03, 2.1843e-03, 2.1843e-03,\n",
              "            1.6856e-03, 6.8123e-04, 3.0427e-04, 2.7416e-04, 1.1418e-03, 1.1126e-03,\n",
              "            2.3936e-03, 2.9536e-03, 2.8787e-03, 2.9536e-03, 1.8640e-03, 8.3250e-05,\n",
              "            1.1892e-03, 2.9536e-03, 2.8770e-03, 2.9536e-03, 2.9536e-03, 2.8960e-03,\n",
              "            2.9536e-03, 4.1919e-04, 8.3250e-05, 1.6137e-04, 6.5295e-04, 6.4882e-04,\n",
              "            7.6491e-04, 1.9938e-03, 2.1111e-03, 2.1037e-03, 9.3455e-04, 6.4470e-04,\n",
              "            2.4982e-04, 3.2134e-05, 8.4677e-04, 1.1364e-03, 2.0404e-03, 2.9536e-03,\n",
              "            2.8803e-03, 2.9536e-03, 2.3174e-03, 1.2661e-04, 1.1892e-03, 2.9536e-03,\n",
              "            2.8770e-03, 2.9536e-03, 2.9536e-03, 2.8960e-03, 2.9536e-03, 3.9769e-04,\n",
              "            8.3250e-05, 1.7989e-04, 6.9396e-04, 6.8123e-04, 1.4438e-03, 2.1843e-03,\n",
              "            2.1843e-03, 1.6736e-03, 6.8123e-04, 6.9396e-04, 1.7517e-04, 5.9427e-05,\n",
              "            4.6111e-04, 1.1364e-03, 1.7369e-03, 2.9536e-03, 2.8994e-03, 2.9536e-03,\n",
              "            2.5269e-03, 1.4308e-04, 1.1892e-03, 2.9536e-03, 2.8770e-03, 2.9536e-03,\n",
              "            2.9536e-03, 2.8960e-03, 2.9536e-03, 3.9769e-04, 8.3250e-05, 1.8426e-04,\n",
              "            6.8546e-04, 8.6544e-04, 2.1094e-03, 2.1768e-03, 2.1692e-03, 9.5828e-04,\n",
              "            6.8123e-04, 7.0252e-04, 1.7517e-04, 2.1470e-05, 4.3115e-04, 1.1364e-03,\n",
              "            1.5151e-03, 2.9536e-03, 2.9256e-03, 2.9536e-03, 2.5269e-03, 1.4308e-04,\n",
              "            1.1892e-03, 2.9536e-03, 2.8770e-03, 2.9536e-03, 2.9536e-03, 2.8960e-03,\n",
              "            2.9536e-03, 4.1919e-04, 8.3250e-05, 1.6551e-04, 6.4470e-04, 1.5137e-03,\n",
              "            2.1185e-03, 2.1185e-03, 1.5966e-03, 6.4470e-04, 6.5295e-04, 6.4803e-04,\n",
              "            1.9445e-04, 5.5002e-09, 6.7118e-04, 1.1364e-03, 1.3154e-03, 2.8576e-03,\n",
              "            2.9152e-03, 2.9448e-03, 2.0882e-03, 1.0460e-04, 1.1892e-03, 2.9536e-03,\n",
              "            2.8770e-03, 2.9536e-03, 2.9536e-03, 2.8960e-03, 2.9536e-03, 3.9769e-04,\n",
              "            7.8878e-05, 1.6895e-04, 8.9650e-04, 2.0906e-03, 2.1128e-03, 2.0980e-03,\n",
              "            9.0622e-04, 6.4565e-04, 6.5805e-04, 6.5311e-04, 1.8306e-04, 5.3909e-04,\n",
              "            1.1364e-03, 1.1289e-03, 1.1638e-03, 2.6872e-03, 2.8244e-03, 2.9062e-03,\n",
              "            1.1770e-03, 8.3250e-05, 1.1892e-03, 2.9536e-03, 2.8770e-03, 2.9536e-03,\n",
              "            2.9536e-03, 2.9343e-03, 2.9536e-03, 1.2763e-03, 8.0595e-04, 5.0106e-05,\n",
              "            4.1301e-04, 6.7536e-04, 6.7536e-04, 3.9351e-04, 2.8634e-05, 2.6608e-05,\n",
              "            1.2800e-05, 3.7598e-07, 5.1828e-04, 2.4494e-03, 1.1473e-03, 1.1418e-03,\n",
              "            1.1245e-03, 2.3378e-03, 2.9386e-03, 2.3110e-03, 5.0741e-05, 1.9832e-04,\n",
              "            1.1892e-03, 2.9536e-03, 2.8770e-03, 2.9536e-03, 2.9536e-03, 2.9536e-03,\n",
              "            2.9536e-03, 2.9273e-03, 2.9536e-03, 1.3671e-03, 2.6586e-04, 2.7117e-04,\n",
              "            2.7652e-04, 1.0452e-03, 1.3647e-03, 1.3468e-03, 1.3647e-03, 1.3587e-03,\n",
              "            1.8388e-03, 2.6756e-03, 1.2367e-03, 1.1364e-03, 1.1245e-03, 2.0726e-03,\n",
              "            1.7412e-03, 1.8327e-07, 5.3183e-04, 6.6284e-04, 1.1892e-03, 2.9536e-03,\n",
              "            2.8770e-03, 2.9536e-03, 2.9536e-03, 2.9536e-03, 2.9448e-03, 2.8597e-03,\n",
              "            2.8063e-03, 1.3774e-03, 1.0827e-03, 1.0774e-03, 1.5380e-03, 2.8580e-03,\n",
              "            2.8407e-03, 2.8580e-03, 2.8580e-03, 2.8580e-03, 2.8960e-03, 2.9273e-03,\n",
              "            1.3402e-03, 1.1364e-03, 7.3705e-04, 1.0209e-05, 2.9456e-04, 6.9823e-04,\n",
              "            6.4670e-04, 6.5269e-04, 1.1892e-03, 2.9536e-03, 2.8770e-03, 2.9536e-03,\n",
              "            2.9536e-03, 2.9536e-03, 2.9273e-03, 2.9536e-03, 2.1998e-03, 1.0903e-03,\n",
              "            1.0737e-03, 1.0631e-03, 2.3412e-03, 2.7918e-03, 2.7747e-03, 2.7918e-03,\n",
              "            2.7918e-03, 2.7918e-03, 2.8083e-03, 2.8613e-03, 1.5504e-03, 1.1364e-03,\n",
              "            9.8627e-04, 8.1749e-04, 4.5696e-04, 1.6770e-04, 6.8546e-04, 6.6284e-04,\n",
              "            1.1892e-03, 2.9536e-03, 2.8770e-03, 2.9536e-03, 2.9536e-03, 2.9448e-03,\n",
              "            2.9360e-03, 2.3171e-03, 8.7110e-04, 3.9598e-05, 2.0819e-05, 1.1896e-05,\n",
              "            2.5837e-04, 2.5837e-04, 2.5837e-04, 2.5837e-04, 2.7575e-04, 3.5764e-04,\n",
              "            1.1162e-03, 2.9536e-03, 1.9194e-03, 1.1364e-03, 1.1364e-03, 1.3224e-03,\n",
              "            2.8663e-03, 2.1364e-03, 3.6298e-07, 5.7074e-04, 1.1892e-03, 2.9536e-03,\n",
              "            2.8770e-03, 2.9536e-03, 2.9536e-03, 2.8700e-03, 2.9536e-03, 1.4689e-04,\n",
              "            1.3254e-04, 1.0323e-03, 2.0377e-03, 1.4393e-03, 1.2154e-03, 1.2211e-03,\n",
              "            1.2098e-03, 1.2154e-03, 1.1786e-03, 1.0600e-03, 2.6017e-04, 6.7076e-04,\n",
              "            1.5632e-03, 1.1364e-03, 1.1299e-03, 1.1424e-03, 2.5820e-03, 2.9536e-03,\n",
              "            2.0218e-03, 3.3032e-05, 1.1892e-03, 2.9536e-03, 2.8770e-03, 2.9536e-03,\n",
              "            2.9360e-03, 2.8873e-03, 2.7888e-03, 1.7655e-06, 1.3068e-04, 1.1227e-03,\n",
              "            2.1212e-03, 2.1586e-03, 2.1586e-03, 2.1586e-03, 2.1586e-03, 2.1586e-03,\n",
              "            2.1586e-03, 2.1586e-03, 1.1620e-03, 1.3254e-04, 3.1504e-04, 1.1418e-03,\n",
              "            1.1008e-03, 1.1364e-03, 2.3722e-03, 2.8854e-03, 2.9062e-03, 6.0285e-04,\n",
              "            1.1892e-03, 2.9536e-03, 2.8770e-03, 2.9536e-03, 2.9273e-03, 2.8960e-03,\n",
              "            1.9066e-03, 2.6743e-07, 1.2519e-04, 1.1473e-03, 2.1678e-03, 2.1678e-03,\n",
              "            2.1678e-03, 2.1678e-03, 2.1678e-03, 2.1678e-03, 2.1678e-03, 2.1513e-03,\n",
              "            1.1234e-03, 1.3254e-04, 9.1794e-06, 1.1364e-03, 1.1170e-03, 1.1364e-03,\n",
              "            2.0726e-03, 2.8960e-03, 2.9185e-03, 1.0868e-03, 1.1892e-03, 2.9536e-03,\n",
              "            2.8770e-03, 2.9360e-03, 2.9448e-03, 2.6323e-03, 1.2197e-03, 2.0403e-07,\n",
              "            1.3254e-04, 7.6932e-04, 1.3234e-03, 1.3352e-03, 1.3293e-03, 1.3293e-03,\n",
              "            1.3293e-03, 1.3293e-03, 1.3293e-03, 1.3293e-03, 5.6507e-04, 1.5244e-06,\n",
              "            1.0232e-04, 1.2885e-03, 1.1116e-03, 1.1364e-03, 1.7952e-03, 2.8770e-03,\n",
              "            2.9185e-03, 1.2014e-03, 1.1892e-03, 2.9536e-03, 2.8770e-03, 2.9273e-03,\n",
              "            2.9536e-03, 1.7234e-03, 1.1364e-03, 2.8369e-07, 9.0047e-05, 2.0689e-04,\n",
              "            6.8123e-04, 6.8123e-04, 6.8123e-04, 6.8123e-04, 6.8123e-04, 6.8123e-04,\n",
              "            6.8123e-04, 6.8123e-04, 1.7989e-04, 8.3250e-05, 5.1086e-04, 1.6409e-03,\n",
              "            1.1008e-03, 1.1364e-03, 1.5632e-03, 2.8770e-03, 2.9448e-03, 1.1593e-03,\n",
              "            1.1892e-03, 2.9536e-03, 2.8597e-03, 2.9448e-03, 2.5710e-03, 1.1387e-03,\n",
              "            1.1528e-03, 2.6389e-08, 1.9917e-08, 1.6137e-04, 6.7800e-04, 6.6542e-04,\n",
              "            6.6542e-04, 6.6542e-04, 6.6542e-04, 6.6542e-04, 6.6542e-04, 6.6542e-04,\n",
              "            1.8124e-04, 7.1854e-05, 1.1254e-03, 1.8714e-03, 1.1008e-03, 1.1364e-03,\n",
              "            1.3354e-03, 2.8182e-03, 2.9536e-03, 9.9641e-04, 1.1892e-03, 2.9360e-03,\n",
              "            2.8337e-03, 2.9536e-03, 1.6344e-03, 1.1008e-03, 1.1364e-03, 5.2893e-06,\n",
              "            6.3858e-05, 1.8868e-04, 6.8971e-04, 6.8123e-04, 6.8123e-04, 6.8123e-04,\n",
              "            6.8123e-04, 6.8123e-04, 6.8123e-04, 6.6702e-04, 1.9899e-04, 4.0341e-04,\n",
              "            2.6831e-03, 2.1170e-03, 1.1245e-03, 1.1473e-03, 1.1638e-03, 2.6605e-03,\n",
              "            2.9360e-03, 5.8240e-04, 1.1892e-03, 2.9536e-03, 2.8770e-03, 2.4574e-03,\n",
              "            1.1473e-03, 1.1234e-03, 1.1418e-03, 6.6490e-04, 5.6010e-04, 8.7791e-06,\n",
              "            8.5958e-05, 8.5958e-05, 8.5958e-05, 8.5958e-05, 8.5958e-05, 8.5958e-05,\n",
              "            7.3308e-05, 2.6962e-05, 2.9414e-04, 2.8014e-03, 2.9536e-03, 2.4319e-03,\n",
              "            1.1364e-03, 1.1473e-03, 1.1245e-03, 2.4118e-03, 2.4638e-03, 1.7432e-04,\n",
              "            1.1892e-03, 2.5628e-03, 2.3325e-03, 1.4873e-03, 1.1364e-03, 1.1364e-03,\n",
              "            1.3118e-03, 2.4095e-03, 2.4095e-03, 6.8963e-04, 3.2071e-04, 3.6567e-04,\n",
              "            3.6258e-04, 3.6567e-04, 3.6567e-04, 3.6567e-04, 3.6567e-04, 3.6258e-04,\n",
              "            7.5042e-04, 2.3842e-03, 2.4239e-03, 2.1695e-03, 1.1694e-03, 1.1152e-03,\n",
              "            1.0504e-03, 1.8061e-03, 6.4396e-04, 7.4561e-07, 4.9210e-04, 1.1638e-03,\n",
              "            1.0891e-03, 1.1364e-03, 1.1364e-03, 1.1364e-03, 1.1583e-03, 1.1008e-03,\n",
              "            1.0944e-03, 5.5082e-04, 5.5785e-04, 1.4892e-03, 1.5143e-03, 1.5143e-03,\n",
              "            1.5143e-03, 1.5143e-03, 1.4880e-03, 6.6585e-04, 5.6414e-04, 1.1034e-03,\n",
              "            1.1060e-03, 1.0735e-03, 1.1034e-03, 1.1126e-03, 1.1364e-03, 3.3122e-04,\n",
              "            4.8790e-04, 1.4976e-03, 1.9176e-04, 1.1364e-03, 1.0891e-03, 1.1418e-03,\n",
              "            1.1364e-03, 1.1364e-03, 1.1364e-03, 1.1364e-03, 1.1473e-03, 1.1364e-03,\n",
              "            1.3118e-03, 2.9010e-03, 2.9448e-03, 2.9448e-03, 2.9360e-03, 2.9536e-03,\n",
              "            2.6788e-03, 1.1583e-03, 1.1364e-03, 1.1418e-03, 1.1364e-03, 1.1245e-03,\n",
              "            1.1364e-03, 7.4855e-04, 2.8645e-07, 1.1809e-03, 2.0697e-03, 2.1154e-03,\n",
              "            3.6525e-04, 1.1418e-03, 9.9135e-04, 1.0313e-03, 1.0313e-03, 1.0313e-03,\n",
              "            1.0313e-03, 1.0365e-03, 1.0417e-03, 1.1264e-03, 1.9761e-03, 2.7103e-03,\n",
              "            2.6850e-03, 2.7103e-03, 2.7018e-03, 2.7018e-03, 2.5819e-03, 1.2948e-03,\n",
              "            8.3977e-04, 6.0241e-04, 3.0561e-04, 2.1010e-05, 1.9904e-04, 1.3556e-03,\n",
              "            2.1203e-03, 2.1363e-03, 1.9907e-03, 1.1669e-03]]), 'step': 1},\n",
              "  140538717954264: {'square_avg': tensor([0.0007]), 'step': 1}}}"
            ]
          },
          "metadata": {
            "tags": []
          },
          "execution_count": 107
        }
      ]
    },
    {
      "cell_type": "code",
      "metadata": {
        "id": "58RSjOeMnXka",
        "colab_type": "code",
        "colab": {}
      },
      "source": [
        "# dispose of old variables to avoid bugs later\n",
        "del x, y, y_predicted, loss, y_pred"
      ],
      "execution_count": 0,
      "outputs": []
    },
    {
      "cell_type": "markdown",
      "metadata": {
        "id": "ezunCjNQnXkk",
        "colab_type": "text"
      },
      "source": [
        "### Putting it all together"
      ]
    },
    {
      "cell_type": "code",
      "metadata": {
        "id": "INi7j-H_nXkm",
        "colab_type": "code",
        "colab": {}
      },
      "source": [
        "# create network again just in case\n",
        "model = nn.Sequential()\n",
        "model.add_module('first', nn.Linear(784, 1))\n",
        "model.add_module('second', nn.Sigmoid())\n",
        "\n",
        "opt = torch.optim.Adam(model.parameters(), lr=1e-3)"
      ],
      "execution_count": 0,
      "outputs": []
    },
    {
      "cell_type": "code",
      "metadata": {
        "id": "0dShf4FfnXks",
        "colab_type": "code",
        "outputId": "e2294f25-526c-4376-e4ec-305b29eade49",
        "colab": {
          "base_uri": "https://localhost:8080/",
          "height": 195
        }
      },
      "source": [
        "history = []\n",
        "\n",
        "for i in range(100):\n",
        "\n",
        "    # sample 256 random images\n",
        "    ix = np.random.randint(0, len(X_train), 256)\n",
        "    x_batch = torch.tensor(X_train[ix], dtype=torch.float32)\n",
        "    y_batch = torch.tensor(y_train[ix], dtype=torch.float32)\n",
        "\n",
        "    # predict probabilities\n",
        "    y_predicted =  model(x_batch)[:,0]\n",
        "    \n",
        "    \n",
        "    assert y_predicted.dim(\n",
        "    ) == 1, \"did you forget to select first column with [:, 0]\"\n",
        "\n",
        "    crossentropy =  y_batch * torch.log(y_predicted) + (1-y_batch)*torch.log(1 - y_predicted) \n",
        "\n",
        "    loss =  torch.mean(-crossentropy)\n",
        "    # compute gradients\n",
        "    loss.backward()\n",
        "\n",
        "    # Adam step\n",
        "    opt.step()\n",
        "\n",
        "    # clear gradients\n",
        "    opt.zero_grad()\n",
        "\n",
        "    history.append(loss.data.numpy())\n",
        "\n",
        "    if i % 10 == 0:\n",
        "        print(\"step #%i | mean loss = %.3f\" % (i, np.mean(history[-10:])))"
      ],
      "execution_count": 110,
      "outputs": [
        {
          "output_type": "stream",
          "text": [
            "step #0 | mean loss = 0.730\n",
            "step #10 | mean loss = 0.401\n",
            "step #20 | mean loss = 0.246\n",
            "step #30 | mean loss = 0.189\n",
            "step #40 | mean loss = 0.146\n",
            "step #50 | mean loss = 0.133\n",
            "step #60 | mean loss = 0.125\n",
            "step #70 | mean loss = 0.132\n",
            "step #80 | mean loss = 0.118\n",
            "step #90 | mean loss = 0.104\n"
          ],
          "name": "stdout"
        }
      ]
    },
    {
      "cell_type": "markdown",
      "metadata": {
        "id": "mWfzQC-CnXk6",
        "colab_type": "text"
      },
      "source": [
        "__Debugging tips:__\n",
        "* make sure your model predicts probabilities correctly. Just print them and see what's inside.\n",
        "* don't forget _minus_ sign in the loss function! It's a mistake 99% ppl do at some point.\n",
        "* make sure you zero-out gradients after each step. Srsly:)\n",
        "* In general, pytorch's error messages are quite helpful, read 'em before you google 'em.\n",
        "* if you see nan/inf, print what happens at each iteration to find our where exactly it occurs.\n",
        "  * If loss goes down and then turns nan midway through, try smaller learning rate. (Our current loss formula is unstable).\n"
      ]
    },
    {
      "cell_type": "markdown",
      "metadata": {
        "id": "gj1rnTfInXk8",
        "colab_type": "text"
      },
      "source": [
        "### Evaluation\n",
        "\n",
        "Let's see how our model performs on test data"
      ]
    },
    {
      "cell_type": "code",
      "metadata": {
        "id": "BLC_UWOTnXk-",
        "colab_type": "code",
        "outputId": "6a30dbb8-2854-4642-b28a-b5f533dc102d",
        "colab": {
          "base_uri": "https://localhost:8080/",
          "height": 35
        }
      },
      "source": [
        "# use your model to predict classes (0 or 1) for all test samples\n",
        "X_test_ = torch.tensor(X_test, dtype = torch.float32)\n",
        "\n",
        "predicted_y_test =  model(X_test_)[:,0]\n",
        "predicted_y_test = (predicted_y_test > 0.5).detach().numpy()\n",
        "\n",
        "assert isinstance(predicted_y_test, np.ndarray), \"please return np array, not %s\" % type(\n",
        "    predicted_y_test)\n",
        "assert predicted_y_test.shape == y_test.shape, \"please predict one class for each test sample\"\n",
        "assert np.in1d(predicted_y_test, y_test).all(), \"please predict class indexes\"\n",
        "\n",
        "accuracy = np.mean(predicted_y_test == y_test)\n",
        "\n",
        "print(\"Test accuracy: %.5f\" % accuracy)\n",
        "assert accuracy > 0.95, \"try training longer\""
      ],
      "execution_count": 111,
      "outputs": [
        {
          "output_type": "stream",
          "text": [
            "Test accuracy: 0.95624\n"
          ],
          "name": "stdout"
        }
      ]
    },
    {
      "cell_type": "markdown",
      "metadata": {
        "id": "v_RuWCK_nXlF",
        "colab_type": "text"
      },
      "source": [
        "## More about pytorch:\n",
        "* Using torch on GPU and multi-GPU - [link](http://pytorch.org/docs/master/notes/cuda.html)\n",
        "* More tutorials on pytorch - [link](http://pytorch.org/tutorials/beginner/deep_learning_60min_blitz.html)\n",
        "* Pytorch examples - a repo that implements many cool DL models in pytorch - [link](https://github.com/pytorch/examples)\n",
        "* Practical pytorch - a repo that implements some... other cool DL models... yes, in pytorch - [link](https://github.com/spro/practical-pytorch)\n",
        "* And some more - [link](https://www.reddit.com/r/pytorch/comments/6z0yeo/pytorch_and_pytorch_tricks_for_kaggle/)\n",
        "\n",
        "```\n",
        "\n",
        "```\n",
        "\n",
        "```\n",
        "\n",
        "```\n",
        "\n",
        "```\n",
        "\n",
        "```\n",
        "\n",
        "```\n",
        "\n",
        "```\n",
        "\n",
        "```\n",
        "\n",
        "```"
      ]
    }
  ]
}